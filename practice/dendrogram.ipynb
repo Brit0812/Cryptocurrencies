{
 "cells": [
  {
   "cell_type": "code",
   "execution_count": 9,
   "id": "5064e3cc",
   "metadata": {},
   "outputs": [],
   "source": [
    "import pandas as pd\n",
    "from sklearn.preprocessing import StandardScaler\n",
    "from sklearn.decomposition import PCA\n",
    "from sklearn.cluster import KMeans\n",
    "from sklearn.cluster import AgglomerativeClustering\n",
    "import hvplot.pandas"
   ]
  },
  {
   "cell_type": "code",
   "execution_count": 10,
   "id": "441a0aac",
   "metadata": {},
   "outputs": [
    {
     "data": {
      "text/html": [
       "<div>\n",
       "<style scoped>\n",
       "    .dataframe tbody tr th:only-of-type {\n",
       "        vertical-align: middle;\n",
       "    }\n",
       "\n",
       "    .dataframe tbody tr th {\n",
       "        vertical-align: top;\n",
       "    }\n",
       "\n",
       "    .dataframe thead th {\n",
       "        text-align: right;\n",
       "    }\n",
       "</style>\n",
       "<table border=\"1\" class=\"dataframe\">\n",
       "  <thead>\n",
       "    <tr style=\"text-align: right;\">\n",
       "      <th></th>\n",
       "      <th>sepal_length</th>\n",
       "      <th>sepal_width</th>\n",
       "      <th>petal_length</th>\n",
       "      <th>petal_width</th>\n",
       "    </tr>\n",
       "  </thead>\n",
       "  <tbody>\n",
       "    <tr>\n",
       "      <th>0</th>\n",
       "      <td>5.1</td>\n",
       "      <td>3.5</td>\n",
       "      <td>1.4</td>\n",
       "      <td>0.2</td>\n",
       "    </tr>\n",
       "    <tr>\n",
       "      <th>1</th>\n",
       "      <td>4.9</td>\n",
       "      <td>3.0</td>\n",
       "      <td>1.4</td>\n",
       "      <td>0.2</td>\n",
       "    </tr>\n",
       "    <tr>\n",
       "      <th>2</th>\n",
       "      <td>4.7</td>\n",
       "      <td>3.2</td>\n",
       "      <td>1.3</td>\n",
       "      <td>0.2</td>\n",
       "    </tr>\n",
       "    <tr>\n",
       "      <th>3</th>\n",
       "      <td>4.6</td>\n",
       "      <td>3.1</td>\n",
       "      <td>1.5</td>\n",
       "      <td>0.2</td>\n",
       "    </tr>\n",
       "    <tr>\n",
       "      <th>4</th>\n",
       "      <td>5.0</td>\n",
       "      <td>3.6</td>\n",
       "      <td>1.4</td>\n",
       "      <td>0.2</td>\n",
       "    </tr>\n",
       "  </tbody>\n",
       "</table>\n",
       "</div>"
      ],
      "text/plain": [
       "   sepal_length  sepal_width  petal_length  petal_width\n",
       "0           5.1          3.5           1.4          0.2\n",
       "1           4.9          3.0           1.4          0.2\n",
       "2           4.7          3.2           1.3          0.2\n",
       "3           4.6          3.1           1.5          0.2\n",
       "4           5.0          3.6           1.4          0.2"
      ]
     },
     "execution_count": 10,
     "metadata": {},
     "output_type": "execute_result"
    }
   ],
   "source": [
    "file= \"practice/new_iris_data.csv\"\n",
    "df_iris= pd.read_csv(file)\n",
    "df_iris.head()"
   ]
  },
  {
   "cell_type": "code",
   "execution_count": 11,
   "id": "72f4013b",
   "metadata": {},
   "outputs": [
    {
     "name": "stdout",
     "output_type": "stream",
     "text": [
      "[[-0.90068117  1.03205722 -1.3412724  -1.31297673]\n",
      " [-1.14301691 -0.1249576  -1.3412724  -1.31297673]\n",
      " [-1.38535265  0.33784833 -1.39813811 -1.31297673]\n",
      " [-1.50652052  0.10644536 -1.2844067  -1.31297673]\n",
      " [-1.02184904  1.26346019 -1.3412724  -1.31297673]]\n"
     ]
    }
   ],
   "source": [
    "#standardize \n",
    "iris_scaled= StandardScaler().fit_transform(df_iris)\n",
    "print(iris_scaled[0:5])"
   ]
  },
  {
   "cell_type": "code",
   "execution_count": 12,
   "id": "d5c2dd25",
   "metadata": {},
   "outputs": [],
   "source": [
    "#pca model \n",
    "pca=PCA(n_components=2)"
   ]
  },
  {
   "cell_type": "code",
   "execution_count": 13,
   "id": "19cc69b9",
   "metadata": {},
   "outputs": [],
   "source": [
    "#2 principal components\n",
    "iris_pca=pca.fit_transform(iris_scaled)"
   ]
  },
  {
   "cell_type": "code",
   "execution_count": 23,
   "id": "98b5fcf5",
   "metadata": {},
   "outputs": [
    {
     "data": {
      "text/html": [
       "<div>\n",
       "<style scoped>\n",
       "    .dataframe tbody tr th:only-of-type {\n",
       "        vertical-align: middle;\n",
       "    }\n",
       "\n",
       "    .dataframe tbody tr th {\n",
       "        vertical-align: top;\n",
       "    }\n",
       "\n",
       "    .dataframe thead th {\n",
       "        text-align: right;\n",
       "    }\n",
       "</style>\n",
       "<table border=\"1\" class=\"dataframe\">\n",
       "  <thead>\n",
       "    <tr style=\"text-align: right;\">\n",
       "      <th></th>\n",
       "      <th>principal component 1</th>\n",
       "      <th>principal component 2</th>\n",
       "    </tr>\n",
       "  </thead>\n",
       "  <tbody>\n",
       "    <tr>\n",
       "      <th>0</th>\n",
       "      <td>-2.264542</td>\n",
       "      <td>0.505704</td>\n",
       "    </tr>\n",
       "    <tr>\n",
       "      <th>1</th>\n",
       "      <td>-2.086426</td>\n",
       "      <td>-0.655405</td>\n",
       "    </tr>\n",
       "    <tr>\n",
       "      <th>2</th>\n",
       "      <td>-2.367950</td>\n",
       "      <td>-0.318477</td>\n",
       "    </tr>\n",
       "    <tr>\n",
       "      <th>3</th>\n",
       "      <td>-2.304197</td>\n",
       "      <td>-0.575368</td>\n",
       "    </tr>\n",
       "    <tr>\n",
       "      <th>4</th>\n",
       "      <td>-2.388777</td>\n",
       "      <td>0.674767</td>\n",
       "    </tr>\n",
       "  </tbody>\n",
       "</table>\n",
       "</div>"
      ],
      "text/plain": [
       "   principal component 1  principal component 2\n",
       "0              -2.264542               0.505704\n",
       "1              -2.086426              -0.655405\n",
       "2              -2.367950              -0.318477\n",
       "3              -2.304197              -0.575368\n",
       "4              -2.388777               0.674767"
      ]
     },
     "execution_count": 23,
     "metadata": {},
     "output_type": "execute_result"
    }
   ],
   "source": [
    "#pca to df \n",
    "df_iris_pca= pd.DataFrame(\n",
    "    data=iris_pca,columns=[\"principal component 1\", \"principal component 2\"]\n",
    ")\n",
    "df_iris_pca.head()"
   ]
  },
  {
   "cell_type": "code",
   "execution_count": 24,
   "id": "9cadf592",
   "metadata": {},
   "outputs": [
    {
     "data": {
      "text/plain": [
       "array([0.72770452, 0.23030523])"
      ]
     },
     "execution_count": 24,
     "metadata": {},
     "output_type": "execute_result"
    }
   ],
   "source": [
    "#explained variance\n",
    "pca.explained_variance_ratio_"
   ]
  },
  {
   "cell_type": "code",
   "execution_count": 25,
   "id": "2f5db052",
   "metadata": {},
   "outputs": [],
   "source": [
    "inertia=[]\n",
    "k=list(range(1,11))\n",
    "for i in k:\n",
    "    km=KMeans(n_clusters=i, random_state=0)\n",
    "    km.fit(df_iris_pca)\n",
    "    inertia.append(km.inertia_)"
   ]
  },
  {
   "cell_type": "code",
   "execution_count": 26,
   "id": "d5f1a077",
   "metadata": {},
   "outputs": [
    {
     "data": {
      "text/html": [
       "<div>\n",
       "<style scoped>\n",
       "    .dataframe tbody tr th:only-of-type {\n",
       "        vertical-align: middle;\n",
       "    }\n",
       "\n",
       "    .dataframe tbody tr th {\n",
       "        vertical-align: top;\n",
       "    }\n",
       "\n",
       "    .dataframe thead th {\n",
       "        text-align: right;\n",
       "    }\n",
       "</style>\n",
       "<table border=\"1\" class=\"dataframe\">\n",
       "  <thead>\n",
       "    <tr style=\"text-align: right;\">\n",
       "      <th></th>\n",
       "      <th>principal component 1</th>\n",
       "      <th>principal component 2</th>\n",
       "      <th>class</th>\n",
       "    </tr>\n",
       "  </thead>\n",
       "  <tbody>\n",
       "    <tr>\n",
       "      <th>0</th>\n",
       "      <td>-2.264542</td>\n",
       "      <td>0.505704</td>\n",
       "      <td>0</td>\n",
       "    </tr>\n",
       "    <tr>\n",
       "      <th>1</th>\n",
       "      <td>-2.086426</td>\n",
       "      <td>-0.655405</td>\n",
       "      <td>0</td>\n",
       "    </tr>\n",
       "    <tr>\n",
       "      <th>2</th>\n",
       "      <td>-2.367950</td>\n",
       "      <td>-0.318477</td>\n",
       "      <td>0</td>\n",
       "    </tr>\n",
       "    <tr>\n",
       "      <th>3</th>\n",
       "      <td>-2.304197</td>\n",
       "      <td>-0.575368</td>\n",
       "      <td>0</td>\n",
       "    </tr>\n",
       "    <tr>\n",
       "      <th>4</th>\n",
       "      <td>-2.388777</td>\n",
       "      <td>0.674767</td>\n",
       "      <td>0</td>\n",
       "    </tr>\n",
       "  </tbody>\n",
       "</table>\n",
       "</div>"
      ],
      "text/plain": [
       "   principal component 1  principal component 2  class\n",
       "0              -2.264542               0.505704      0\n",
       "1              -2.086426              -0.655405      0\n",
       "2              -2.367950              -0.318477      0\n",
       "3              -2.304197              -0.575368      0\n",
       "4              -2.388777               0.674767      0"
      ]
     },
     "execution_count": 26,
     "metadata": {},
     "output_type": "execute_result"
    }
   ],
   "source": [
    "model= KMeans(n_clusters=3, random_state= 0)\n",
    "model.fit(df_iris_pca)\n",
    "predictions= model.predict(df_iris_pca)\n",
    "df_iris_pca[\"class\"]=model.labels_\n",
    "df_iris_pca.head()"
   ]
  },
  {
   "cell_type": "code",
   "execution_count": 27,
   "id": "39e464a0",
   "metadata": {},
   "outputs": [],
   "source": [
    "import plotly.figure_factory as ff"
   ]
  },
  {
   "cell_type": "code",
   "execution_count": 28,
   "id": "8deacbe0",
   "metadata": {},
   "outputs": [
    {
     "data": {
      "application/vnd.plotly.v1+json": {
       "config": {
        "plotlyServerURL": "https://plot.ly"
       },
       "data": [
        {
         "hoverinfo": "text",
         "marker": {
          "color": "rgb(0,116,217)"
         },
         "mode": "lines",
         "type": "scatter",
         "x": [
          25,
          25,
          35,
          35
         ],
         "xaxis": "x",
         "y": [
          0,
          0.07485825263999085,
          0.07485825263999085,
          0
         ],
         "yaxis": "y"
        },
        {
         "hoverinfo": "text",
         "marker": {
          "color": "rgb(0,116,217)"
         },
         "mode": "lines",
         "type": "scatter",
         "x": [
          15,
          15,
          30,
          30
         ],
         "xaxis": "x",
         "y": [
          0,
          0.35722646540345643,
          0.35722646540345643,
          0.07485825263999085
         ],
         "yaxis": "y"
        },
        {
         "hoverinfo": "text",
         "marker": {
          "color": "rgb(0,116,217)"
         },
         "mode": "lines",
         "type": "scatter",
         "x": [
          5,
          5,
          22.5,
          22.5
         ],
         "xaxis": "x",
         "y": [
          0,
          0.5727707745592826,
          0.5727707745592826,
          0.35722646540345643
         ],
         "yaxis": "y"
        },
        {
         "hoverinfo": "text",
         "marker": {
          "color": "rgb(0,116,217)"
         },
         "mode": "lines",
         "type": "scatter",
         "x": [
          65,
          65,
          75,
          75
         ],
         "xaxis": "x",
         "y": [
          0,
          0.17422385269037702,
          0.17422385269037702,
          0
         ],
         "yaxis": "y"
        },
        {
         "hoverinfo": "text",
         "marker": {
          "color": "rgb(0,116,217)"
         },
         "mode": "lines",
         "type": "scatter",
         "x": [
          55,
          55,
          70,
          70
         ],
         "xaxis": "x",
         "y": [
          0,
          0.38374369539585446,
          0.38374369539585446,
          0.17422385269037702
         ],
         "yaxis": "y"
        },
        {
         "hoverinfo": "text",
         "marker": {
          "color": "rgb(0,116,217)"
         },
         "mode": "lines",
         "type": "scatter",
         "x": [
          95,
          95,
          105,
          105
         ],
         "xaxis": "x",
         "y": [
          0,
          0.07319361257252487,
          0.07319361257252487,
          0
         ],
         "yaxis": "y"
        },
        {
         "hoverinfo": "text",
         "marker": {
          "color": "rgb(0,116,217)"
         },
         "mode": "lines",
         "type": "scatter",
         "x": [
          85,
          85,
          100,
          100
         ],
         "xaxis": "x",
         "y": [
          0,
          0.45738576876521614,
          0.45738576876521614,
          0.07319361257252487
         ],
         "yaxis": "y"
        },
        {
         "hoverinfo": "text",
         "marker": {
          "color": "rgb(0,116,217)"
         },
         "mode": "lines",
         "type": "scatter",
         "x": [
          62.5,
          62.5,
          92.5,
          92.5
         ],
         "xaxis": "x",
         "y": [
          0.38374369539585446,
          0.7092374678608772,
          0.7092374678608772,
          0.45738576876521614
         ],
         "yaxis": "y"
        },
        {
         "hoverinfo": "text",
         "marker": {
          "color": "rgb(0,116,217)"
         },
         "mode": "lines",
         "type": "scatter",
         "x": [
          45,
          45,
          77.5,
          77.5
         ],
         "xaxis": "x",
         "y": [
          0,
          1.2353990195988576,
          1.2353990195988576,
          0.7092374678608772
         ],
         "yaxis": "y"
        },
        {
         "hoverinfo": "text",
         "marker": {
          "color": "rgb(0,116,217)"
         },
         "mode": "lines",
         "type": "scatter",
         "x": [
          13.75,
          13.75,
          61.25,
          61.25
         ],
         "xaxis": "x",
         "y": [
          0.5727707745592826,
          1.7623115910084446,
          1.7623115910084446,
          1.2353990195988576
         ],
         "yaxis": "y"
        },
        {
         "hoverinfo": "text",
         "marker": {
          "color": "rgb(0,116,217)"
         },
         "mode": "lines",
         "type": "scatter",
         "x": [
          125,
          125,
          135,
          135
         ],
         "xaxis": "x",
         "y": [
          0,
          0.13975972015707552,
          0.13975972015707552,
          0
         ],
         "yaxis": "y"
        },
        {
         "hoverinfo": "text",
         "marker": {
          "color": "rgb(0,116,217)"
         },
         "mode": "lines",
         "type": "scatter",
         "x": [
          115,
          115,
          130,
          130
         ],
         "xaxis": "x",
         "y": [
          0,
          0.7064096921199924,
          0.7064096921199924,
          0.13975972015707552
         ],
         "yaxis": "y"
        },
        {
         "hoverinfo": "text",
         "marker": {
          "color": "rgb(0,116,217)"
         },
         "mode": "lines",
         "type": "scatter",
         "x": [
          155,
          155,
          165,
          165
         ],
         "xaxis": "x",
         "y": [
          0,
          0.14692610447676596,
          0.14692610447676596,
          0
         ],
         "yaxis": "y"
        },
        {
         "hoverinfo": "text",
         "marker": {
          "color": "rgb(0,116,217)"
         },
         "mode": "lines",
         "type": "scatter",
         "x": [
          145,
          145,
          160,
          160
         ],
         "xaxis": "x",
         "y": [
          0,
          0.31179555833794165,
          0.31179555833794165,
          0.14692610447676596
         ],
         "yaxis": "y"
        },
        {
         "hoverinfo": "text",
         "marker": {
          "color": "rgb(0,116,217)"
         },
         "mode": "lines",
         "type": "scatter",
         "x": [
          195,
          195,
          205,
          205
         ],
         "xaxis": "x",
         "y": [
          0,
          0.13710992661168947,
          0.13710992661168947,
          0
         ],
         "yaxis": "y"
        },
        {
         "hoverinfo": "text",
         "marker": {
          "color": "rgb(0,116,217)"
         },
         "mode": "lines",
         "type": "scatter",
         "x": [
          185,
          185,
          200,
          200
         ],
         "xaxis": "x",
         "y": [
          0,
          0.32785699012283254,
          0.32785699012283254,
          0.13710992661168947
         ],
         "yaxis": "y"
        },
        {
         "hoverinfo": "text",
         "marker": {
          "color": "rgb(0,116,217)"
         },
         "mode": "lines",
         "type": "scatter",
         "x": [
          175,
          175,
          192.5,
          192.5
         ],
         "xaxis": "x",
         "y": [
          0,
          0.4019296896133169,
          0.4019296896133169,
          0.32785699012283254
         ],
         "yaxis": "y"
        },
        {
         "hoverinfo": "text",
         "marker": {
          "color": "rgb(0,116,217)"
         },
         "mode": "lines",
         "type": "scatter",
         "x": [
          152.5,
          152.5,
          183.75,
          183.75
         ],
         "xaxis": "x",
         "y": [
          0.31179555833794165,
          0.6189575064916503,
          0.6189575064916503,
          0.4019296896133169
         ],
         "yaxis": "y"
        },
        {
         "hoverinfo": "text",
         "marker": {
          "color": "rgb(0,116,217)"
         },
         "mode": "lines",
         "type": "scatter",
         "x": [
          225,
          225,
          235,
          235
         ],
         "xaxis": "x",
         "y": [
          0,
          0.04280635802071503,
          0.04280635802071503,
          0
         ],
         "yaxis": "y"
        },
        {
         "hoverinfo": "text",
         "marker": {
          "color": "rgb(0,116,217)"
         },
         "mode": "lines",
         "type": "scatter",
         "x": [
          245,
          245,
          255,
          255
         ],
         "xaxis": "x",
         "y": [
          0,
          0.06306517628686403,
          0.06306517628686403,
          0
         ],
         "yaxis": "y"
        },
        {
         "hoverinfo": "text",
         "marker": {
          "color": "rgb(0,116,217)"
         },
         "mode": "lines",
         "type": "scatter",
         "x": [
          230,
          230,
          250,
          250
         ],
         "xaxis": "x",
         "y": [
          0.04280635802071503,
          0.18851634764369507,
          0.18851634764369507,
          0.06306517628686403
         ],
         "yaxis": "y"
        },
        {
         "hoverinfo": "text",
         "marker": {
          "color": "rgb(0,116,217)"
         },
         "mode": "lines",
         "type": "scatter",
         "x": [
          215,
          215,
          240,
          240
         ],
         "xaxis": "x",
         "y": [
          0,
          0.23451818445284833,
          0.23451818445284833,
          0.18851634764369507
         ],
         "yaxis": "y"
        },
        {
         "hoverinfo": "text",
         "marker": {
          "color": "rgb(0,116,217)"
         },
         "mode": "lines",
         "type": "scatter",
         "x": [
          275,
          275,
          285,
          285
         ],
         "xaxis": "x",
         "y": [
          0,
          0.03437215474252779,
          0.03437215474252779,
          0
         ],
         "yaxis": "y"
        },
        {
         "hoverinfo": "text",
         "marker": {
          "color": "rgb(0,116,217)"
         },
         "mode": "lines",
         "type": "scatter",
         "x": [
          265,
          265,
          280,
          280
         ],
         "xaxis": "x",
         "y": [
          0,
          0.12422212395013323,
          0.12422212395013323,
          0.03437215474252779
         ],
         "yaxis": "y"
        },
        {
         "hoverinfo": "text",
         "marker": {
          "color": "rgb(0,116,217)"
         },
         "mode": "lines",
         "type": "scatter",
         "x": [
          315,
          315,
          325,
          325
         ],
         "xaxis": "x",
         "y": [
          0,
          0.05139741229310803,
          0.05139741229310803,
          0
         ],
         "yaxis": "y"
        },
        {
         "hoverinfo": "text",
         "marker": {
          "color": "rgb(0,116,217)"
         },
         "mode": "lines",
         "type": "scatter",
         "x": [
          305,
          305,
          320,
          320
         ],
         "xaxis": "x",
         "y": [
          0,
          0.13615265946754612,
          0.13615265946754612,
          0.05139741229310803
         ],
         "yaxis": "y"
        },
        {
         "hoverinfo": "text",
         "marker": {
          "color": "rgb(0,116,217)"
         },
         "mode": "lines",
         "type": "scatter",
         "x": [
          295,
          295,
          312.5,
          312.5
         ],
         "xaxis": "x",
         "y": [
          0,
          0.17403345329248457,
          0.17403345329248457,
          0.13615265946754612
         ],
         "yaxis": "y"
        },
        {
         "hoverinfo": "text",
         "marker": {
          "color": "rgb(0,116,217)"
         },
         "mode": "lines",
         "type": "scatter",
         "x": [
          272.5,
          272.5,
          303.75,
          303.75
         ],
         "xaxis": "x",
         "y": [
          0.12422212395013323,
          0.3964003204597165,
          0.3964003204597165,
          0.17403345329248457
         ],
         "yaxis": "y"
        },
        {
         "hoverinfo": "text",
         "marker": {
          "color": "rgb(0,116,217)"
         },
         "mode": "lines",
         "type": "scatter",
         "x": [
          227.5,
          227.5,
          288.125,
          288.125
         ],
         "xaxis": "x",
         "y": [
          0.23451818445284833,
          0.7690855005091025,
          0.7690855005091025,
          0.3964003204597165
         ],
         "yaxis": "y"
        },
        {
         "hoverinfo": "text",
         "marker": {
          "color": "rgb(0,116,217)"
         },
         "mode": "lines",
         "type": "scatter",
         "x": [
          168.125,
          168.125,
          257.8125,
          257.8125
         ],
         "xaxis": "x",
         "y": [
          0.6189575064916503,
          0.9542697637012866,
          0.9542697637012866,
          0.7690855005091025
         ],
         "yaxis": "y"
        },
        {
         "hoverinfo": "text",
         "marker": {
          "color": "rgb(0,116,217)"
         },
         "mode": "lines",
         "type": "scatter",
         "x": [
          335,
          335,
          345,
          345
         ],
         "xaxis": "x",
         "y": [
          0,
          0.3260194072991155,
          0.3260194072991155,
          0
         ],
         "yaxis": "y"
        },
        {
         "hoverinfo": "text",
         "marker": {
          "color": "rgb(0,116,217)"
         },
         "mode": "lines",
         "type": "scatter",
         "x": [
          355,
          355,
          365,
          365
         ],
         "xaxis": "x",
         "y": [
          0,
          0.1873234129962439,
          0.1873234129962439,
          0
         ],
         "yaxis": "y"
        },
        {
         "hoverinfo": "text",
         "marker": {
          "color": "rgb(0,116,217)"
         },
         "mode": "lines",
         "type": "scatter",
         "x": [
          375,
          375,
          385,
          385
         ],
         "xaxis": "x",
         "y": [
          0,
          0.051397412293108444,
          0.051397412293108444,
          0
         ],
         "yaxis": "y"
        },
        {
         "hoverinfo": "text",
         "marker": {
          "color": "rgb(0,116,217)"
         },
         "mode": "lines",
         "type": "scatter",
         "x": [
          395,
          395,
          405,
          405
         ],
         "xaxis": "x",
         "y": [
          0,
          0.09410402468181801,
          0.09410402468181801,
          0
         ],
         "yaxis": "y"
        },
        {
         "hoverinfo": "text",
         "marker": {
          "color": "rgb(0,116,217)"
         },
         "mode": "lines",
         "type": "scatter",
         "x": [
          380,
          380,
          400,
          400
         ],
         "xaxis": "x",
         "y": [
          0.051397412293108444,
          0.23318427572456601,
          0.23318427572456601,
          0.09410402468181801
         ],
         "yaxis": "y"
        },
        {
         "hoverinfo": "text",
         "marker": {
          "color": "rgb(0,116,217)"
         },
         "mode": "lines",
         "type": "scatter",
         "x": [
          360,
          360,
          390,
          390
         ],
         "xaxis": "x",
         "y": [
          0.1873234129962439,
          0.5133379090025223,
          0.5133379090025223,
          0.23318427572456601
         ],
         "yaxis": "y"
        },
        {
         "hoverinfo": "text",
         "marker": {
          "color": "rgb(0,116,217)"
         },
         "mode": "lines",
         "type": "scatter",
         "x": [
          415,
          415,
          425,
          425
         ],
         "xaxis": "x",
         "y": [
          0,
          0.23595263025062035,
          0.23595263025062035,
          0
         ],
         "yaxis": "y"
        },
        {
         "hoverinfo": "text",
         "marker": {
          "color": "rgb(0,116,217)"
         },
         "mode": "lines",
         "type": "scatter",
         "x": [
          455,
          455,
          465,
          465
         ],
         "xaxis": "x",
         "y": [
          0,
          0.1685905140421095,
          0.1685905140421095,
          0
         ],
         "yaxis": "y"
        },
        {
         "hoverinfo": "text",
         "marker": {
          "color": "rgb(0,116,217)"
         },
         "mode": "lines",
         "type": "scatter",
         "x": [
          445,
          445,
          460,
          460
         ],
         "xaxis": "x",
         "y": [
          0,
          0.19625016991683594,
          0.19625016991683594,
          0.1685905140421095
         ],
         "yaxis": "y"
        },
        {
         "hoverinfo": "text",
         "marker": {
          "color": "rgb(0,116,217)"
         },
         "mode": "lines",
         "type": "scatter",
         "x": [
          435,
          435,
          452.5,
          452.5
         ],
         "xaxis": "x",
         "y": [
          0,
          0.33339670250867237,
          0.33339670250867237,
          0.19625016991683594
         ],
         "yaxis": "y"
        },
        {
         "hoverinfo": "text",
         "marker": {
          "color": "rgb(0,116,217)"
         },
         "mode": "lines",
         "type": "scatter",
         "x": [
          420,
          420,
          443.75,
          443.75
         ],
         "xaxis": "x",
         "y": [
          0.23595263025062035,
          0.6055813724162807,
          0.6055813724162807,
          0.33339670250867237
         ],
         "yaxis": "y"
        },
        {
         "hoverinfo": "text",
         "marker": {
          "color": "rgb(0,116,217)"
         },
         "mode": "lines",
         "type": "scatter",
         "x": [
          375,
          375,
          431.875,
          431.875
         ],
         "xaxis": "x",
         "y": [
          0.5133379090025223,
          0.9588877899651141,
          0.9588877899651141,
          0.6055813724162807
         ],
         "yaxis": "y"
        },
        {
         "hoverinfo": "text",
         "marker": {
          "color": "rgb(0,116,217)"
         },
         "mode": "lines",
         "type": "scatter",
         "x": [
          340,
          340,
          403.4375,
          403.4375
         ],
         "xaxis": "x",
         "y": [
          0.3260194072991155,
          1.3539364891861474,
          1.3539364891861474,
          0.9588877899651141
         ],
         "yaxis": "y"
        },
        {
         "hoverinfo": "text",
         "marker": {
          "color": "rgb(0,116,217)"
         },
         "mode": "lines",
         "type": "scatter",
         "x": [
          212.96875,
          212.96875,
          371.71875,
          371.71875
         ],
         "xaxis": "x",
         "y": [
          0.9542697637012866,
          1.6115535631620228,
          1.6115535631620228,
          1.3539364891861474
         ],
         "yaxis": "y"
        },
        {
         "hoverinfo": "text",
         "marker": {
          "color": "rgb(0,116,217)"
         },
         "mode": "lines",
         "type": "scatter",
         "x": [
          122.5,
          122.5,
          292.34375,
          292.34375
         ],
         "xaxis": "x",
         "y": [
          0.7064096921199924,
          2.9094958448937702,
          2.9094958448937702,
          1.6115535631620228
         ],
         "yaxis": "y"
        },
        {
         "hoverinfo": "text",
         "marker": {
          "color": "rgb(0,116,217)"
         },
         "mode": "lines",
         "type": "scatter",
         "x": [
          37.5,
          37.5,
          207.421875,
          207.421875
         ],
         "xaxis": "x",
         "y": [
          1.7623115910084446,
          3.3647650645415395,
          3.3647650645415395,
          2.9094958448937702
         ],
         "yaxis": "y"
        },
        {
         "hoverinfo": "text",
         "marker": {
          "color": "rgb(0,116,217)"
         },
         "mode": "lines",
         "type": "scatter",
         "x": [
          495,
          495,
          505,
          505
         ],
         "xaxis": "x",
         "y": [
          0,
          0.3842101223880745,
          0.3842101223880745,
          0
         ],
         "yaxis": "y"
        },
        {
         "hoverinfo": "text",
         "marker": {
          "color": "rgb(0,116,217)"
         },
         "mode": "lines",
         "type": "scatter",
         "x": [
          485,
          485,
          500,
          500
         ],
         "xaxis": "x",
         "y": [
          0,
          0.4204342005618244,
          0.4204342005618244,
          0.3842101223880745
         ],
         "yaxis": "y"
        },
        {
         "hoverinfo": "text",
         "marker": {
          "color": "rgb(0,116,217)"
         },
         "mode": "lines",
         "type": "scatter",
         "x": [
          475,
          475,
          492.5,
          492.5
         ],
         "xaxis": "x",
         "y": [
          0,
          0.9624508321318382,
          0.9624508321318382,
          0.4204342005618244
         ],
         "yaxis": "y"
        },
        {
         "hoverinfo": "text",
         "marker": {
          "color": "rgb(0,116,217)"
         },
         "mode": "lines",
         "type": "scatter",
         "x": [
          515,
          515,
          525,
          525
         ],
         "xaxis": "x",
         "y": [
          0,
          0.04196686728486595,
          0.04196686728486595,
          0
         ],
         "yaxis": "y"
        },
        {
         "hoverinfo": "text",
         "marker": {
          "color": "rgb(0,116,217)"
         },
         "mode": "lines",
         "type": "scatter",
         "x": [
          535,
          535,
          545,
          545
         ],
         "xaxis": "x",
         "y": [
          0,
          0.07630648304882538,
          0.07630648304882538,
          0
         ],
         "yaxis": "y"
        },
        {
         "hoverinfo": "text",
         "marker": {
          "color": "rgb(0,116,217)"
         },
         "mode": "lines",
         "type": "scatter",
         "x": [
          555,
          555,
          565,
          565
         ],
         "xaxis": "x",
         "y": [
          0,
          0.10523708126474778,
          0.10523708126474778,
          0
         ],
         "yaxis": "y"
        },
        {
         "hoverinfo": "text",
         "marker": {
          "color": "rgb(0,116,217)"
         },
         "mode": "lines",
         "type": "scatter",
         "x": [
          540,
          540,
          560,
          560
         ],
         "xaxis": "x",
         "y": [
          0.07630648304882538,
          0.23028186877490892,
          0.23028186877490892,
          0.10523708126474778
         ],
         "yaxis": "y"
        },
        {
         "hoverinfo": "text",
         "marker": {
          "color": "rgb(0,116,217)"
         },
         "mode": "lines",
         "type": "scatter",
         "x": [
          520,
          520,
          550,
          550
         ],
         "xaxis": "x",
         "y": [
          0.04196686728486595,
          0.26545343806974486,
          0.26545343806974486,
          0.23028186877490892
         ],
         "yaxis": "y"
        },
        {
         "hoverinfo": "text",
         "marker": {
          "color": "rgb(0,116,217)"
         },
         "mode": "lines",
         "type": "scatter",
         "x": [
          585,
          585,
          595,
          595
         ],
         "xaxis": "x",
         "y": [
          0,
          0.1323007134033603,
          0.1323007134033603,
          0
         ],
         "yaxis": "y"
        },
        {
         "hoverinfo": "text",
         "marker": {
          "color": "rgb(0,116,217)"
         },
         "mode": "lines",
         "type": "scatter",
         "x": [
          575,
          575,
          590,
          590
         ],
         "xaxis": "x",
         "y": [
          0,
          0.3195470042292061,
          0.3195470042292061,
          0.1323007134033603
         ],
         "yaxis": "y"
        },
        {
         "hoverinfo": "text",
         "marker": {
          "color": "rgb(0,116,217)"
         },
         "mode": "lines",
         "type": "scatter",
         "x": [
          535,
          535,
          582.5,
          582.5
         ],
         "xaxis": "x",
         "y": [
          0.26545343806974486,
          0.5817597519203278,
          0.5817597519203278,
          0.3195470042292061
         ],
         "yaxis": "y"
        },
        {
         "hoverinfo": "text",
         "marker": {
          "color": "rgb(0,116,217)"
         },
         "mode": "lines",
         "type": "scatter",
         "x": [
          625,
          625,
          635,
          635
         ],
         "xaxis": "x",
         "y": [
          0,
          0.04365285472512131,
          0.04365285472512131,
          0
         ],
         "yaxis": "y"
        },
        {
         "hoverinfo": "text",
         "marker": {
          "color": "rgb(0,116,217)"
         },
         "mode": "lines",
         "type": "scatter",
         "x": [
          645,
          645,
          655,
          655
         ],
         "xaxis": "x",
         "y": [
          0,
          0.04365285472512305,
          0.04365285472512305,
          0
         ],
         "yaxis": "y"
        },
        {
         "hoverinfo": "text",
         "marker": {
          "color": "rgb(0,116,217)"
         },
         "mode": "lines",
         "type": "scatter",
         "x": [
          630,
          630,
          650,
          650
         ],
         "xaxis": "x",
         "y": [
          0.04365285472512131,
          0.14513097895344734,
          0.14513097895344734,
          0.04365285472512305
         ],
         "yaxis": "y"
        },
        {
         "hoverinfo": "text",
         "marker": {
          "color": "rgb(0,116,217)"
         },
         "mode": "lines",
         "type": "scatter",
         "x": [
          615,
          615,
          640,
          640
         ],
         "xaxis": "x",
         "y": [
          0,
          0.2553227356318865,
          0.2553227356318865,
          0.14513097895344734
         ],
         "yaxis": "y"
        },
        {
         "hoverinfo": "text",
         "marker": {
          "color": "rgb(0,116,217)"
         },
         "mode": "lines",
         "type": "scatter",
         "x": [
          685,
          685,
          695,
          695
         ],
         "xaxis": "x",
         "y": [
          0,
          0.08337577355010818,
          0.08337577355010818,
          0
         ],
         "yaxis": "y"
        },
        {
         "hoverinfo": "text",
         "marker": {
          "color": "rgb(0,116,217)"
         },
         "mode": "lines",
         "type": "scatter",
         "x": [
          675,
          675,
          690,
          690
         ],
         "xaxis": "x",
         "y": [
          0,
          0.14223637132454772,
          0.14223637132454772,
          0.08337577355010818
         ],
         "yaxis": "y"
        },
        {
         "hoverinfo": "text",
         "marker": {
          "color": "rgb(0,116,217)"
         },
         "mode": "lines",
         "type": "scatter",
         "x": [
          665,
          665,
          682.5,
          682.5
         ],
         "xaxis": "x",
         "y": [
          0,
          0.3203095029423258,
          0.3203095029423258,
          0.14223637132454772
         ],
         "yaxis": "y"
        },
        {
         "hoverinfo": "text",
         "marker": {
          "color": "rgb(0,116,217)"
         },
         "mode": "lines",
         "type": "scatter",
         "x": [
          627.5,
          627.5,
          673.75,
          673.75
         ],
         "xaxis": "x",
         "y": [
          0.2553227356318865,
          0.6022795159216788,
          0.6022795159216788,
          0.3203095029423258
         ],
         "yaxis": "y"
        },
        {
         "hoverinfo": "text",
         "marker": {
          "color": "rgb(0,116,217)"
         },
         "mode": "lines",
         "type": "scatter",
         "x": [
          725,
          725,
          735,
          735
         ],
         "xaxis": "x",
         "y": [
          0,
          0.05331907673260638,
          0.05331907673260638,
          0
         ],
         "yaxis": "y"
        },
        {
         "hoverinfo": "text",
         "marker": {
          "color": "rgb(0,116,217)"
         },
         "mode": "lines",
         "type": "scatter",
         "x": [
          715,
          715,
          730,
          730
         ],
         "xaxis": "x",
         "y": [
          0,
          0.12145780184386158,
          0.12145780184386158,
          0.05331907673260638
         ],
         "yaxis": "y"
        },
        {
         "hoverinfo": "text",
         "marker": {
          "color": "rgb(0,116,217)"
         },
         "mode": "lines",
         "type": "scatter",
         "x": [
          705,
          705,
          722.5,
          722.5
         ],
         "xaxis": "x",
         "y": [
          0,
          0.396461975808205,
          0.396461975808205,
          0.12145780184386158
         ],
         "yaxis": "y"
        },
        {
         "hoverinfo": "text",
         "marker": {
          "color": "rgb(0,116,217)"
         },
         "mode": "lines",
         "type": "scatter",
         "x": [
          745,
          745,
          755,
          755
         ],
         "xaxis": "x",
         "y": [
          0,
          0.21663725311855764,
          0.21663725311855764,
          0
         ],
         "yaxis": "y"
        },
        {
         "hoverinfo": "text",
         "marker": {
          "color": "rgb(0,116,217)"
         },
         "mode": "lines",
         "type": "scatter",
         "x": [
          785,
          785,
          795,
          795
         ],
         "xaxis": "x",
         "y": [
          0,
          0.08561271604142949,
          0.08561271604142949,
          0
         ],
         "yaxis": "y"
        },
        {
         "hoverinfo": "text",
         "marker": {
          "color": "rgb(0,116,217)"
         },
         "mode": "lines",
         "type": "scatter",
         "x": [
          775,
          775,
          790,
          790
         ],
         "xaxis": "x",
         "y": [
          0,
          0.12913046641489961,
          0.12913046641489961,
          0.08561271604142949
         ],
         "yaxis": "y"
        },
        {
         "hoverinfo": "text",
         "marker": {
          "color": "rgb(0,116,217)"
         },
         "mode": "lines",
         "type": "scatter",
         "x": [
          765,
          765,
          782.5,
          782.5
         ],
         "xaxis": "x",
         "y": [
          0,
          0.2735606229099881,
          0.2735606229099881,
          0.12913046641489961
         ],
         "yaxis": "y"
        },
        {
         "hoverinfo": "text",
         "marker": {
          "color": "rgb(0,116,217)"
         },
         "mode": "lines",
         "type": "scatter",
         "x": [
          750,
          750,
          773.75,
          773.75
         ],
         "xaxis": "x",
         "y": [
          0.21663725311855764,
          0.4325489512436782,
          0.4325489512436782,
          0.2735606229099881
         ],
         "yaxis": "y"
        },
        {
         "hoverinfo": "text",
         "marker": {
          "color": "rgb(0,116,217)"
         },
         "mode": "lines",
         "type": "scatter",
         "x": [
          713.75,
          713.75,
          761.875,
          761.875
         ],
         "xaxis": "x",
         "y": [
          0.396461975808205,
          0.6261276907800093,
          0.6261276907800093,
          0.4325489512436782
         ],
         "yaxis": "y"
        },
        {
         "hoverinfo": "text",
         "marker": {
          "color": "rgb(0,116,217)"
         },
         "mode": "lines",
         "type": "scatter",
         "x": [
          650.625,
          650.625,
          737.8125,
          737.8125
         ],
         "xaxis": "x",
         "y": [
          0.6022795159216788,
          0.885134162860279,
          0.885134162860279,
          0.6261276907800093
         ],
         "yaxis": "y"
        },
        {
         "hoverinfo": "text",
         "marker": {
          "color": "rgb(0,116,217)"
         },
         "mode": "lines",
         "type": "scatter",
         "x": [
          605,
          605,
          694.21875,
          694.21875
         ],
         "xaxis": "x",
         "y": [
          0,
          1.0276987650236056,
          1.0276987650236056,
          0.885134162860279
         ],
         "yaxis": "y"
        },
        {
         "hoverinfo": "text",
         "marker": {
          "color": "rgb(0,116,217)"
         },
         "mode": "lines",
         "type": "scatter",
         "x": [
          558.75,
          558.75,
          649.609375,
          649.609375
         ],
         "xaxis": "x",
         "y": [
          0.5817597519203278,
          1.7086794888692804,
          1.7086794888692804,
          1.0276987650236056
         ],
         "yaxis": "y"
        },
        {
         "hoverinfo": "text",
         "marker": {
          "color": "rgb(0,116,217)"
         },
         "mode": "lines",
         "type": "scatter",
         "x": [
          483.75,
          483.75,
          604.1796875,
          604.1796875
         ],
         "xaxis": "x",
         "y": [
          0.9624508321318382,
          2.9069888715125742,
          2.9069888715125742,
          1.7086794888692804
         ],
         "yaxis": "y"
        },
        {
         "hoverinfo": "text",
         "marker": {
          "color": "rgb(0,116,217)"
         },
         "mode": "lines",
         "type": "scatter",
         "x": [
          825,
          825,
          835,
          835
         ],
         "xaxis": "x",
         "y": [
          0,
          0.21134902766696692,
          0.21134902766696692,
          0
         ],
         "yaxis": "y"
        },
        {
         "hoverinfo": "text",
         "marker": {
          "color": "rgb(0,116,217)"
         },
         "mode": "lines",
         "type": "scatter",
         "x": [
          815,
          815,
          830,
          830
         ],
         "xaxis": "x",
         "y": [
          0,
          0.3365510487865416,
          0.3365510487865416,
          0.21134902766696692
         ],
         "yaxis": "y"
        },
        {
         "hoverinfo": "text",
         "marker": {
          "color": "rgb(0,116,217)"
         },
         "mode": "lines",
         "type": "scatter",
         "x": [
          865,
          865,
          875,
          875
         ],
         "xaxis": "x",
         "y": [
          0,
          0.05331907673260718,
          0.05331907673260718,
          0
         ],
         "yaxis": "y"
        },
        {
         "hoverinfo": "text",
         "marker": {
          "color": "rgb(0,116,217)"
         },
         "mode": "lines",
         "type": "scatter",
         "x": [
          855,
          855,
          870,
          870
         ],
         "xaxis": "x",
         "y": [
          0,
          0.13784829338354568,
          0.13784829338354568,
          0.05331907673260718
         ],
         "yaxis": "y"
        },
        {
         "hoverinfo": "text",
         "marker": {
          "color": "rgb(0,116,217)"
         },
         "mode": "lines",
         "type": "scatter",
         "x": [
          845,
          845,
          862.5,
          862.5
         ],
         "xaxis": "x",
         "y": [
          0,
          0.32070277540188236,
          0.32070277540188236,
          0.13784829338354568
         ],
         "yaxis": "y"
        },
        {
         "hoverinfo": "text",
         "marker": {
          "color": "rgb(0,116,217)"
         },
         "mode": "lines",
         "type": "scatter",
         "x": [
          895,
          895,
          905,
          905
         ],
         "xaxis": "x",
         "y": [
          0,
          0.03815324152441456,
          0.03815324152441456,
          0
         ],
         "yaxis": "y"
        },
        {
         "hoverinfo": "text",
         "marker": {
          "color": "rgb(0,116,217)"
         },
         "mode": "lines",
         "type": "scatter",
         "x": [
          885,
          885,
          900,
          900
         ],
         "xaxis": "x",
         "y": [
          0,
          0.14513097895344781,
          0.14513097895344781,
          0.03815324152441456
         ],
         "yaxis": "y"
        },
        {
         "hoverinfo": "text",
         "marker": {
          "color": "rgb(0,116,217)"
         },
         "mode": "lines",
         "type": "scatter",
         "x": [
          935,
          935,
          945,
          945
         ],
         "xaxis": "x",
         "y": [
          0,
          0,
          0,
          0
         ],
         "yaxis": "y"
        },
        {
         "hoverinfo": "text",
         "marker": {
          "color": "rgb(0,116,217)"
         },
         "mode": "lines",
         "type": "scatter",
         "x": [
          925,
          925,
          940,
          940
         ],
         "xaxis": "x",
         "y": [
          0,
          0,
          0,
          0
         ],
         "yaxis": "y"
        },
        {
         "hoverinfo": "text",
         "marker": {
          "color": "rgb(0,116,217)"
         },
         "mode": "lines",
         "type": "scatter",
         "x": [
          915,
          915,
          932.5,
          932.5
         ],
         "xaxis": "x",
         "y": [
          0,
          0.05651285515586215,
          0.05651285515586215,
          0
         ],
         "yaxis": "y"
        },
        {
         "hoverinfo": "text",
         "marker": {
          "color": "rgb(0,116,217)"
         },
         "mode": "lines",
         "type": "scatter",
         "x": [
          955,
          955,
          965,
          965
         ],
         "xaxis": "x",
         "y": [
          0,
          0.15590864319878062,
          0.15590864319878062,
          0
         ],
         "yaxis": "y"
        },
        {
         "hoverinfo": "text",
         "marker": {
          "color": "rgb(0,116,217)"
         },
         "mode": "lines",
         "type": "scatter",
         "x": [
          923.75,
          923.75,
          960,
          960
         ],
         "xaxis": "x",
         "y": [
          0.05651285515586215,
          0.2628844414641438,
          0.2628844414641438,
          0.15590864319878062
         ],
         "yaxis": "y"
        },
        {
         "hoverinfo": "text",
         "marker": {
          "color": "rgb(0,116,217)"
         },
         "mode": "lines",
         "type": "scatter",
         "x": [
          892.5,
          892.5,
          941.875,
          941.875
         ],
         "xaxis": "x",
         "y": [
          0.14513097895344781,
          0.3486933680418454,
          0.3486933680418454,
          0.2628844414641438
         ],
         "yaxis": "y"
        },
        {
         "hoverinfo": "text",
         "marker": {
          "color": "rgb(0,116,217)"
         },
         "mode": "lines",
         "type": "scatter",
         "x": [
          853.75,
          853.75,
          917.1875,
          917.1875
         ],
         "xaxis": "x",
         "y": [
          0.32070277540188236,
          0.6202520639239195,
          0.6202520639239195,
          0.3486933680418454
         ],
         "yaxis": "y"
        },
        {
         "hoverinfo": "text",
         "marker": {
          "color": "rgb(0,116,217)"
         },
         "mode": "lines",
         "type": "scatter",
         "x": [
          822.5,
          822.5,
          885.46875,
          885.46875
         ],
         "xaxis": "x",
         "y": [
          0.3365510487865416,
          0.7836907919106655,
          0.7836907919106655,
          0.6202520639239195
         ],
         "yaxis": "y"
        },
        {
         "hoverinfo": "text",
         "marker": {
          "color": "rgb(0,116,217)"
         },
         "mode": "lines",
         "type": "scatter",
         "x": [
          805,
          805,
          853.984375,
          853.984375
         ],
         "xaxis": "x",
         "y": [
          0,
          2.069589191890011,
          2.069589191890011,
          0.7836907919106655
         ],
         "yaxis": "y"
        },
        {
         "hoverinfo": "text",
         "marker": {
          "color": "rgb(0,116,217)"
         },
         "mode": "lines",
         "type": "scatter",
         "x": [
          995,
          995,
          1005,
          1005
         ],
         "xaxis": "x",
         "y": [
          0,
          0.2098022647924499,
          0.2098022647924499,
          0
         ],
         "yaxis": "y"
        },
        {
         "hoverinfo": "text",
         "marker": {
          "color": "rgb(0,116,217)"
         },
         "mode": "lines",
         "type": "scatter",
         "x": [
          985,
          985,
          1000,
          1000
         ],
         "xaxis": "x",
         "y": [
          0,
          0.4856794131982542,
          0.4856794131982542,
          0.2098022647924499
         ],
         "yaxis": "y"
        },
        {
         "hoverinfo": "text",
         "marker": {
          "color": "rgb(0,116,217)"
         },
         "mode": "lines",
         "type": "scatter",
         "x": [
          1025,
          1025,
          1035,
          1035
         ],
         "xaxis": "x",
         "y": [
          0,
          0.15499823689709508,
          0.15499823689709508,
          0
         ],
         "yaxis": "y"
        },
        {
         "hoverinfo": "text",
         "marker": {
          "color": "rgb(0,116,217)"
         },
         "mode": "lines",
         "type": "scatter",
         "x": [
          1015,
          1015,
          1030,
          1030
         ],
         "xaxis": "x",
         "y": [
          0,
          0.2872280521239662,
          0.2872280521239662,
          0.15499823689709508
         ],
         "yaxis": "y"
        },
        {
         "hoverinfo": "text",
         "marker": {
          "color": "rgb(0,116,217)"
         },
         "mode": "lines",
         "type": "scatter",
         "x": [
          1045,
          1045,
          1055,
          1055
         ],
         "xaxis": "x",
         "y": [
          0,
          0.10786210118850602,
          0.10786210118850602,
          0
         ],
         "yaxis": "y"
        },
        {
         "hoverinfo": "text",
         "marker": {
          "color": "rgb(0,116,217)"
         },
         "mode": "lines",
         "type": "scatter",
         "x": [
          1065,
          1065,
          1075,
          1075
         ],
         "xaxis": "x",
         "y": [
          0,
          0.12145780184386122,
          0.12145780184386122,
          0
         ],
         "yaxis": "y"
        },
        {
         "hoverinfo": "text",
         "marker": {
          "color": "rgb(0,116,217)"
         },
         "mode": "lines",
         "type": "scatter",
         "x": [
          1050,
          1050,
          1070,
          1070
         ],
         "xaxis": "x",
         "y": [
          0.10786210118850602,
          0.35722646540345715,
          0.35722646540345715,
          0.12145780184386122
         ],
         "yaxis": "y"
        },
        {
         "hoverinfo": "text",
         "marker": {
          "color": "rgb(0,116,217)"
         },
         "mode": "lines",
         "type": "scatter",
         "x": [
          1022.5,
          1022.5,
          1060,
          1060
         ],
         "xaxis": "x",
         "y": [
          0.2872280521239662,
          0.6133451557743754,
          0.6133451557743754,
          0.35722646540345715
         ],
         "yaxis": "y"
        },
        {
         "hoverinfo": "text",
         "marker": {
          "color": "rgb(0,116,217)"
         },
         "mode": "lines",
         "type": "scatter",
         "x": [
          992.5,
          992.5,
          1041.25,
          1041.25
         ],
         "xaxis": "x",
         "y": [
          0.4856794131982542,
          1.0522663473970169,
          1.0522663473970169,
          0.6133451557743754
         ],
         "yaxis": "y"
        },
        {
         "hoverinfo": "text",
         "marker": {
          "color": "rgb(0,116,217)"
         },
         "mode": "lines",
         "type": "scatter",
         "x": [
          975,
          975,
          1016.875,
          1016.875
         ],
         "xaxis": "x",
         "y": [
          0,
          1.387204925499918,
          1.387204925499918,
          1.0522663473970169
         ],
         "yaxis": "y"
        },
        {
         "hoverinfo": "text",
         "marker": {
          "color": "rgb(0,116,217)"
         },
         "mode": "lines",
         "type": "scatter",
         "x": [
          1095,
          1095,
          1105,
          1105
         ],
         "xaxis": "x",
         "y": [
          0,
          0.09268419554363164,
          0.09268419554363164,
          0
         ],
         "yaxis": "y"
        },
        {
         "hoverinfo": "text",
         "marker": {
          "color": "rgb(0,116,217)"
         },
         "mode": "lines",
         "type": "scatter",
         "x": [
          1085,
          1085,
          1100,
          1100
         ],
         "xaxis": "x",
         "y": [
          0,
          0.39149727809205886,
          0.39149727809205886,
          0.09268419554363164
         ],
         "yaxis": "y"
        },
        {
         "hoverinfo": "text",
         "marker": {
          "color": "rgb(0,116,217)"
         },
         "mode": "lines",
         "type": "scatter",
         "x": [
          1125,
          1125,
          1135,
          1135
         ],
         "xaxis": "x",
         "y": [
          0,
          0.227863005066163,
          0.227863005066163,
          0
         ],
         "yaxis": "y"
        },
        {
         "hoverinfo": "text",
         "marker": {
          "color": "rgb(0,116,217)"
         },
         "mode": "lines",
         "type": "scatter",
         "x": [
          1115,
          1115,
          1130,
          1130
         ],
         "xaxis": "x",
         "y": [
          0,
          0.40243904193663227,
          0.40243904193663227,
          0.227863005066163
         ],
         "yaxis": "y"
        },
        {
         "hoverinfo": "text",
         "marker": {
          "color": "rgb(0,116,217)"
         },
         "mode": "lines",
         "type": "scatter",
         "x": [
          1145,
          1145,
          1155,
          1155
         ],
         "xaxis": "x",
         "y": [
          0,
          0.1414397307552022,
          0.1414397307552022,
          0
         ],
         "yaxis": "y"
        },
        {
         "hoverinfo": "text",
         "marker": {
          "color": "rgb(0,116,217)"
         },
         "mode": "lines",
         "type": "scatter",
         "x": [
          1165,
          1165,
          1175,
          1175
         ],
         "xaxis": "x",
         "y": [
          0,
          0.10569741933109333,
          0.10569741933109333,
          0
         ],
         "yaxis": "y"
        },
        {
         "hoverinfo": "text",
         "marker": {
          "color": "rgb(0,116,217)"
         },
         "mode": "lines",
         "type": "scatter",
         "x": [
          1195,
          1195,
          1205,
          1205
         ],
         "xaxis": "x",
         "y": [
          0,
          0,
          0,
          0
         ],
         "yaxis": "y"
        },
        {
         "hoverinfo": "text",
         "marker": {
          "color": "rgb(0,116,217)"
         },
         "mode": "lines",
         "type": "scatter",
         "x": [
          1185,
          1185,
          1200,
          1200
         ],
         "xaxis": "x",
         "y": [
          0,
          0.12401589958459812,
          0.12401589958459812,
          0
         ],
         "yaxis": "y"
        },
        {
         "hoverinfo": "text",
         "marker": {
          "color": "rgb(0,116,217)"
         },
         "mode": "lines",
         "type": "scatter",
         "x": [
          1170,
          1170,
          1192.5,
          1192.5
         ],
         "xaxis": "x",
         "y": [
          0.10569741933109333,
          0.3323990748831364,
          0.3323990748831364,
          0.12401589958459812
         ],
         "yaxis": "y"
        },
        {
         "hoverinfo": "text",
         "marker": {
          "color": "rgb(0,116,217)"
         },
         "mode": "lines",
         "type": "scatter",
         "x": [
          1150,
          1150,
          1181.25,
          1181.25
         ],
         "xaxis": "x",
         "y": [
          0.1414397307552022,
          0.5063391269181584,
          0.5063391269181584,
          0.3323990748831364
         ],
         "yaxis": "y"
        },
        {
         "hoverinfo": "text",
         "marker": {
          "color": "rgb(0,116,217)"
         },
         "mode": "lines",
         "type": "scatter",
         "x": [
          1122.5,
          1122.5,
          1165.625,
          1165.625
         ],
         "xaxis": "x",
         "y": [
          0.40243904193663227,
          0.7533870180569346,
          0.7533870180569346,
          0.5063391269181584
         ],
         "yaxis": "y"
        },
        {
         "hoverinfo": "text",
         "marker": {
          "color": "rgb(0,116,217)"
         },
         "mode": "lines",
         "type": "scatter",
         "x": [
          1092.5,
          1092.5,
          1144.0625,
          1144.0625
         ],
         "xaxis": "x",
         "y": [
          0.39149727809205886,
          1.2906485879870757,
          1.2906485879870757,
          0.7533870180569346
         ],
         "yaxis": "y"
        },
        {
         "hoverinfo": "text",
         "marker": {
          "color": "rgb(0,116,217)"
         },
         "mode": "lines",
         "type": "scatter",
         "x": [
          1215,
          1215,
          1225,
          1225
         ],
         "xaxis": "x",
         "y": [
          0,
          0.13230071340336036,
          0.13230071340336036,
          0
         ],
         "yaxis": "y"
        },
        {
         "hoverinfo": "text",
         "marker": {
          "color": "rgb(0,116,217)"
         },
         "mode": "lines",
         "type": "scatter",
         "x": [
          1245,
          1245,
          1255,
          1255
         ],
         "xaxis": "x",
         "y": [
          0,
          0.08393373456973265,
          0.08393373456973265,
          0
         ],
         "yaxis": "y"
        },
        {
         "hoverinfo": "text",
         "marker": {
          "color": "rgb(0,116,217)"
         },
         "mode": "lines",
         "type": "scatter",
         "x": [
          1235,
          1235,
          1250,
          1250
         ],
         "xaxis": "x",
         "y": [
          0,
          0.14415651931954462,
          0.14415651931954462,
          0.08393373456973265
         ],
         "yaxis": "y"
        },
        {
         "hoverinfo": "text",
         "marker": {
          "color": "rgb(0,116,217)"
         },
         "mode": "lines",
         "type": "scatter",
         "x": [
          1220,
          1220,
          1242.5,
          1242.5
         ],
         "xaxis": "x",
         "y": [
          0.13230071340336036,
          0.3053794702742376,
          0.3053794702742376,
          0.14415651931954462
         ],
         "yaxis": "y"
        },
        {
         "hoverinfo": "text",
         "marker": {
          "color": "rgb(0,116,217)"
         },
         "mode": "lines",
         "type": "scatter",
         "x": [
          1265,
          1265,
          1275,
          1275
         ],
         "xaxis": "x",
         "y": [
          0,
          0.05919022499216741,
          0.05919022499216741,
          0
         ],
         "yaxis": "y"
        },
        {
         "hoverinfo": "text",
         "marker": {
          "color": "rgb(0,116,217)"
         },
         "mode": "lines",
         "type": "scatter",
         "x": [
          1285,
          1285,
          1295,
          1295
         ],
         "xaxis": "x",
         "y": [
          0,
          0.1427121637311208,
          0.1427121637311208,
          0
         ],
         "yaxis": "y"
        },
        {
         "hoverinfo": "text",
         "marker": {
          "color": "rgb(0,116,217)"
         },
         "mode": "lines",
         "type": "scatter",
         "x": [
          1270,
          1270,
          1290,
          1290
         ],
         "xaxis": "x",
         "y": [
          0.05919022499216741,
          0.3834212740664655,
          0.3834212740664655,
          0.1427121637311208
         ],
         "yaxis": "y"
        },
        {
         "hoverinfo": "text",
         "marker": {
          "color": "rgb(0,116,217)"
         },
         "mode": "lines",
         "type": "scatter",
         "x": [
          1231.25,
          1231.25,
          1280,
          1280
         ],
         "xaxis": "x",
         "y": [
          0.3053794702742376,
          0.6353698952974258,
          0.6353698952974258,
          0.3834212740664655
         ],
         "yaxis": "y"
        },
        {
         "hoverinfo": "text",
         "marker": {
          "color": "rgb(0,116,217)"
         },
         "mode": "lines",
         "type": "scatter",
         "x": [
          1315,
          1315,
          1325,
          1325
         ],
         "xaxis": "x",
         "y": [
          0,
          0.011445559135701,
          0.011445559135701,
          0
         ],
         "yaxis": "y"
        },
        {
         "hoverinfo": "text",
         "marker": {
          "color": "rgb(0,116,217)"
         },
         "mode": "lines",
         "type": "scatter",
         "x": [
          1305,
          1305,
          1320,
          1320
         ],
         "xaxis": "x",
         "y": [
          0,
          0.0621478053936321,
          0.0621478053936321,
          0.011445559135701
         ],
         "yaxis": "y"
        },
        {
         "hoverinfo": "text",
         "marker": {
          "color": "rgb(0,116,217)"
         },
         "mode": "lines",
         "type": "scatter",
         "x": [
          1345,
          1345,
          1355,
          1355
         ],
         "xaxis": "x",
         "y": [
          0,
          0.06481686495779498,
          0.06481686495779498,
          0
         ],
         "yaxis": "y"
        },
        {
         "hoverinfo": "text",
         "marker": {
          "color": "rgb(0,116,217)"
         },
         "mode": "lines",
         "type": "scatter",
         "x": [
          1335,
          1335,
          1350,
          1350
         ],
         "xaxis": "x",
         "y": [
          0,
          0.14608658890461335,
          0.14608658890461335,
          0.06481686495779498
         ],
         "yaxis": "y"
        },
        {
         "hoverinfo": "text",
         "marker": {
          "color": "rgb(0,116,217)"
         },
         "mode": "lines",
         "type": "scatter",
         "x": [
          1312.5,
          1312.5,
          1342.5,
          1342.5
         ],
         "xaxis": "x",
         "y": [
          0.0621478053936321,
          0.42698890131574796,
          0.42698890131574796,
          0.14608658890461335
         ],
         "yaxis": "y"
        },
        {
         "hoverinfo": "text",
         "marker": {
          "color": "rgb(0,116,217)"
         },
         "mode": "lines",
         "type": "scatter",
         "x": [
          1375,
          1375,
          1385,
          1385
         ],
         "xaxis": "x",
         "y": [
          0,
          0.0436528547251229,
          0.0436528547251229,
          0
         ],
         "yaxis": "y"
        },
        {
         "hoverinfo": "text",
         "marker": {
          "color": "rgb(0,116,217)"
         },
         "mode": "lines",
         "type": "scatter",
         "x": [
          1395,
          1395,
          1405,
          1405
         ],
         "xaxis": "x",
         "y": [
          0,
          0.09968032343222592,
          0.09968032343222592,
          0
         ],
         "yaxis": "y"
        },
        {
         "hoverinfo": "text",
         "marker": {
          "color": "rgb(0,116,217)"
         },
         "mode": "lines",
         "type": "scatter",
         "x": [
          1380,
          1380,
          1400,
          1400
         ],
         "xaxis": "x",
         "y": [
          0.0436528547251229,
          0.24610693122596575,
          0.24610693122596575,
          0.09968032343222592
         ],
         "yaxis": "y"
        },
        {
         "hoverinfo": "text",
         "marker": {
          "color": "rgb(0,116,217)"
         },
         "mode": "lines",
         "type": "scatter",
         "x": [
          1365,
          1365,
          1390,
          1390
         ],
         "xaxis": "x",
         "y": [
          0,
          0.3000016892075771,
          0.3000016892075771,
          0.24610693122596575
         ],
         "yaxis": "y"
        },
        {
         "hoverinfo": "text",
         "marker": {
          "color": "rgb(0,116,217)"
         },
         "mode": "lines",
         "type": "scatter",
         "x": [
          1415,
          1415,
          1425,
          1425
         ],
         "xaxis": "x",
         "y": [
          0,
          0.15701149474334047,
          0.15701149474334047,
          0
         ],
         "yaxis": "y"
        },
        {
         "hoverinfo": "text",
         "marker": {
          "color": "rgb(0,116,217)"
         },
         "mode": "lines",
         "type": "scatter",
         "x": [
          1435,
          1435,
          1445,
          1445
         ],
         "xaxis": "x",
         "y": [
          0,
          0.15995723019781882,
          0.15995723019781882,
          0
         ],
         "yaxis": "y"
        },
        {
         "hoverinfo": "text",
         "marker": {
          "color": "rgb(0,116,217)"
         },
         "mode": "lines",
         "type": "scatter",
         "x": [
          1455,
          1455,
          1465,
          1465
         ],
         "xaxis": "x",
         "y": [
          0,
          0.11942903646680672,
          0.11942903646680672,
          0
         ],
         "yaxis": "y"
        },
        {
         "hoverinfo": "text",
         "marker": {
          "color": "rgb(0,116,217)"
         },
         "mode": "lines",
         "type": "scatter",
         "x": [
          1485,
          1485,
          1495,
          1495
         ],
         "xaxis": "x",
         "y": [
          0,
          0.06740481035033671,
          0.06740481035033671,
          0
         ],
         "yaxis": "y"
        },
        {
         "hoverinfo": "text",
         "marker": {
          "color": "rgb(0,116,217)"
         },
         "mode": "lines",
         "type": "scatter",
         "x": [
          1475,
          1475,
          1490,
          1490
         ],
         "xaxis": "x",
         "y": [
          0,
          0.1467494829642944,
          0.1467494829642944,
          0.06740481035033671
         ],
         "yaxis": "y"
        },
        {
         "hoverinfo": "text",
         "marker": {
          "color": "rgb(0,116,217)"
         },
         "mode": "lines",
         "type": "scatter",
         "x": [
          1460,
          1460,
          1482.5,
          1482.5
         ],
         "xaxis": "x",
         "y": [
          0.11942903646680672,
          0.2548832241040138,
          0.2548832241040138,
          0.1467494829642944
         ],
         "yaxis": "y"
        },
        {
         "hoverinfo": "text",
         "marker": {
          "color": "rgb(0,116,217)"
         },
         "mode": "lines",
         "type": "scatter",
         "x": [
          1440,
          1440,
          1471.25,
          1471.25
         ],
         "xaxis": "x",
         "y": [
          0.15995723019781882,
          0.3746918975833652,
          0.3746918975833652,
          0.2548832241040138
         ],
         "yaxis": "y"
        },
        {
         "hoverinfo": "text",
         "marker": {
          "color": "rgb(0,116,217)"
         },
         "mode": "lines",
         "type": "scatter",
         "x": [
          1420,
          1420,
          1455.625,
          1455.625
         ],
         "xaxis": "x",
         "y": [
          0.15701149474334047,
          0.4690531752873018,
          0.4690531752873018,
          0.3746918975833652
         ],
         "yaxis": "y"
        },
        {
         "hoverinfo": "text",
         "marker": {
          "color": "rgb(0,116,217)"
         },
         "mode": "lines",
         "type": "scatter",
         "x": [
          1377.5,
          1377.5,
          1437.8125,
          1437.8125
         ],
         "xaxis": "x",
         "y": [
          0.3000016892075771,
          0.8250034255081452,
          0.8250034255081452,
          0.4690531752873018
         ],
         "yaxis": "y"
        },
        {
         "hoverinfo": "text",
         "marker": {
          "color": "rgb(0,116,217)"
         },
         "mode": "lines",
         "type": "scatter",
         "x": [
          1327.5,
          1327.5,
          1407.65625,
          1407.65625
         ],
         "xaxis": "x",
         "y": [
          0.42698890131574796,
          1.2145154428516793,
          1.2145154428516793,
          0.8250034255081452
         ],
         "yaxis": "y"
        },
        {
         "hoverinfo": "text",
         "marker": {
          "color": "rgb(0,116,217)"
         },
         "mode": "lines",
         "type": "scatter",
         "x": [
          1255.625,
          1255.625,
          1367.578125,
          1367.578125
         ],
         "xaxis": "x",
         "y": [
          0.6353698952974258,
          1.4596095723087144,
          1.4596095723087144,
          1.2145154428516793
         ],
         "yaxis": "y"
        },
        {
         "hoverinfo": "text",
         "marker": {
          "color": "rgb(0,116,217)"
         },
         "mode": "lines",
         "type": "scatter",
         "x": [
          1118.28125,
          1118.28125,
          1311.6015625,
          1311.6015625
         ],
         "xaxis": "x",
         "y": [
          1.2906485879870757,
          1.9331073502273843,
          1.9331073502273843,
          1.4596095723087144
         ],
         "yaxis": "y"
        },
        {
         "hoverinfo": "text",
         "marker": {
          "color": "rgb(0,116,217)"
         },
         "mode": "lines",
         "type": "scatter",
         "x": [
          995.9375,
          995.9375,
          1214.94140625,
          1214.94140625
         ],
         "xaxis": "x",
         "y": [
          1.387204925499918,
          2.886501710229769,
          2.886501710229769,
          1.9331073502273843
         ],
         "yaxis": "y"
        },
        {
         "hoverinfo": "text",
         "marker": {
          "color": "rgb(0,116,217)"
         },
         "mode": "lines",
         "type": "scatter",
         "x": [
          829.4921875,
          829.4921875,
          1105.439453125,
          1105.439453125
         ],
         "xaxis": "x",
         "y": [
          2.069589191890011,
          4.315789452466484,
          4.315789452466484,
          2.886501710229769
         ],
         "yaxis": "y"
        },
        {
         "hoverinfo": "text",
         "marker": {
          "color": "rgb(0,116,217)"
         },
         "mode": "lines",
         "type": "scatter",
         "x": [
          543.96484375,
          543.96484375,
          967.4658203125,
          967.4658203125
         ],
         "xaxis": "x",
         "y": [
          2.9069888715125742,
          5.871303812869838,
          5.871303812869838,
          4.315789452466484
         ],
         "yaxis": "y"
        },
        {
         "hoverinfo": "text",
         "marker": {
          "color": "rgb(0,116,217)"
         },
         "mode": "lines",
         "type": "scatter",
         "x": [
          122.4609375,
          122.4609375,
          755.71533203125,
          755.71533203125
         ],
         "xaxis": "x",
         "y": [
          3.3647650645415395,
          6.813667231464727,
          6.813667231464727,
          5.871303812869838
         ],
         "yaxis": "y"
        }
       ],
       "layout": {
        "autosize": false,
        "height": 500,
        "hovermode": "closest",
        "showlegend": false,
        "template": {
         "data": {
          "bar": [
           {
            "error_x": {
             "color": "#2a3f5f"
            },
            "error_y": {
             "color": "#2a3f5f"
            },
            "marker": {
             "line": {
              "color": "#E5ECF6",
              "width": 0.5
             },
             "pattern": {
              "fillmode": "overlay",
              "size": 10,
              "solidity": 0.2
             }
            },
            "type": "bar"
           }
          ],
          "barpolar": [
           {
            "marker": {
             "line": {
              "color": "#E5ECF6",
              "width": 0.5
             },
             "pattern": {
              "fillmode": "overlay",
              "size": 10,
              "solidity": 0.2
             }
            },
            "type": "barpolar"
           }
          ],
          "carpet": [
           {
            "aaxis": {
             "endlinecolor": "#2a3f5f",
             "gridcolor": "white",
             "linecolor": "white",
             "minorgridcolor": "white",
             "startlinecolor": "#2a3f5f"
            },
            "baxis": {
             "endlinecolor": "#2a3f5f",
             "gridcolor": "white",
             "linecolor": "white",
             "minorgridcolor": "white",
             "startlinecolor": "#2a3f5f"
            },
            "type": "carpet"
           }
          ],
          "choropleth": [
           {
            "colorbar": {
             "outlinewidth": 0,
             "ticks": ""
            },
            "type": "choropleth"
           }
          ],
          "contour": [
           {
            "colorbar": {
             "outlinewidth": 0,
             "ticks": ""
            },
            "colorscale": [
             [
              0,
              "#0d0887"
             ],
             [
              0.1111111111111111,
              "#46039f"
             ],
             [
              0.2222222222222222,
              "#7201a8"
             ],
             [
              0.3333333333333333,
              "#9c179e"
             ],
             [
              0.4444444444444444,
              "#bd3786"
             ],
             [
              0.5555555555555556,
              "#d8576b"
             ],
             [
              0.6666666666666666,
              "#ed7953"
             ],
             [
              0.7777777777777778,
              "#fb9f3a"
             ],
             [
              0.8888888888888888,
              "#fdca26"
             ],
             [
              1,
              "#f0f921"
             ]
            ],
            "type": "contour"
           }
          ],
          "contourcarpet": [
           {
            "colorbar": {
             "outlinewidth": 0,
             "ticks": ""
            },
            "type": "contourcarpet"
           }
          ],
          "heatmap": [
           {
            "colorbar": {
             "outlinewidth": 0,
             "ticks": ""
            },
            "colorscale": [
             [
              0,
              "#0d0887"
             ],
             [
              0.1111111111111111,
              "#46039f"
             ],
             [
              0.2222222222222222,
              "#7201a8"
             ],
             [
              0.3333333333333333,
              "#9c179e"
             ],
             [
              0.4444444444444444,
              "#bd3786"
             ],
             [
              0.5555555555555556,
              "#d8576b"
             ],
             [
              0.6666666666666666,
              "#ed7953"
             ],
             [
              0.7777777777777778,
              "#fb9f3a"
             ],
             [
              0.8888888888888888,
              "#fdca26"
             ],
             [
              1,
              "#f0f921"
             ]
            ],
            "type": "heatmap"
           }
          ],
          "heatmapgl": [
           {
            "colorbar": {
             "outlinewidth": 0,
             "ticks": ""
            },
            "colorscale": [
             [
              0,
              "#0d0887"
             ],
             [
              0.1111111111111111,
              "#46039f"
             ],
             [
              0.2222222222222222,
              "#7201a8"
             ],
             [
              0.3333333333333333,
              "#9c179e"
             ],
             [
              0.4444444444444444,
              "#bd3786"
             ],
             [
              0.5555555555555556,
              "#d8576b"
             ],
             [
              0.6666666666666666,
              "#ed7953"
             ],
             [
              0.7777777777777778,
              "#fb9f3a"
             ],
             [
              0.8888888888888888,
              "#fdca26"
             ],
             [
              1,
              "#f0f921"
             ]
            ],
            "type": "heatmapgl"
           }
          ],
          "histogram": [
           {
            "marker": {
             "pattern": {
              "fillmode": "overlay",
              "size": 10,
              "solidity": 0.2
             }
            },
            "type": "histogram"
           }
          ],
          "histogram2d": [
           {
            "colorbar": {
             "outlinewidth": 0,
             "ticks": ""
            },
            "colorscale": [
             [
              0,
              "#0d0887"
             ],
             [
              0.1111111111111111,
              "#46039f"
             ],
             [
              0.2222222222222222,
              "#7201a8"
             ],
             [
              0.3333333333333333,
              "#9c179e"
             ],
             [
              0.4444444444444444,
              "#bd3786"
             ],
             [
              0.5555555555555556,
              "#d8576b"
             ],
             [
              0.6666666666666666,
              "#ed7953"
             ],
             [
              0.7777777777777778,
              "#fb9f3a"
             ],
             [
              0.8888888888888888,
              "#fdca26"
             ],
             [
              1,
              "#f0f921"
             ]
            ],
            "type": "histogram2d"
           }
          ],
          "histogram2dcontour": [
           {
            "colorbar": {
             "outlinewidth": 0,
             "ticks": ""
            },
            "colorscale": [
             [
              0,
              "#0d0887"
             ],
             [
              0.1111111111111111,
              "#46039f"
             ],
             [
              0.2222222222222222,
              "#7201a8"
             ],
             [
              0.3333333333333333,
              "#9c179e"
             ],
             [
              0.4444444444444444,
              "#bd3786"
             ],
             [
              0.5555555555555556,
              "#d8576b"
             ],
             [
              0.6666666666666666,
              "#ed7953"
             ],
             [
              0.7777777777777778,
              "#fb9f3a"
             ],
             [
              0.8888888888888888,
              "#fdca26"
             ],
             [
              1,
              "#f0f921"
             ]
            ],
            "type": "histogram2dcontour"
           }
          ],
          "mesh3d": [
           {
            "colorbar": {
             "outlinewidth": 0,
             "ticks": ""
            },
            "type": "mesh3d"
           }
          ],
          "parcoords": [
           {
            "line": {
             "colorbar": {
              "outlinewidth": 0,
              "ticks": ""
             }
            },
            "type": "parcoords"
           }
          ],
          "pie": [
           {
            "automargin": true,
            "type": "pie"
           }
          ],
          "scatter": [
           {
            "fillpattern": {
             "fillmode": "overlay",
             "size": 10,
             "solidity": 0.2
            },
            "type": "scatter"
           }
          ],
          "scatter3d": [
           {
            "line": {
             "colorbar": {
              "outlinewidth": 0,
              "ticks": ""
             }
            },
            "marker": {
             "colorbar": {
              "outlinewidth": 0,
              "ticks": ""
             }
            },
            "type": "scatter3d"
           }
          ],
          "scattercarpet": [
           {
            "marker": {
             "colorbar": {
              "outlinewidth": 0,
              "ticks": ""
             }
            },
            "type": "scattercarpet"
           }
          ],
          "scattergeo": [
           {
            "marker": {
             "colorbar": {
              "outlinewidth": 0,
              "ticks": ""
             }
            },
            "type": "scattergeo"
           }
          ],
          "scattergl": [
           {
            "marker": {
             "colorbar": {
              "outlinewidth": 0,
              "ticks": ""
             }
            },
            "type": "scattergl"
           }
          ],
          "scattermapbox": [
           {
            "marker": {
             "colorbar": {
              "outlinewidth": 0,
              "ticks": ""
             }
            },
            "type": "scattermapbox"
           }
          ],
          "scatterpolar": [
           {
            "marker": {
             "colorbar": {
              "outlinewidth": 0,
              "ticks": ""
             }
            },
            "type": "scatterpolar"
           }
          ],
          "scatterpolargl": [
           {
            "marker": {
             "colorbar": {
              "outlinewidth": 0,
              "ticks": ""
             }
            },
            "type": "scatterpolargl"
           }
          ],
          "scatterternary": [
           {
            "marker": {
             "colorbar": {
              "outlinewidth": 0,
              "ticks": ""
             }
            },
            "type": "scatterternary"
           }
          ],
          "surface": [
           {
            "colorbar": {
             "outlinewidth": 0,
             "ticks": ""
            },
            "colorscale": [
             [
              0,
              "#0d0887"
             ],
             [
              0.1111111111111111,
              "#46039f"
             ],
             [
              0.2222222222222222,
              "#7201a8"
             ],
             [
              0.3333333333333333,
              "#9c179e"
             ],
             [
              0.4444444444444444,
              "#bd3786"
             ],
             [
              0.5555555555555556,
              "#d8576b"
             ],
             [
              0.6666666666666666,
              "#ed7953"
             ],
             [
              0.7777777777777778,
              "#fb9f3a"
             ],
             [
              0.8888888888888888,
              "#fdca26"
             ],
             [
              1,
              "#f0f921"
             ]
            ],
            "type": "surface"
           }
          ],
          "table": [
           {
            "cells": {
             "fill": {
              "color": "#EBF0F8"
             },
             "line": {
              "color": "white"
             }
            },
            "header": {
             "fill": {
              "color": "#C8D4E3"
             },
             "line": {
              "color": "white"
             }
            },
            "type": "table"
           }
          ]
         },
         "layout": {
          "annotationdefaults": {
           "arrowcolor": "#2a3f5f",
           "arrowhead": 0,
           "arrowwidth": 1
          },
          "autotypenumbers": "strict",
          "coloraxis": {
           "colorbar": {
            "outlinewidth": 0,
            "ticks": ""
           }
          },
          "colorscale": {
           "diverging": [
            [
             0,
             "#8e0152"
            ],
            [
             0.1,
             "#c51b7d"
            ],
            [
             0.2,
             "#de77ae"
            ],
            [
             0.3,
             "#f1b6da"
            ],
            [
             0.4,
             "#fde0ef"
            ],
            [
             0.5,
             "#f7f7f7"
            ],
            [
             0.6,
             "#e6f5d0"
            ],
            [
             0.7,
             "#b8e186"
            ],
            [
             0.8,
             "#7fbc41"
            ],
            [
             0.9,
             "#4d9221"
            ],
            [
             1,
             "#276419"
            ]
           ],
           "sequential": [
            [
             0,
             "#0d0887"
            ],
            [
             0.1111111111111111,
             "#46039f"
            ],
            [
             0.2222222222222222,
             "#7201a8"
            ],
            [
             0.3333333333333333,
             "#9c179e"
            ],
            [
             0.4444444444444444,
             "#bd3786"
            ],
            [
             0.5555555555555556,
             "#d8576b"
            ],
            [
             0.6666666666666666,
             "#ed7953"
            ],
            [
             0.7777777777777778,
             "#fb9f3a"
            ],
            [
             0.8888888888888888,
             "#fdca26"
            ],
            [
             1,
             "#f0f921"
            ]
           ],
           "sequentialminus": [
            [
             0,
             "#0d0887"
            ],
            [
             0.1111111111111111,
             "#46039f"
            ],
            [
             0.2222222222222222,
             "#7201a8"
            ],
            [
             0.3333333333333333,
             "#9c179e"
            ],
            [
             0.4444444444444444,
             "#bd3786"
            ],
            [
             0.5555555555555556,
             "#d8576b"
            ],
            [
             0.6666666666666666,
             "#ed7953"
            ],
            [
             0.7777777777777778,
             "#fb9f3a"
            ],
            [
             0.8888888888888888,
             "#fdca26"
            ],
            [
             1,
             "#f0f921"
            ]
           ]
          },
          "colorway": [
           "#636efa",
           "#EF553B",
           "#00cc96",
           "#ab63fa",
           "#FFA15A",
           "#19d3f3",
           "#FF6692",
           "#B6E880",
           "#FF97FF",
           "#FECB52"
          ],
          "font": {
           "color": "#2a3f5f"
          },
          "geo": {
           "bgcolor": "white",
           "lakecolor": "white",
           "landcolor": "#E5ECF6",
           "showlakes": true,
           "showland": true,
           "subunitcolor": "white"
          },
          "hoverlabel": {
           "align": "left"
          },
          "hovermode": "closest",
          "mapbox": {
           "style": "light"
          },
          "paper_bgcolor": "white",
          "plot_bgcolor": "#E5ECF6",
          "polar": {
           "angularaxis": {
            "gridcolor": "white",
            "linecolor": "white",
            "ticks": ""
           },
           "bgcolor": "#E5ECF6",
           "radialaxis": {
            "gridcolor": "white",
            "linecolor": "white",
            "ticks": ""
           }
          },
          "scene": {
           "xaxis": {
            "backgroundcolor": "#E5ECF6",
            "gridcolor": "white",
            "gridwidth": 2,
            "linecolor": "white",
            "showbackground": true,
            "ticks": "",
            "zerolinecolor": "white"
           },
           "yaxis": {
            "backgroundcolor": "#E5ECF6",
            "gridcolor": "white",
            "gridwidth": 2,
            "linecolor": "white",
            "showbackground": true,
            "ticks": "",
            "zerolinecolor": "white"
           },
           "zaxis": {
            "backgroundcolor": "#E5ECF6",
            "gridcolor": "white",
            "gridwidth": 2,
            "linecolor": "white",
            "showbackground": true,
            "ticks": "",
            "zerolinecolor": "white"
           }
          },
          "shapedefaults": {
           "line": {
            "color": "#2a3f5f"
           }
          },
          "ternary": {
           "aaxis": {
            "gridcolor": "white",
            "linecolor": "white",
            "ticks": ""
           },
           "baxis": {
            "gridcolor": "white",
            "linecolor": "white",
            "ticks": ""
           },
           "bgcolor": "#E5ECF6",
           "caxis": {
            "gridcolor": "white",
            "linecolor": "white",
            "ticks": ""
           }
          },
          "title": {
           "x": 0.05
          },
          "xaxis": {
           "automargin": true,
           "gridcolor": "white",
           "linecolor": "white",
           "ticks": "",
           "title": {
            "standoff": 15
           },
           "zerolinecolor": "white",
           "zerolinewidth": 2
          },
          "yaxis": {
           "automargin": true,
           "gridcolor": "white",
           "linecolor": "white",
           "ticks": "",
           "title": {
            "standoff": 15
           },
           "zerolinecolor": "white",
           "zerolinewidth": 2
          }
         }
        },
        "width": 800,
        "xaxis": {
         "mirror": "allticks",
         "rangemode": "tozero",
         "showgrid": false,
         "showline": true,
         "showticklabels": true,
         "tickmode": "array",
         "ticks": "outside",
         "ticktext": [
          "108",
          "111",
          "128",
          "132",
          "118",
          "130",
          "102",
          "107",
          "122",
          "105",
          "135",
          "109",
          "117",
          "131",
          "50",
          "52",
          "110",
          "115",
          "148",
          "124",
          "136",
          "100",
          "120",
          "143",
          "125",
          "144",
          "104",
          "112",
          "145",
          "140",
          "129",
          "139",
          "141",
          "56",
          "85",
          "76",
          "103",
          "116",
          "147",
          "77",
          "137",
          "75",
          "127",
          "86",
          "70",
          "51",
          "65",
          "15",
          "32",
          "14",
          "33",
          "19",
          "46",
          "21",
          "48",
          "10",
          "44",
          "18",
          "5",
          "16",
          "22",
          "4",
          "0",
          "40",
          "17",
          "27",
          "36",
          "31",
          "20",
          "43",
          "23",
          "26",
          "28",
          "39",
          "35",
          "49",
          "6",
          "11",
          "7",
          "24",
          "41",
          "8",
          "13",
          "38",
          "42",
          "29",
          "2",
          "47",
          "25",
          "1",
          "45",
          "30",
          "37",
          "9",
          "34",
          "3",
          "12",
          "60",
          "98",
          "57",
          "93",
          "106",
          "53",
          "62",
          "80",
          "81",
          "69",
          "89",
          "87",
          "68",
          "119",
          "146",
          "72",
          "113",
          "114",
          "123",
          "83",
          "121",
          "134",
          "101",
          "142",
          "55",
          "99",
          "94",
          "67",
          "82",
          "59",
          "79",
          "90",
          "92",
          "149",
          "58",
          "138",
          "54",
          "126",
          "133",
          "64",
          "88",
          "95",
          "84",
          "96",
          "71",
          "73",
          "61",
          "66",
          "74",
          "91",
          "97",
          "63",
          "78"
         ],
         "tickvals": [
          5,
          15,
          25,
          35,
          45,
          55,
          65,
          75,
          85,
          95,
          105,
          115,
          125,
          135,
          145,
          155,
          165,
          175,
          185,
          195,
          205,
          215,
          225,
          235,
          245,
          255,
          265,
          275,
          285,
          295,
          305,
          315,
          325,
          335,
          345,
          355,
          365,
          375,
          385,
          395,
          405,
          415,
          425,
          435,
          445,
          455,
          465,
          475,
          485,
          495,
          505,
          515,
          525,
          535,
          545,
          555,
          565,
          575,
          585,
          595,
          605,
          615,
          625,
          635,
          645,
          655,
          665,
          675,
          685,
          695,
          705,
          715,
          725,
          735,
          745,
          755,
          765,
          775,
          785,
          795,
          805,
          815,
          825,
          835,
          845,
          855,
          865,
          875,
          885,
          895,
          905,
          915,
          925,
          935,
          945,
          955,
          965,
          975,
          985,
          995,
          1005,
          1015,
          1025,
          1035,
          1045,
          1055,
          1065,
          1075,
          1085,
          1095,
          1105,
          1115,
          1125,
          1135,
          1145,
          1155,
          1165,
          1175,
          1185,
          1195,
          1205,
          1215,
          1225,
          1235,
          1245,
          1255,
          1265,
          1275,
          1285,
          1295,
          1305,
          1315,
          1325,
          1335,
          1345,
          1355,
          1365,
          1375,
          1385,
          1395,
          1405,
          1415,
          1425,
          1435,
          1445,
          1455,
          1465,
          1475,
          1485,
          1495
         ],
         "type": "linear",
         "zeroline": false
        },
        "yaxis": {
         "mirror": "allticks",
         "rangemode": "tozero",
         "showgrid": false,
         "showline": true,
         "showticklabels": true,
         "ticks": "outside",
         "type": "linear",
         "zeroline": false
        }
       }
      },
      "text/html": [
       "<div>                            <div id=\"c0ecf02c-92fb-40d8-85ad-70215886cab9\" class=\"plotly-graph-div\" style=\"height:500px; width:800px;\"></div>            <script type=\"text/javascript\">                require([\"plotly\"], function(Plotly) {                    window.PLOTLYENV=window.PLOTLYENV || {};                                    if (document.getElementById(\"c0ecf02c-92fb-40d8-85ad-70215886cab9\")) {                    Plotly.newPlot(                        \"c0ecf02c-92fb-40d8-85ad-70215886cab9\",                        [{\"hoverinfo\":\"text\",\"marker\":{\"color\":\"rgb(0,116,217)\"},\"mode\":\"lines\",\"x\":[25.0,25.0,35.0,35.0],\"xaxis\":\"x\",\"y\":[0.0,0.07485825263999085,0.07485825263999085,0.0],\"yaxis\":\"y\",\"type\":\"scatter\"},{\"hoverinfo\":\"text\",\"marker\":{\"color\":\"rgb(0,116,217)\"},\"mode\":\"lines\",\"x\":[15.0,15.0,30.0,30.0],\"xaxis\":\"x\",\"y\":[0.0,0.35722646540345643,0.35722646540345643,0.07485825263999085],\"yaxis\":\"y\",\"type\":\"scatter\"},{\"hoverinfo\":\"text\",\"marker\":{\"color\":\"rgb(0,116,217)\"},\"mode\":\"lines\",\"x\":[5.0,5.0,22.5,22.5],\"xaxis\":\"x\",\"y\":[0.0,0.5727707745592826,0.5727707745592826,0.35722646540345643],\"yaxis\":\"y\",\"type\":\"scatter\"},{\"hoverinfo\":\"text\",\"marker\":{\"color\":\"rgb(0,116,217)\"},\"mode\":\"lines\",\"x\":[65.0,65.0,75.0,75.0],\"xaxis\":\"x\",\"y\":[0.0,0.17422385269037702,0.17422385269037702,0.0],\"yaxis\":\"y\",\"type\":\"scatter\"},{\"hoverinfo\":\"text\",\"marker\":{\"color\":\"rgb(0,116,217)\"},\"mode\":\"lines\",\"x\":[55.0,55.0,70.0,70.0],\"xaxis\":\"x\",\"y\":[0.0,0.38374369539585446,0.38374369539585446,0.17422385269037702],\"yaxis\":\"y\",\"type\":\"scatter\"},{\"hoverinfo\":\"text\",\"marker\":{\"color\":\"rgb(0,116,217)\"},\"mode\":\"lines\",\"x\":[95.0,95.0,105.0,105.0],\"xaxis\":\"x\",\"y\":[0.0,0.07319361257252487,0.07319361257252487,0.0],\"yaxis\":\"y\",\"type\":\"scatter\"},{\"hoverinfo\":\"text\",\"marker\":{\"color\":\"rgb(0,116,217)\"},\"mode\":\"lines\",\"x\":[85.0,85.0,100.0,100.0],\"xaxis\":\"x\",\"y\":[0.0,0.45738576876521614,0.45738576876521614,0.07319361257252487],\"yaxis\":\"y\",\"type\":\"scatter\"},{\"hoverinfo\":\"text\",\"marker\":{\"color\":\"rgb(0,116,217)\"},\"mode\":\"lines\",\"x\":[62.5,62.5,92.5,92.5],\"xaxis\":\"x\",\"y\":[0.38374369539585446,0.7092374678608772,0.7092374678608772,0.45738576876521614],\"yaxis\":\"y\",\"type\":\"scatter\"},{\"hoverinfo\":\"text\",\"marker\":{\"color\":\"rgb(0,116,217)\"},\"mode\":\"lines\",\"x\":[45.0,45.0,77.5,77.5],\"xaxis\":\"x\",\"y\":[0.0,1.2353990195988576,1.2353990195988576,0.7092374678608772],\"yaxis\":\"y\",\"type\":\"scatter\"},{\"hoverinfo\":\"text\",\"marker\":{\"color\":\"rgb(0,116,217)\"},\"mode\":\"lines\",\"x\":[13.75,13.75,61.25,61.25],\"xaxis\":\"x\",\"y\":[0.5727707745592826,1.7623115910084446,1.7623115910084446,1.2353990195988576],\"yaxis\":\"y\",\"type\":\"scatter\"},{\"hoverinfo\":\"text\",\"marker\":{\"color\":\"rgb(0,116,217)\"},\"mode\":\"lines\",\"x\":[125.0,125.0,135.0,135.0],\"xaxis\":\"x\",\"y\":[0.0,0.13975972015707552,0.13975972015707552,0.0],\"yaxis\":\"y\",\"type\":\"scatter\"},{\"hoverinfo\":\"text\",\"marker\":{\"color\":\"rgb(0,116,217)\"},\"mode\":\"lines\",\"x\":[115.0,115.0,130.0,130.0],\"xaxis\":\"x\",\"y\":[0.0,0.7064096921199924,0.7064096921199924,0.13975972015707552],\"yaxis\":\"y\",\"type\":\"scatter\"},{\"hoverinfo\":\"text\",\"marker\":{\"color\":\"rgb(0,116,217)\"},\"mode\":\"lines\",\"x\":[155.0,155.0,165.0,165.0],\"xaxis\":\"x\",\"y\":[0.0,0.14692610447676596,0.14692610447676596,0.0],\"yaxis\":\"y\",\"type\":\"scatter\"},{\"hoverinfo\":\"text\",\"marker\":{\"color\":\"rgb(0,116,217)\"},\"mode\":\"lines\",\"x\":[145.0,145.0,160.0,160.0],\"xaxis\":\"x\",\"y\":[0.0,0.31179555833794165,0.31179555833794165,0.14692610447676596],\"yaxis\":\"y\",\"type\":\"scatter\"},{\"hoverinfo\":\"text\",\"marker\":{\"color\":\"rgb(0,116,217)\"},\"mode\":\"lines\",\"x\":[195.0,195.0,205.0,205.0],\"xaxis\":\"x\",\"y\":[0.0,0.13710992661168947,0.13710992661168947,0.0],\"yaxis\":\"y\",\"type\":\"scatter\"},{\"hoverinfo\":\"text\",\"marker\":{\"color\":\"rgb(0,116,217)\"},\"mode\":\"lines\",\"x\":[185.0,185.0,200.0,200.0],\"xaxis\":\"x\",\"y\":[0.0,0.32785699012283254,0.32785699012283254,0.13710992661168947],\"yaxis\":\"y\",\"type\":\"scatter\"},{\"hoverinfo\":\"text\",\"marker\":{\"color\":\"rgb(0,116,217)\"},\"mode\":\"lines\",\"x\":[175.0,175.0,192.5,192.5],\"xaxis\":\"x\",\"y\":[0.0,0.4019296896133169,0.4019296896133169,0.32785699012283254],\"yaxis\":\"y\",\"type\":\"scatter\"},{\"hoverinfo\":\"text\",\"marker\":{\"color\":\"rgb(0,116,217)\"},\"mode\":\"lines\",\"x\":[152.5,152.5,183.75,183.75],\"xaxis\":\"x\",\"y\":[0.31179555833794165,0.6189575064916503,0.6189575064916503,0.4019296896133169],\"yaxis\":\"y\",\"type\":\"scatter\"},{\"hoverinfo\":\"text\",\"marker\":{\"color\":\"rgb(0,116,217)\"},\"mode\":\"lines\",\"x\":[225.0,225.0,235.0,235.0],\"xaxis\":\"x\",\"y\":[0.0,0.04280635802071503,0.04280635802071503,0.0],\"yaxis\":\"y\",\"type\":\"scatter\"},{\"hoverinfo\":\"text\",\"marker\":{\"color\":\"rgb(0,116,217)\"},\"mode\":\"lines\",\"x\":[245.0,245.0,255.0,255.0],\"xaxis\":\"x\",\"y\":[0.0,0.06306517628686403,0.06306517628686403,0.0],\"yaxis\":\"y\",\"type\":\"scatter\"},{\"hoverinfo\":\"text\",\"marker\":{\"color\":\"rgb(0,116,217)\"},\"mode\":\"lines\",\"x\":[230.0,230.0,250.0,250.0],\"xaxis\":\"x\",\"y\":[0.04280635802071503,0.18851634764369507,0.18851634764369507,0.06306517628686403],\"yaxis\":\"y\",\"type\":\"scatter\"},{\"hoverinfo\":\"text\",\"marker\":{\"color\":\"rgb(0,116,217)\"},\"mode\":\"lines\",\"x\":[215.0,215.0,240.0,240.0],\"xaxis\":\"x\",\"y\":[0.0,0.23451818445284833,0.23451818445284833,0.18851634764369507],\"yaxis\":\"y\",\"type\":\"scatter\"},{\"hoverinfo\":\"text\",\"marker\":{\"color\":\"rgb(0,116,217)\"},\"mode\":\"lines\",\"x\":[275.0,275.0,285.0,285.0],\"xaxis\":\"x\",\"y\":[0.0,0.03437215474252779,0.03437215474252779,0.0],\"yaxis\":\"y\",\"type\":\"scatter\"},{\"hoverinfo\":\"text\",\"marker\":{\"color\":\"rgb(0,116,217)\"},\"mode\":\"lines\",\"x\":[265.0,265.0,280.0,280.0],\"xaxis\":\"x\",\"y\":[0.0,0.12422212395013323,0.12422212395013323,0.03437215474252779],\"yaxis\":\"y\",\"type\":\"scatter\"},{\"hoverinfo\":\"text\",\"marker\":{\"color\":\"rgb(0,116,217)\"},\"mode\":\"lines\",\"x\":[315.0,315.0,325.0,325.0],\"xaxis\":\"x\",\"y\":[0.0,0.05139741229310803,0.05139741229310803,0.0],\"yaxis\":\"y\",\"type\":\"scatter\"},{\"hoverinfo\":\"text\",\"marker\":{\"color\":\"rgb(0,116,217)\"},\"mode\":\"lines\",\"x\":[305.0,305.0,320.0,320.0],\"xaxis\":\"x\",\"y\":[0.0,0.13615265946754612,0.13615265946754612,0.05139741229310803],\"yaxis\":\"y\",\"type\":\"scatter\"},{\"hoverinfo\":\"text\",\"marker\":{\"color\":\"rgb(0,116,217)\"},\"mode\":\"lines\",\"x\":[295.0,295.0,312.5,312.5],\"xaxis\":\"x\",\"y\":[0.0,0.17403345329248457,0.17403345329248457,0.13615265946754612],\"yaxis\":\"y\",\"type\":\"scatter\"},{\"hoverinfo\":\"text\",\"marker\":{\"color\":\"rgb(0,116,217)\"},\"mode\":\"lines\",\"x\":[272.5,272.5,303.75,303.75],\"xaxis\":\"x\",\"y\":[0.12422212395013323,0.3964003204597165,0.3964003204597165,0.17403345329248457],\"yaxis\":\"y\",\"type\":\"scatter\"},{\"hoverinfo\":\"text\",\"marker\":{\"color\":\"rgb(0,116,217)\"},\"mode\":\"lines\",\"x\":[227.5,227.5,288.125,288.125],\"xaxis\":\"x\",\"y\":[0.23451818445284833,0.7690855005091025,0.7690855005091025,0.3964003204597165],\"yaxis\":\"y\",\"type\":\"scatter\"},{\"hoverinfo\":\"text\",\"marker\":{\"color\":\"rgb(0,116,217)\"},\"mode\":\"lines\",\"x\":[168.125,168.125,257.8125,257.8125],\"xaxis\":\"x\",\"y\":[0.6189575064916503,0.9542697637012866,0.9542697637012866,0.7690855005091025],\"yaxis\":\"y\",\"type\":\"scatter\"},{\"hoverinfo\":\"text\",\"marker\":{\"color\":\"rgb(0,116,217)\"},\"mode\":\"lines\",\"x\":[335.0,335.0,345.0,345.0],\"xaxis\":\"x\",\"y\":[0.0,0.3260194072991155,0.3260194072991155,0.0],\"yaxis\":\"y\",\"type\":\"scatter\"},{\"hoverinfo\":\"text\",\"marker\":{\"color\":\"rgb(0,116,217)\"},\"mode\":\"lines\",\"x\":[355.0,355.0,365.0,365.0],\"xaxis\":\"x\",\"y\":[0.0,0.1873234129962439,0.1873234129962439,0.0],\"yaxis\":\"y\",\"type\":\"scatter\"},{\"hoverinfo\":\"text\",\"marker\":{\"color\":\"rgb(0,116,217)\"},\"mode\":\"lines\",\"x\":[375.0,375.0,385.0,385.0],\"xaxis\":\"x\",\"y\":[0.0,0.051397412293108444,0.051397412293108444,0.0],\"yaxis\":\"y\",\"type\":\"scatter\"},{\"hoverinfo\":\"text\",\"marker\":{\"color\":\"rgb(0,116,217)\"},\"mode\":\"lines\",\"x\":[395.0,395.0,405.0,405.0],\"xaxis\":\"x\",\"y\":[0.0,0.09410402468181801,0.09410402468181801,0.0],\"yaxis\":\"y\",\"type\":\"scatter\"},{\"hoverinfo\":\"text\",\"marker\":{\"color\":\"rgb(0,116,217)\"},\"mode\":\"lines\",\"x\":[380.0,380.0,400.0,400.0],\"xaxis\":\"x\",\"y\":[0.051397412293108444,0.23318427572456601,0.23318427572456601,0.09410402468181801],\"yaxis\":\"y\",\"type\":\"scatter\"},{\"hoverinfo\":\"text\",\"marker\":{\"color\":\"rgb(0,116,217)\"},\"mode\":\"lines\",\"x\":[360.0,360.0,390.0,390.0],\"xaxis\":\"x\",\"y\":[0.1873234129962439,0.5133379090025223,0.5133379090025223,0.23318427572456601],\"yaxis\":\"y\",\"type\":\"scatter\"},{\"hoverinfo\":\"text\",\"marker\":{\"color\":\"rgb(0,116,217)\"},\"mode\":\"lines\",\"x\":[415.0,415.0,425.0,425.0],\"xaxis\":\"x\",\"y\":[0.0,0.23595263025062035,0.23595263025062035,0.0],\"yaxis\":\"y\",\"type\":\"scatter\"},{\"hoverinfo\":\"text\",\"marker\":{\"color\":\"rgb(0,116,217)\"},\"mode\":\"lines\",\"x\":[455.0,455.0,465.0,465.0],\"xaxis\":\"x\",\"y\":[0.0,0.1685905140421095,0.1685905140421095,0.0],\"yaxis\":\"y\",\"type\":\"scatter\"},{\"hoverinfo\":\"text\",\"marker\":{\"color\":\"rgb(0,116,217)\"},\"mode\":\"lines\",\"x\":[445.0,445.0,460.0,460.0],\"xaxis\":\"x\",\"y\":[0.0,0.19625016991683594,0.19625016991683594,0.1685905140421095],\"yaxis\":\"y\",\"type\":\"scatter\"},{\"hoverinfo\":\"text\",\"marker\":{\"color\":\"rgb(0,116,217)\"},\"mode\":\"lines\",\"x\":[435.0,435.0,452.5,452.5],\"xaxis\":\"x\",\"y\":[0.0,0.33339670250867237,0.33339670250867237,0.19625016991683594],\"yaxis\":\"y\",\"type\":\"scatter\"},{\"hoverinfo\":\"text\",\"marker\":{\"color\":\"rgb(0,116,217)\"},\"mode\":\"lines\",\"x\":[420.0,420.0,443.75,443.75],\"xaxis\":\"x\",\"y\":[0.23595263025062035,0.6055813724162807,0.6055813724162807,0.33339670250867237],\"yaxis\":\"y\",\"type\":\"scatter\"},{\"hoverinfo\":\"text\",\"marker\":{\"color\":\"rgb(0,116,217)\"},\"mode\":\"lines\",\"x\":[375.0,375.0,431.875,431.875],\"xaxis\":\"x\",\"y\":[0.5133379090025223,0.9588877899651141,0.9588877899651141,0.6055813724162807],\"yaxis\":\"y\",\"type\":\"scatter\"},{\"hoverinfo\":\"text\",\"marker\":{\"color\":\"rgb(0,116,217)\"},\"mode\":\"lines\",\"x\":[340.0,340.0,403.4375,403.4375],\"xaxis\":\"x\",\"y\":[0.3260194072991155,1.3539364891861474,1.3539364891861474,0.9588877899651141],\"yaxis\":\"y\",\"type\":\"scatter\"},{\"hoverinfo\":\"text\",\"marker\":{\"color\":\"rgb(0,116,217)\"},\"mode\":\"lines\",\"x\":[212.96875,212.96875,371.71875,371.71875],\"xaxis\":\"x\",\"y\":[0.9542697637012866,1.6115535631620228,1.6115535631620228,1.3539364891861474],\"yaxis\":\"y\",\"type\":\"scatter\"},{\"hoverinfo\":\"text\",\"marker\":{\"color\":\"rgb(0,116,217)\"},\"mode\":\"lines\",\"x\":[122.5,122.5,292.34375,292.34375],\"xaxis\":\"x\",\"y\":[0.7064096921199924,2.9094958448937702,2.9094958448937702,1.6115535631620228],\"yaxis\":\"y\",\"type\":\"scatter\"},{\"hoverinfo\":\"text\",\"marker\":{\"color\":\"rgb(0,116,217)\"},\"mode\":\"lines\",\"x\":[37.5,37.5,207.421875,207.421875],\"xaxis\":\"x\",\"y\":[1.7623115910084446,3.3647650645415395,3.3647650645415395,2.9094958448937702],\"yaxis\":\"y\",\"type\":\"scatter\"},{\"hoverinfo\":\"text\",\"marker\":{\"color\":\"rgb(0,116,217)\"},\"mode\":\"lines\",\"x\":[495.0,495.0,505.0,505.0],\"xaxis\":\"x\",\"y\":[0.0,0.3842101223880745,0.3842101223880745,0.0],\"yaxis\":\"y\",\"type\":\"scatter\"},{\"hoverinfo\":\"text\",\"marker\":{\"color\":\"rgb(0,116,217)\"},\"mode\":\"lines\",\"x\":[485.0,485.0,500.0,500.0],\"xaxis\":\"x\",\"y\":[0.0,0.4204342005618244,0.4204342005618244,0.3842101223880745],\"yaxis\":\"y\",\"type\":\"scatter\"},{\"hoverinfo\":\"text\",\"marker\":{\"color\":\"rgb(0,116,217)\"},\"mode\":\"lines\",\"x\":[475.0,475.0,492.5,492.5],\"xaxis\":\"x\",\"y\":[0.0,0.9624508321318382,0.9624508321318382,0.4204342005618244],\"yaxis\":\"y\",\"type\":\"scatter\"},{\"hoverinfo\":\"text\",\"marker\":{\"color\":\"rgb(0,116,217)\"},\"mode\":\"lines\",\"x\":[515.0,515.0,525.0,525.0],\"xaxis\":\"x\",\"y\":[0.0,0.04196686728486595,0.04196686728486595,0.0],\"yaxis\":\"y\",\"type\":\"scatter\"},{\"hoverinfo\":\"text\",\"marker\":{\"color\":\"rgb(0,116,217)\"},\"mode\":\"lines\",\"x\":[535.0,535.0,545.0,545.0],\"xaxis\":\"x\",\"y\":[0.0,0.07630648304882538,0.07630648304882538,0.0],\"yaxis\":\"y\",\"type\":\"scatter\"},{\"hoverinfo\":\"text\",\"marker\":{\"color\":\"rgb(0,116,217)\"},\"mode\":\"lines\",\"x\":[555.0,555.0,565.0,565.0],\"xaxis\":\"x\",\"y\":[0.0,0.10523708126474778,0.10523708126474778,0.0],\"yaxis\":\"y\",\"type\":\"scatter\"},{\"hoverinfo\":\"text\",\"marker\":{\"color\":\"rgb(0,116,217)\"},\"mode\":\"lines\",\"x\":[540.0,540.0,560.0,560.0],\"xaxis\":\"x\",\"y\":[0.07630648304882538,0.23028186877490892,0.23028186877490892,0.10523708126474778],\"yaxis\":\"y\",\"type\":\"scatter\"},{\"hoverinfo\":\"text\",\"marker\":{\"color\":\"rgb(0,116,217)\"},\"mode\":\"lines\",\"x\":[520.0,520.0,550.0,550.0],\"xaxis\":\"x\",\"y\":[0.04196686728486595,0.26545343806974486,0.26545343806974486,0.23028186877490892],\"yaxis\":\"y\",\"type\":\"scatter\"},{\"hoverinfo\":\"text\",\"marker\":{\"color\":\"rgb(0,116,217)\"},\"mode\":\"lines\",\"x\":[585.0,585.0,595.0,595.0],\"xaxis\":\"x\",\"y\":[0.0,0.1323007134033603,0.1323007134033603,0.0],\"yaxis\":\"y\",\"type\":\"scatter\"},{\"hoverinfo\":\"text\",\"marker\":{\"color\":\"rgb(0,116,217)\"},\"mode\":\"lines\",\"x\":[575.0,575.0,590.0,590.0],\"xaxis\":\"x\",\"y\":[0.0,0.3195470042292061,0.3195470042292061,0.1323007134033603],\"yaxis\":\"y\",\"type\":\"scatter\"},{\"hoverinfo\":\"text\",\"marker\":{\"color\":\"rgb(0,116,217)\"},\"mode\":\"lines\",\"x\":[535.0,535.0,582.5,582.5],\"xaxis\":\"x\",\"y\":[0.26545343806974486,0.5817597519203278,0.5817597519203278,0.3195470042292061],\"yaxis\":\"y\",\"type\":\"scatter\"},{\"hoverinfo\":\"text\",\"marker\":{\"color\":\"rgb(0,116,217)\"},\"mode\":\"lines\",\"x\":[625.0,625.0,635.0,635.0],\"xaxis\":\"x\",\"y\":[0.0,0.04365285472512131,0.04365285472512131,0.0],\"yaxis\":\"y\",\"type\":\"scatter\"},{\"hoverinfo\":\"text\",\"marker\":{\"color\":\"rgb(0,116,217)\"},\"mode\":\"lines\",\"x\":[645.0,645.0,655.0,655.0],\"xaxis\":\"x\",\"y\":[0.0,0.04365285472512305,0.04365285472512305,0.0],\"yaxis\":\"y\",\"type\":\"scatter\"},{\"hoverinfo\":\"text\",\"marker\":{\"color\":\"rgb(0,116,217)\"},\"mode\":\"lines\",\"x\":[630.0,630.0,650.0,650.0],\"xaxis\":\"x\",\"y\":[0.04365285472512131,0.14513097895344734,0.14513097895344734,0.04365285472512305],\"yaxis\":\"y\",\"type\":\"scatter\"},{\"hoverinfo\":\"text\",\"marker\":{\"color\":\"rgb(0,116,217)\"},\"mode\":\"lines\",\"x\":[615.0,615.0,640.0,640.0],\"xaxis\":\"x\",\"y\":[0.0,0.2553227356318865,0.2553227356318865,0.14513097895344734],\"yaxis\":\"y\",\"type\":\"scatter\"},{\"hoverinfo\":\"text\",\"marker\":{\"color\":\"rgb(0,116,217)\"},\"mode\":\"lines\",\"x\":[685.0,685.0,695.0,695.0],\"xaxis\":\"x\",\"y\":[0.0,0.08337577355010818,0.08337577355010818,0.0],\"yaxis\":\"y\",\"type\":\"scatter\"},{\"hoverinfo\":\"text\",\"marker\":{\"color\":\"rgb(0,116,217)\"},\"mode\":\"lines\",\"x\":[675.0,675.0,690.0,690.0],\"xaxis\":\"x\",\"y\":[0.0,0.14223637132454772,0.14223637132454772,0.08337577355010818],\"yaxis\":\"y\",\"type\":\"scatter\"},{\"hoverinfo\":\"text\",\"marker\":{\"color\":\"rgb(0,116,217)\"},\"mode\":\"lines\",\"x\":[665.0,665.0,682.5,682.5],\"xaxis\":\"x\",\"y\":[0.0,0.3203095029423258,0.3203095029423258,0.14223637132454772],\"yaxis\":\"y\",\"type\":\"scatter\"},{\"hoverinfo\":\"text\",\"marker\":{\"color\":\"rgb(0,116,217)\"},\"mode\":\"lines\",\"x\":[627.5,627.5,673.75,673.75],\"xaxis\":\"x\",\"y\":[0.2553227356318865,0.6022795159216788,0.6022795159216788,0.3203095029423258],\"yaxis\":\"y\",\"type\":\"scatter\"},{\"hoverinfo\":\"text\",\"marker\":{\"color\":\"rgb(0,116,217)\"},\"mode\":\"lines\",\"x\":[725.0,725.0,735.0,735.0],\"xaxis\":\"x\",\"y\":[0.0,0.05331907673260638,0.05331907673260638,0.0],\"yaxis\":\"y\",\"type\":\"scatter\"},{\"hoverinfo\":\"text\",\"marker\":{\"color\":\"rgb(0,116,217)\"},\"mode\":\"lines\",\"x\":[715.0,715.0,730.0,730.0],\"xaxis\":\"x\",\"y\":[0.0,0.12145780184386158,0.12145780184386158,0.05331907673260638],\"yaxis\":\"y\",\"type\":\"scatter\"},{\"hoverinfo\":\"text\",\"marker\":{\"color\":\"rgb(0,116,217)\"},\"mode\":\"lines\",\"x\":[705.0,705.0,722.5,722.5],\"xaxis\":\"x\",\"y\":[0.0,0.396461975808205,0.396461975808205,0.12145780184386158],\"yaxis\":\"y\",\"type\":\"scatter\"},{\"hoverinfo\":\"text\",\"marker\":{\"color\":\"rgb(0,116,217)\"},\"mode\":\"lines\",\"x\":[745.0,745.0,755.0,755.0],\"xaxis\":\"x\",\"y\":[0.0,0.21663725311855764,0.21663725311855764,0.0],\"yaxis\":\"y\",\"type\":\"scatter\"},{\"hoverinfo\":\"text\",\"marker\":{\"color\":\"rgb(0,116,217)\"},\"mode\":\"lines\",\"x\":[785.0,785.0,795.0,795.0],\"xaxis\":\"x\",\"y\":[0.0,0.08561271604142949,0.08561271604142949,0.0],\"yaxis\":\"y\",\"type\":\"scatter\"},{\"hoverinfo\":\"text\",\"marker\":{\"color\":\"rgb(0,116,217)\"},\"mode\":\"lines\",\"x\":[775.0,775.0,790.0,790.0],\"xaxis\":\"x\",\"y\":[0.0,0.12913046641489961,0.12913046641489961,0.08561271604142949],\"yaxis\":\"y\",\"type\":\"scatter\"},{\"hoverinfo\":\"text\",\"marker\":{\"color\":\"rgb(0,116,217)\"},\"mode\":\"lines\",\"x\":[765.0,765.0,782.5,782.5],\"xaxis\":\"x\",\"y\":[0.0,0.2735606229099881,0.2735606229099881,0.12913046641489961],\"yaxis\":\"y\",\"type\":\"scatter\"},{\"hoverinfo\":\"text\",\"marker\":{\"color\":\"rgb(0,116,217)\"},\"mode\":\"lines\",\"x\":[750.0,750.0,773.75,773.75],\"xaxis\":\"x\",\"y\":[0.21663725311855764,0.4325489512436782,0.4325489512436782,0.2735606229099881],\"yaxis\":\"y\",\"type\":\"scatter\"},{\"hoverinfo\":\"text\",\"marker\":{\"color\":\"rgb(0,116,217)\"},\"mode\":\"lines\",\"x\":[713.75,713.75,761.875,761.875],\"xaxis\":\"x\",\"y\":[0.396461975808205,0.6261276907800093,0.6261276907800093,0.4325489512436782],\"yaxis\":\"y\",\"type\":\"scatter\"},{\"hoverinfo\":\"text\",\"marker\":{\"color\":\"rgb(0,116,217)\"},\"mode\":\"lines\",\"x\":[650.625,650.625,737.8125,737.8125],\"xaxis\":\"x\",\"y\":[0.6022795159216788,0.885134162860279,0.885134162860279,0.6261276907800093],\"yaxis\":\"y\",\"type\":\"scatter\"},{\"hoverinfo\":\"text\",\"marker\":{\"color\":\"rgb(0,116,217)\"},\"mode\":\"lines\",\"x\":[605.0,605.0,694.21875,694.21875],\"xaxis\":\"x\",\"y\":[0.0,1.0276987650236056,1.0276987650236056,0.885134162860279],\"yaxis\":\"y\",\"type\":\"scatter\"},{\"hoverinfo\":\"text\",\"marker\":{\"color\":\"rgb(0,116,217)\"},\"mode\":\"lines\",\"x\":[558.75,558.75,649.609375,649.609375],\"xaxis\":\"x\",\"y\":[0.5817597519203278,1.7086794888692804,1.7086794888692804,1.0276987650236056],\"yaxis\":\"y\",\"type\":\"scatter\"},{\"hoverinfo\":\"text\",\"marker\":{\"color\":\"rgb(0,116,217)\"},\"mode\":\"lines\",\"x\":[483.75,483.75,604.1796875,604.1796875],\"xaxis\":\"x\",\"y\":[0.9624508321318382,2.9069888715125742,2.9069888715125742,1.7086794888692804],\"yaxis\":\"y\",\"type\":\"scatter\"},{\"hoverinfo\":\"text\",\"marker\":{\"color\":\"rgb(0,116,217)\"},\"mode\":\"lines\",\"x\":[825.0,825.0,835.0,835.0],\"xaxis\":\"x\",\"y\":[0.0,0.21134902766696692,0.21134902766696692,0.0],\"yaxis\":\"y\",\"type\":\"scatter\"},{\"hoverinfo\":\"text\",\"marker\":{\"color\":\"rgb(0,116,217)\"},\"mode\":\"lines\",\"x\":[815.0,815.0,830.0,830.0],\"xaxis\":\"x\",\"y\":[0.0,0.3365510487865416,0.3365510487865416,0.21134902766696692],\"yaxis\":\"y\",\"type\":\"scatter\"},{\"hoverinfo\":\"text\",\"marker\":{\"color\":\"rgb(0,116,217)\"},\"mode\":\"lines\",\"x\":[865.0,865.0,875.0,875.0],\"xaxis\":\"x\",\"y\":[0.0,0.05331907673260718,0.05331907673260718,0.0],\"yaxis\":\"y\",\"type\":\"scatter\"},{\"hoverinfo\":\"text\",\"marker\":{\"color\":\"rgb(0,116,217)\"},\"mode\":\"lines\",\"x\":[855.0,855.0,870.0,870.0],\"xaxis\":\"x\",\"y\":[0.0,0.13784829338354568,0.13784829338354568,0.05331907673260718],\"yaxis\":\"y\",\"type\":\"scatter\"},{\"hoverinfo\":\"text\",\"marker\":{\"color\":\"rgb(0,116,217)\"},\"mode\":\"lines\",\"x\":[845.0,845.0,862.5,862.5],\"xaxis\":\"x\",\"y\":[0.0,0.32070277540188236,0.32070277540188236,0.13784829338354568],\"yaxis\":\"y\",\"type\":\"scatter\"},{\"hoverinfo\":\"text\",\"marker\":{\"color\":\"rgb(0,116,217)\"},\"mode\":\"lines\",\"x\":[895.0,895.0,905.0,905.0],\"xaxis\":\"x\",\"y\":[0.0,0.03815324152441456,0.03815324152441456,0.0],\"yaxis\":\"y\",\"type\":\"scatter\"},{\"hoverinfo\":\"text\",\"marker\":{\"color\":\"rgb(0,116,217)\"},\"mode\":\"lines\",\"x\":[885.0,885.0,900.0,900.0],\"xaxis\":\"x\",\"y\":[0.0,0.14513097895344781,0.14513097895344781,0.03815324152441456],\"yaxis\":\"y\",\"type\":\"scatter\"},{\"hoverinfo\":\"text\",\"marker\":{\"color\":\"rgb(0,116,217)\"},\"mode\":\"lines\",\"x\":[935.0,935.0,945.0,945.0],\"xaxis\":\"x\",\"y\":[0.0,0.0,0.0,0.0],\"yaxis\":\"y\",\"type\":\"scatter\"},{\"hoverinfo\":\"text\",\"marker\":{\"color\":\"rgb(0,116,217)\"},\"mode\":\"lines\",\"x\":[925.0,925.0,940.0,940.0],\"xaxis\":\"x\",\"y\":[0.0,0.0,0.0,0.0],\"yaxis\":\"y\",\"type\":\"scatter\"},{\"hoverinfo\":\"text\",\"marker\":{\"color\":\"rgb(0,116,217)\"},\"mode\":\"lines\",\"x\":[915.0,915.0,932.5,932.5],\"xaxis\":\"x\",\"y\":[0.0,0.05651285515586215,0.05651285515586215,0.0],\"yaxis\":\"y\",\"type\":\"scatter\"},{\"hoverinfo\":\"text\",\"marker\":{\"color\":\"rgb(0,116,217)\"},\"mode\":\"lines\",\"x\":[955.0,955.0,965.0,965.0],\"xaxis\":\"x\",\"y\":[0.0,0.15590864319878062,0.15590864319878062,0.0],\"yaxis\":\"y\",\"type\":\"scatter\"},{\"hoverinfo\":\"text\",\"marker\":{\"color\":\"rgb(0,116,217)\"},\"mode\":\"lines\",\"x\":[923.75,923.75,960.0,960.0],\"xaxis\":\"x\",\"y\":[0.05651285515586215,0.2628844414641438,0.2628844414641438,0.15590864319878062],\"yaxis\":\"y\",\"type\":\"scatter\"},{\"hoverinfo\":\"text\",\"marker\":{\"color\":\"rgb(0,116,217)\"},\"mode\":\"lines\",\"x\":[892.5,892.5,941.875,941.875],\"xaxis\":\"x\",\"y\":[0.14513097895344781,0.3486933680418454,0.3486933680418454,0.2628844414641438],\"yaxis\":\"y\",\"type\":\"scatter\"},{\"hoverinfo\":\"text\",\"marker\":{\"color\":\"rgb(0,116,217)\"},\"mode\":\"lines\",\"x\":[853.75,853.75,917.1875,917.1875],\"xaxis\":\"x\",\"y\":[0.32070277540188236,0.6202520639239195,0.6202520639239195,0.3486933680418454],\"yaxis\":\"y\",\"type\":\"scatter\"},{\"hoverinfo\":\"text\",\"marker\":{\"color\":\"rgb(0,116,217)\"},\"mode\":\"lines\",\"x\":[822.5,822.5,885.46875,885.46875],\"xaxis\":\"x\",\"y\":[0.3365510487865416,0.7836907919106655,0.7836907919106655,0.6202520639239195],\"yaxis\":\"y\",\"type\":\"scatter\"},{\"hoverinfo\":\"text\",\"marker\":{\"color\":\"rgb(0,116,217)\"},\"mode\":\"lines\",\"x\":[805.0,805.0,853.984375,853.984375],\"xaxis\":\"x\",\"y\":[0.0,2.069589191890011,2.069589191890011,0.7836907919106655],\"yaxis\":\"y\",\"type\":\"scatter\"},{\"hoverinfo\":\"text\",\"marker\":{\"color\":\"rgb(0,116,217)\"},\"mode\":\"lines\",\"x\":[995.0,995.0,1005.0,1005.0],\"xaxis\":\"x\",\"y\":[0.0,0.2098022647924499,0.2098022647924499,0.0],\"yaxis\":\"y\",\"type\":\"scatter\"},{\"hoverinfo\":\"text\",\"marker\":{\"color\":\"rgb(0,116,217)\"},\"mode\":\"lines\",\"x\":[985.0,985.0,1000.0,1000.0],\"xaxis\":\"x\",\"y\":[0.0,0.4856794131982542,0.4856794131982542,0.2098022647924499],\"yaxis\":\"y\",\"type\":\"scatter\"},{\"hoverinfo\":\"text\",\"marker\":{\"color\":\"rgb(0,116,217)\"},\"mode\":\"lines\",\"x\":[1025.0,1025.0,1035.0,1035.0],\"xaxis\":\"x\",\"y\":[0.0,0.15499823689709508,0.15499823689709508,0.0],\"yaxis\":\"y\",\"type\":\"scatter\"},{\"hoverinfo\":\"text\",\"marker\":{\"color\":\"rgb(0,116,217)\"},\"mode\":\"lines\",\"x\":[1015.0,1015.0,1030.0,1030.0],\"xaxis\":\"x\",\"y\":[0.0,0.2872280521239662,0.2872280521239662,0.15499823689709508],\"yaxis\":\"y\",\"type\":\"scatter\"},{\"hoverinfo\":\"text\",\"marker\":{\"color\":\"rgb(0,116,217)\"},\"mode\":\"lines\",\"x\":[1045.0,1045.0,1055.0,1055.0],\"xaxis\":\"x\",\"y\":[0.0,0.10786210118850602,0.10786210118850602,0.0],\"yaxis\":\"y\",\"type\":\"scatter\"},{\"hoverinfo\":\"text\",\"marker\":{\"color\":\"rgb(0,116,217)\"},\"mode\":\"lines\",\"x\":[1065.0,1065.0,1075.0,1075.0],\"xaxis\":\"x\",\"y\":[0.0,0.12145780184386122,0.12145780184386122,0.0],\"yaxis\":\"y\",\"type\":\"scatter\"},{\"hoverinfo\":\"text\",\"marker\":{\"color\":\"rgb(0,116,217)\"},\"mode\":\"lines\",\"x\":[1050.0,1050.0,1070.0,1070.0],\"xaxis\":\"x\",\"y\":[0.10786210118850602,0.35722646540345715,0.35722646540345715,0.12145780184386122],\"yaxis\":\"y\",\"type\":\"scatter\"},{\"hoverinfo\":\"text\",\"marker\":{\"color\":\"rgb(0,116,217)\"},\"mode\":\"lines\",\"x\":[1022.5,1022.5,1060.0,1060.0],\"xaxis\":\"x\",\"y\":[0.2872280521239662,0.6133451557743754,0.6133451557743754,0.35722646540345715],\"yaxis\":\"y\",\"type\":\"scatter\"},{\"hoverinfo\":\"text\",\"marker\":{\"color\":\"rgb(0,116,217)\"},\"mode\":\"lines\",\"x\":[992.5,992.5,1041.25,1041.25],\"xaxis\":\"x\",\"y\":[0.4856794131982542,1.0522663473970169,1.0522663473970169,0.6133451557743754],\"yaxis\":\"y\",\"type\":\"scatter\"},{\"hoverinfo\":\"text\",\"marker\":{\"color\":\"rgb(0,116,217)\"},\"mode\":\"lines\",\"x\":[975.0,975.0,1016.875,1016.875],\"xaxis\":\"x\",\"y\":[0.0,1.387204925499918,1.387204925499918,1.0522663473970169],\"yaxis\":\"y\",\"type\":\"scatter\"},{\"hoverinfo\":\"text\",\"marker\":{\"color\":\"rgb(0,116,217)\"},\"mode\":\"lines\",\"x\":[1095.0,1095.0,1105.0,1105.0],\"xaxis\":\"x\",\"y\":[0.0,0.09268419554363164,0.09268419554363164,0.0],\"yaxis\":\"y\",\"type\":\"scatter\"},{\"hoverinfo\":\"text\",\"marker\":{\"color\":\"rgb(0,116,217)\"},\"mode\":\"lines\",\"x\":[1085.0,1085.0,1100.0,1100.0],\"xaxis\":\"x\",\"y\":[0.0,0.39149727809205886,0.39149727809205886,0.09268419554363164],\"yaxis\":\"y\",\"type\":\"scatter\"},{\"hoverinfo\":\"text\",\"marker\":{\"color\":\"rgb(0,116,217)\"},\"mode\":\"lines\",\"x\":[1125.0,1125.0,1135.0,1135.0],\"xaxis\":\"x\",\"y\":[0.0,0.227863005066163,0.227863005066163,0.0],\"yaxis\":\"y\",\"type\":\"scatter\"},{\"hoverinfo\":\"text\",\"marker\":{\"color\":\"rgb(0,116,217)\"},\"mode\":\"lines\",\"x\":[1115.0,1115.0,1130.0,1130.0],\"xaxis\":\"x\",\"y\":[0.0,0.40243904193663227,0.40243904193663227,0.227863005066163],\"yaxis\":\"y\",\"type\":\"scatter\"},{\"hoverinfo\":\"text\",\"marker\":{\"color\":\"rgb(0,116,217)\"},\"mode\":\"lines\",\"x\":[1145.0,1145.0,1155.0,1155.0],\"xaxis\":\"x\",\"y\":[0.0,0.1414397307552022,0.1414397307552022,0.0],\"yaxis\":\"y\",\"type\":\"scatter\"},{\"hoverinfo\":\"text\",\"marker\":{\"color\":\"rgb(0,116,217)\"},\"mode\":\"lines\",\"x\":[1165.0,1165.0,1175.0,1175.0],\"xaxis\":\"x\",\"y\":[0.0,0.10569741933109333,0.10569741933109333,0.0],\"yaxis\":\"y\",\"type\":\"scatter\"},{\"hoverinfo\":\"text\",\"marker\":{\"color\":\"rgb(0,116,217)\"},\"mode\":\"lines\",\"x\":[1195.0,1195.0,1205.0,1205.0],\"xaxis\":\"x\",\"y\":[0.0,0.0,0.0,0.0],\"yaxis\":\"y\",\"type\":\"scatter\"},{\"hoverinfo\":\"text\",\"marker\":{\"color\":\"rgb(0,116,217)\"},\"mode\":\"lines\",\"x\":[1185.0,1185.0,1200.0,1200.0],\"xaxis\":\"x\",\"y\":[0.0,0.12401589958459812,0.12401589958459812,0.0],\"yaxis\":\"y\",\"type\":\"scatter\"},{\"hoverinfo\":\"text\",\"marker\":{\"color\":\"rgb(0,116,217)\"},\"mode\":\"lines\",\"x\":[1170.0,1170.0,1192.5,1192.5],\"xaxis\":\"x\",\"y\":[0.10569741933109333,0.3323990748831364,0.3323990748831364,0.12401589958459812],\"yaxis\":\"y\",\"type\":\"scatter\"},{\"hoverinfo\":\"text\",\"marker\":{\"color\":\"rgb(0,116,217)\"},\"mode\":\"lines\",\"x\":[1150.0,1150.0,1181.25,1181.25],\"xaxis\":\"x\",\"y\":[0.1414397307552022,0.5063391269181584,0.5063391269181584,0.3323990748831364],\"yaxis\":\"y\",\"type\":\"scatter\"},{\"hoverinfo\":\"text\",\"marker\":{\"color\":\"rgb(0,116,217)\"},\"mode\":\"lines\",\"x\":[1122.5,1122.5,1165.625,1165.625],\"xaxis\":\"x\",\"y\":[0.40243904193663227,0.7533870180569346,0.7533870180569346,0.5063391269181584],\"yaxis\":\"y\",\"type\":\"scatter\"},{\"hoverinfo\":\"text\",\"marker\":{\"color\":\"rgb(0,116,217)\"},\"mode\":\"lines\",\"x\":[1092.5,1092.5,1144.0625,1144.0625],\"xaxis\":\"x\",\"y\":[0.39149727809205886,1.2906485879870757,1.2906485879870757,0.7533870180569346],\"yaxis\":\"y\",\"type\":\"scatter\"},{\"hoverinfo\":\"text\",\"marker\":{\"color\":\"rgb(0,116,217)\"},\"mode\":\"lines\",\"x\":[1215.0,1215.0,1225.0,1225.0],\"xaxis\":\"x\",\"y\":[0.0,0.13230071340336036,0.13230071340336036,0.0],\"yaxis\":\"y\",\"type\":\"scatter\"},{\"hoverinfo\":\"text\",\"marker\":{\"color\":\"rgb(0,116,217)\"},\"mode\":\"lines\",\"x\":[1245.0,1245.0,1255.0,1255.0],\"xaxis\":\"x\",\"y\":[0.0,0.08393373456973265,0.08393373456973265,0.0],\"yaxis\":\"y\",\"type\":\"scatter\"},{\"hoverinfo\":\"text\",\"marker\":{\"color\":\"rgb(0,116,217)\"},\"mode\":\"lines\",\"x\":[1235.0,1235.0,1250.0,1250.0],\"xaxis\":\"x\",\"y\":[0.0,0.14415651931954462,0.14415651931954462,0.08393373456973265],\"yaxis\":\"y\",\"type\":\"scatter\"},{\"hoverinfo\":\"text\",\"marker\":{\"color\":\"rgb(0,116,217)\"},\"mode\":\"lines\",\"x\":[1220.0,1220.0,1242.5,1242.5],\"xaxis\":\"x\",\"y\":[0.13230071340336036,0.3053794702742376,0.3053794702742376,0.14415651931954462],\"yaxis\":\"y\",\"type\":\"scatter\"},{\"hoverinfo\":\"text\",\"marker\":{\"color\":\"rgb(0,116,217)\"},\"mode\":\"lines\",\"x\":[1265.0,1265.0,1275.0,1275.0],\"xaxis\":\"x\",\"y\":[0.0,0.05919022499216741,0.05919022499216741,0.0],\"yaxis\":\"y\",\"type\":\"scatter\"},{\"hoverinfo\":\"text\",\"marker\":{\"color\":\"rgb(0,116,217)\"},\"mode\":\"lines\",\"x\":[1285.0,1285.0,1295.0,1295.0],\"xaxis\":\"x\",\"y\":[0.0,0.1427121637311208,0.1427121637311208,0.0],\"yaxis\":\"y\",\"type\":\"scatter\"},{\"hoverinfo\":\"text\",\"marker\":{\"color\":\"rgb(0,116,217)\"},\"mode\":\"lines\",\"x\":[1270.0,1270.0,1290.0,1290.0],\"xaxis\":\"x\",\"y\":[0.05919022499216741,0.3834212740664655,0.3834212740664655,0.1427121637311208],\"yaxis\":\"y\",\"type\":\"scatter\"},{\"hoverinfo\":\"text\",\"marker\":{\"color\":\"rgb(0,116,217)\"},\"mode\":\"lines\",\"x\":[1231.25,1231.25,1280.0,1280.0],\"xaxis\":\"x\",\"y\":[0.3053794702742376,0.6353698952974258,0.6353698952974258,0.3834212740664655],\"yaxis\":\"y\",\"type\":\"scatter\"},{\"hoverinfo\":\"text\",\"marker\":{\"color\":\"rgb(0,116,217)\"},\"mode\":\"lines\",\"x\":[1315.0,1315.0,1325.0,1325.0],\"xaxis\":\"x\",\"y\":[0.0,0.011445559135701,0.011445559135701,0.0],\"yaxis\":\"y\",\"type\":\"scatter\"},{\"hoverinfo\":\"text\",\"marker\":{\"color\":\"rgb(0,116,217)\"},\"mode\":\"lines\",\"x\":[1305.0,1305.0,1320.0,1320.0],\"xaxis\":\"x\",\"y\":[0.0,0.0621478053936321,0.0621478053936321,0.011445559135701],\"yaxis\":\"y\",\"type\":\"scatter\"},{\"hoverinfo\":\"text\",\"marker\":{\"color\":\"rgb(0,116,217)\"},\"mode\":\"lines\",\"x\":[1345.0,1345.0,1355.0,1355.0],\"xaxis\":\"x\",\"y\":[0.0,0.06481686495779498,0.06481686495779498,0.0],\"yaxis\":\"y\",\"type\":\"scatter\"},{\"hoverinfo\":\"text\",\"marker\":{\"color\":\"rgb(0,116,217)\"},\"mode\":\"lines\",\"x\":[1335.0,1335.0,1350.0,1350.0],\"xaxis\":\"x\",\"y\":[0.0,0.14608658890461335,0.14608658890461335,0.06481686495779498],\"yaxis\":\"y\",\"type\":\"scatter\"},{\"hoverinfo\":\"text\",\"marker\":{\"color\":\"rgb(0,116,217)\"},\"mode\":\"lines\",\"x\":[1312.5,1312.5,1342.5,1342.5],\"xaxis\":\"x\",\"y\":[0.0621478053936321,0.42698890131574796,0.42698890131574796,0.14608658890461335],\"yaxis\":\"y\",\"type\":\"scatter\"},{\"hoverinfo\":\"text\",\"marker\":{\"color\":\"rgb(0,116,217)\"},\"mode\":\"lines\",\"x\":[1375.0,1375.0,1385.0,1385.0],\"xaxis\":\"x\",\"y\":[0.0,0.0436528547251229,0.0436528547251229,0.0],\"yaxis\":\"y\",\"type\":\"scatter\"},{\"hoverinfo\":\"text\",\"marker\":{\"color\":\"rgb(0,116,217)\"},\"mode\":\"lines\",\"x\":[1395.0,1395.0,1405.0,1405.0],\"xaxis\":\"x\",\"y\":[0.0,0.09968032343222592,0.09968032343222592,0.0],\"yaxis\":\"y\",\"type\":\"scatter\"},{\"hoverinfo\":\"text\",\"marker\":{\"color\":\"rgb(0,116,217)\"},\"mode\":\"lines\",\"x\":[1380.0,1380.0,1400.0,1400.0],\"xaxis\":\"x\",\"y\":[0.0436528547251229,0.24610693122596575,0.24610693122596575,0.09968032343222592],\"yaxis\":\"y\",\"type\":\"scatter\"},{\"hoverinfo\":\"text\",\"marker\":{\"color\":\"rgb(0,116,217)\"},\"mode\":\"lines\",\"x\":[1365.0,1365.0,1390.0,1390.0],\"xaxis\":\"x\",\"y\":[0.0,0.3000016892075771,0.3000016892075771,0.24610693122596575],\"yaxis\":\"y\",\"type\":\"scatter\"},{\"hoverinfo\":\"text\",\"marker\":{\"color\":\"rgb(0,116,217)\"},\"mode\":\"lines\",\"x\":[1415.0,1415.0,1425.0,1425.0],\"xaxis\":\"x\",\"y\":[0.0,0.15701149474334047,0.15701149474334047,0.0],\"yaxis\":\"y\",\"type\":\"scatter\"},{\"hoverinfo\":\"text\",\"marker\":{\"color\":\"rgb(0,116,217)\"},\"mode\":\"lines\",\"x\":[1435.0,1435.0,1445.0,1445.0],\"xaxis\":\"x\",\"y\":[0.0,0.15995723019781882,0.15995723019781882,0.0],\"yaxis\":\"y\",\"type\":\"scatter\"},{\"hoverinfo\":\"text\",\"marker\":{\"color\":\"rgb(0,116,217)\"},\"mode\":\"lines\",\"x\":[1455.0,1455.0,1465.0,1465.0],\"xaxis\":\"x\",\"y\":[0.0,0.11942903646680672,0.11942903646680672,0.0],\"yaxis\":\"y\",\"type\":\"scatter\"},{\"hoverinfo\":\"text\",\"marker\":{\"color\":\"rgb(0,116,217)\"},\"mode\":\"lines\",\"x\":[1485.0,1485.0,1495.0,1495.0],\"xaxis\":\"x\",\"y\":[0.0,0.06740481035033671,0.06740481035033671,0.0],\"yaxis\":\"y\",\"type\":\"scatter\"},{\"hoverinfo\":\"text\",\"marker\":{\"color\":\"rgb(0,116,217)\"},\"mode\":\"lines\",\"x\":[1475.0,1475.0,1490.0,1490.0],\"xaxis\":\"x\",\"y\":[0.0,0.1467494829642944,0.1467494829642944,0.06740481035033671],\"yaxis\":\"y\",\"type\":\"scatter\"},{\"hoverinfo\":\"text\",\"marker\":{\"color\":\"rgb(0,116,217)\"},\"mode\":\"lines\",\"x\":[1460.0,1460.0,1482.5,1482.5],\"xaxis\":\"x\",\"y\":[0.11942903646680672,0.2548832241040138,0.2548832241040138,0.1467494829642944],\"yaxis\":\"y\",\"type\":\"scatter\"},{\"hoverinfo\":\"text\",\"marker\":{\"color\":\"rgb(0,116,217)\"},\"mode\":\"lines\",\"x\":[1440.0,1440.0,1471.25,1471.25],\"xaxis\":\"x\",\"y\":[0.15995723019781882,0.3746918975833652,0.3746918975833652,0.2548832241040138],\"yaxis\":\"y\",\"type\":\"scatter\"},{\"hoverinfo\":\"text\",\"marker\":{\"color\":\"rgb(0,116,217)\"},\"mode\":\"lines\",\"x\":[1420.0,1420.0,1455.625,1455.625],\"xaxis\":\"x\",\"y\":[0.15701149474334047,0.4690531752873018,0.4690531752873018,0.3746918975833652],\"yaxis\":\"y\",\"type\":\"scatter\"},{\"hoverinfo\":\"text\",\"marker\":{\"color\":\"rgb(0,116,217)\"},\"mode\":\"lines\",\"x\":[1377.5,1377.5,1437.8125,1437.8125],\"xaxis\":\"x\",\"y\":[0.3000016892075771,0.8250034255081452,0.8250034255081452,0.4690531752873018],\"yaxis\":\"y\",\"type\":\"scatter\"},{\"hoverinfo\":\"text\",\"marker\":{\"color\":\"rgb(0,116,217)\"},\"mode\":\"lines\",\"x\":[1327.5,1327.5,1407.65625,1407.65625],\"xaxis\":\"x\",\"y\":[0.42698890131574796,1.2145154428516793,1.2145154428516793,0.8250034255081452],\"yaxis\":\"y\",\"type\":\"scatter\"},{\"hoverinfo\":\"text\",\"marker\":{\"color\":\"rgb(0,116,217)\"},\"mode\":\"lines\",\"x\":[1255.625,1255.625,1367.578125,1367.578125],\"xaxis\":\"x\",\"y\":[0.6353698952974258,1.4596095723087144,1.4596095723087144,1.2145154428516793],\"yaxis\":\"y\",\"type\":\"scatter\"},{\"hoverinfo\":\"text\",\"marker\":{\"color\":\"rgb(0,116,217)\"},\"mode\":\"lines\",\"x\":[1118.28125,1118.28125,1311.6015625,1311.6015625],\"xaxis\":\"x\",\"y\":[1.2906485879870757,1.9331073502273843,1.9331073502273843,1.4596095723087144],\"yaxis\":\"y\",\"type\":\"scatter\"},{\"hoverinfo\":\"text\",\"marker\":{\"color\":\"rgb(0,116,217)\"},\"mode\":\"lines\",\"x\":[995.9375,995.9375,1214.94140625,1214.94140625],\"xaxis\":\"x\",\"y\":[1.387204925499918,2.886501710229769,2.886501710229769,1.9331073502273843],\"yaxis\":\"y\",\"type\":\"scatter\"},{\"hoverinfo\":\"text\",\"marker\":{\"color\":\"rgb(0,116,217)\"},\"mode\":\"lines\",\"x\":[829.4921875,829.4921875,1105.439453125,1105.439453125],\"xaxis\":\"x\",\"y\":[2.069589191890011,4.315789452466484,4.315789452466484,2.886501710229769],\"yaxis\":\"y\",\"type\":\"scatter\"},{\"hoverinfo\":\"text\",\"marker\":{\"color\":\"rgb(0,116,217)\"},\"mode\":\"lines\",\"x\":[543.96484375,543.96484375,967.4658203125,967.4658203125],\"xaxis\":\"x\",\"y\":[2.9069888715125742,5.871303812869838,5.871303812869838,4.315789452466484],\"yaxis\":\"y\",\"type\":\"scatter\"},{\"hoverinfo\":\"text\",\"marker\":{\"color\":\"rgb(0,116,217)\"},\"mode\":\"lines\",\"x\":[122.4609375,122.4609375,755.71533203125,755.71533203125],\"xaxis\":\"x\",\"y\":[3.3647650645415395,6.813667231464727,6.813667231464727,5.871303812869838],\"yaxis\":\"y\",\"type\":\"scatter\"}],                        {\"autosize\":false,\"height\":500,\"hovermode\":\"closest\",\"showlegend\":false,\"width\":800,\"xaxis\":{\"mirror\":\"allticks\",\"rangemode\":\"tozero\",\"showgrid\":false,\"showline\":true,\"showticklabels\":true,\"tickmode\":\"array\",\"ticks\":\"outside\",\"ticktext\":[\"108\",\"111\",\"128\",\"132\",\"118\",\"130\",\"102\",\"107\",\"122\",\"105\",\"135\",\"109\",\"117\",\"131\",\"50\",\"52\",\"110\",\"115\",\"148\",\"124\",\"136\",\"100\",\"120\",\"143\",\"125\",\"144\",\"104\",\"112\",\"145\",\"140\",\"129\",\"139\",\"141\",\"56\",\"85\",\"76\",\"103\",\"116\",\"147\",\"77\",\"137\",\"75\",\"127\",\"86\",\"70\",\"51\",\"65\",\"15\",\"32\",\"14\",\"33\",\"19\",\"46\",\"21\",\"48\",\"10\",\"44\",\"18\",\"5\",\"16\",\"22\",\"4\",\"0\",\"40\",\"17\",\"27\",\"36\",\"31\",\"20\",\"43\",\"23\",\"26\",\"28\",\"39\",\"35\",\"49\",\"6\",\"11\",\"7\",\"24\",\"41\",\"8\",\"13\",\"38\",\"42\",\"29\",\"2\",\"47\",\"25\",\"1\",\"45\",\"30\",\"37\",\"9\",\"34\",\"3\",\"12\",\"60\",\"98\",\"57\",\"93\",\"106\",\"53\",\"62\",\"80\",\"81\",\"69\",\"89\",\"87\",\"68\",\"119\",\"146\",\"72\",\"113\",\"114\",\"123\",\"83\",\"121\",\"134\",\"101\",\"142\",\"55\",\"99\",\"94\",\"67\",\"82\",\"59\",\"79\",\"90\",\"92\",\"149\",\"58\",\"138\",\"54\",\"126\",\"133\",\"64\",\"88\",\"95\",\"84\",\"96\",\"71\",\"73\",\"61\",\"66\",\"74\",\"91\",\"97\",\"63\",\"78\"],\"tickvals\":[5,15,25,35,45,55,65,75,85,95,105,115,125,135,145,155,165,175,185,195,205,215,225,235,245,255,265,275,285,295,305,315,325,335,345,355,365,375,385,395,405,415,425,435,445,455,465,475,485,495,505,515,525,535,545,555,565,575,585,595,605,615,625,635,645,655,665,675,685,695,705,715,725,735,745,755,765,775,785,795,805,815,825,835,845,855,865,875,885,895,905,915,925,935,945,955,965,975,985,995,1005,1015,1025,1035,1045,1055,1065,1075,1085,1095,1105,1115,1125,1135,1145,1155,1165,1175,1185,1195,1205,1215,1225,1235,1245,1255,1265,1275,1285,1295,1305,1315,1325,1335,1345,1355,1365,1375,1385,1395,1405,1415,1425,1435,1445,1455,1465,1475,1485,1495],\"type\":\"linear\",\"zeroline\":false},\"yaxis\":{\"mirror\":\"allticks\",\"rangemode\":\"tozero\",\"showgrid\":false,\"showline\":true,\"showticklabels\":true,\"ticks\":\"outside\",\"type\":\"linear\",\"zeroline\":false},\"template\":{\"data\":{\"histogram2dcontour\":[{\"type\":\"histogram2dcontour\",\"colorbar\":{\"outlinewidth\":0,\"ticks\":\"\"},\"colorscale\":[[0.0,\"#0d0887\"],[0.1111111111111111,\"#46039f\"],[0.2222222222222222,\"#7201a8\"],[0.3333333333333333,\"#9c179e\"],[0.4444444444444444,\"#bd3786\"],[0.5555555555555556,\"#d8576b\"],[0.6666666666666666,\"#ed7953\"],[0.7777777777777778,\"#fb9f3a\"],[0.8888888888888888,\"#fdca26\"],[1.0,\"#f0f921\"]]}],\"choropleth\":[{\"type\":\"choropleth\",\"colorbar\":{\"outlinewidth\":0,\"ticks\":\"\"}}],\"histogram2d\":[{\"type\":\"histogram2d\",\"colorbar\":{\"outlinewidth\":0,\"ticks\":\"\"},\"colorscale\":[[0.0,\"#0d0887\"],[0.1111111111111111,\"#46039f\"],[0.2222222222222222,\"#7201a8\"],[0.3333333333333333,\"#9c179e\"],[0.4444444444444444,\"#bd3786\"],[0.5555555555555556,\"#d8576b\"],[0.6666666666666666,\"#ed7953\"],[0.7777777777777778,\"#fb9f3a\"],[0.8888888888888888,\"#fdca26\"],[1.0,\"#f0f921\"]]}],\"heatmap\":[{\"type\":\"heatmap\",\"colorbar\":{\"outlinewidth\":0,\"ticks\":\"\"},\"colorscale\":[[0.0,\"#0d0887\"],[0.1111111111111111,\"#46039f\"],[0.2222222222222222,\"#7201a8\"],[0.3333333333333333,\"#9c179e\"],[0.4444444444444444,\"#bd3786\"],[0.5555555555555556,\"#d8576b\"],[0.6666666666666666,\"#ed7953\"],[0.7777777777777778,\"#fb9f3a\"],[0.8888888888888888,\"#fdca26\"],[1.0,\"#f0f921\"]]}],\"heatmapgl\":[{\"type\":\"heatmapgl\",\"colorbar\":{\"outlinewidth\":0,\"ticks\":\"\"},\"colorscale\":[[0.0,\"#0d0887\"],[0.1111111111111111,\"#46039f\"],[0.2222222222222222,\"#7201a8\"],[0.3333333333333333,\"#9c179e\"],[0.4444444444444444,\"#bd3786\"],[0.5555555555555556,\"#d8576b\"],[0.6666666666666666,\"#ed7953\"],[0.7777777777777778,\"#fb9f3a\"],[0.8888888888888888,\"#fdca26\"],[1.0,\"#f0f921\"]]}],\"contourcarpet\":[{\"type\":\"contourcarpet\",\"colorbar\":{\"outlinewidth\":0,\"ticks\":\"\"}}],\"contour\":[{\"type\":\"contour\",\"colorbar\":{\"outlinewidth\":0,\"ticks\":\"\"},\"colorscale\":[[0.0,\"#0d0887\"],[0.1111111111111111,\"#46039f\"],[0.2222222222222222,\"#7201a8\"],[0.3333333333333333,\"#9c179e\"],[0.4444444444444444,\"#bd3786\"],[0.5555555555555556,\"#d8576b\"],[0.6666666666666666,\"#ed7953\"],[0.7777777777777778,\"#fb9f3a\"],[0.8888888888888888,\"#fdca26\"],[1.0,\"#f0f921\"]]}],\"surface\":[{\"type\":\"surface\",\"colorbar\":{\"outlinewidth\":0,\"ticks\":\"\"},\"colorscale\":[[0.0,\"#0d0887\"],[0.1111111111111111,\"#46039f\"],[0.2222222222222222,\"#7201a8\"],[0.3333333333333333,\"#9c179e\"],[0.4444444444444444,\"#bd3786\"],[0.5555555555555556,\"#d8576b\"],[0.6666666666666666,\"#ed7953\"],[0.7777777777777778,\"#fb9f3a\"],[0.8888888888888888,\"#fdca26\"],[1.0,\"#f0f921\"]]}],\"mesh3d\":[{\"type\":\"mesh3d\",\"colorbar\":{\"outlinewidth\":0,\"ticks\":\"\"}}],\"scatter\":[{\"fillpattern\":{\"fillmode\":\"overlay\",\"size\":10,\"solidity\":0.2},\"type\":\"scatter\"}],\"parcoords\":[{\"type\":\"parcoords\",\"line\":{\"colorbar\":{\"outlinewidth\":0,\"ticks\":\"\"}}}],\"scatterpolargl\":[{\"type\":\"scatterpolargl\",\"marker\":{\"colorbar\":{\"outlinewidth\":0,\"ticks\":\"\"}}}],\"bar\":[{\"error_x\":{\"color\":\"#2a3f5f\"},\"error_y\":{\"color\":\"#2a3f5f\"},\"marker\":{\"line\":{\"color\":\"#E5ECF6\",\"width\":0.5},\"pattern\":{\"fillmode\":\"overlay\",\"size\":10,\"solidity\":0.2}},\"type\":\"bar\"}],\"scattergeo\":[{\"type\":\"scattergeo\",\"marker\":{\"colorbar\":{\"outlinewidth\":0,\"ticks\":\"\"}}}],\"scatterpolar\":[{\"type\":\"scatterpolar\",\"marker\":{\"colorbar\":{\"outlinewidth\":0,\"ticks\":\"\"}}}],\"histogram\":[{\"marker\":{\"pattern\":{\"fillmode\":\"overlay\",\"size\":10,\"solidity\":0.2}},\"type\":\"histogram\"}],\"scattergl\":[{\"type\":\"scattergl\",\"marker\":{\"colorbar\":{\"outlinewidth\":0,\"ticks\":\"\"}}}],\"scatter3d\":[{\"type\":\"scatter3d\",\"line\":{\"colorbar\":{\"outlinewidth\":0,\"ticks\":\"\"}},\"marker\":{\"colorbar\":{\"outlinewidth\":0,\"ticks\":\"\"}}}],\"scattermapbox\":[{\"type\":\"scattermapbox\",\"marker\":{\"colorbar\":{\"outlinewidth\":0,\"ticks\":\"\"}}}],\"scatterternary\":[{\"type\":\"scatterternary\",\"marker\":{\"colorbar\":{\"outlinewidth\":0,\"ticks\":\"\"}}}],\"scattercarpet\":[{\"type\":\"scattercarpet\",\"marker\":{\"colorbar\":{\"outlinewidth\":0,\"ticks\":\"\"}}}],\"carpet\":[{\"aaxis\":{\"endlinecolor\":\"#2a3f5f\",\"gridcolor\":\"white\",\"linecolor\":\"white\",\"minorgridcolor\":\"white\",\"startlinecolor\":\"#2a3f5f\"},\"baxis\":{\"endlinecolor\":\"#2a3f5f\",\"gridcolor\":\"white\",\"linecolor\":\"white\",\"minorgridcolor\":\"white\",\"startlinecolor\":\"#2a3f5f\"},\"type\":\"carpet\"}],\"table\":[{\"cells\":{\"fill\":{\"color\":\"#EBF0F8\"},\"line\":{\"color\":\"white\"}},\"header\":{\"fill\":{\"color\":\"#C8D4E3\"},\"line\":{\"color\":\"white\"}},\"type\":\"table\"}],\"barpolar\":[{\"marker\":{\"line\":{\"color\":\"#E5ECF6\",\"width\":0.5},\"pattern\":{\"fillmode\":\"overlay\",\"size\":10,\"solidity\":0.2}},\"type\":\"barpolar\"}],\"pie\":[{\"automargin\":true,\"type\":\"pie\"}]},\"layout\":{\"autotypenumbers\":\"strict\",\"colorway\":[\"#636efa\",\"#EF553B\",\"#00cc96\",\"#ab63fa\",\"#FFA15A\",\"#19d3f3\",\"#FF6692\",\"#B6E880\",\"#FF97FF\",\"#FECB52\"],\"font\":{\"color\":\"#2a3f5f\"},\"hovermode\":\"closest\",\"hoverlabel\":{\"align\":\"left\"},\"paper_bgcolor\":\"white\",\"plot_bgcolor\":\"#E5ECF6\",\"polar\":{\"bgcolor\":\"#E5ECF6\",\"angularaxis\":{\"gridcolor\":\"white\",\"linecolor\":\"white\",\"ticks\":\"\"},\"radialaxis\":{\"gridcolor\":\"white\",\"linecolor\":\"white\",\"ticks\":\"\"}},\"ternary\":{\"bgcolor\":\"#E5ECF6\",\"aaxis\":{\"gridcolor\":\"white\",\"linecolor\":\"white\",\"ticks\":\"\"},\"baxis\":{\"gridcolor\":\"white\",\"linecolor\":\"white\",\"ticks\":\"\"},\"caxis\":{\"gridcolor\":\"white\",\"linecolor\":\"white\",\"ticks\":\"\"}},\"coloraxis\":{\"colorbar\":{\"outlinewidth\":0,\"ticks\":\"\"}},\"colorscale\":{\"sequential\":[[0.0,\"#0d0887\"],[0.1111111111111111,\"#46039f\"],[0.2222222222222222,\"#7201a8\"],[0.3333333333333333,\"#9c179e\"],[0.4444444444444444,\"#bd3786\"],[0.5555555555555556,\"#d8576b\"],[0.6666666666666666,\"#ed7953\"],[0.7777777777777778,\"#fb9f3a\"],[0.8888888888888888,\"#fdca26\"],[1.0,\"#f0f921\"]],\"sequentialminus\":[[0.0,\"#0d0887\"],[0.1111111111111111,\"#46039f\"],[0.2222222222222222,\"#7201a8\"],[0.3333333333333333,\"#9c179e\"],[0.4444444444444444,\"#bd3786\"],[0.5555555555555556,\"#d8576b\"],[0.6666666666666666,\"#ed7953\"],[0.7777777777777778,\"#fb9f3a\"],[0.8888888888888888,\"#fdca26\"],[1.0,\"#f0f921\"]],\"diverging\":[[0,\"#8e0152\"],[0.1,\"#c51b7d\"],[0.2,\"#de77ae\"],[0.3,\"#f1b6da\"],[0.4,\"#fde0ef\"],[0.5,\"#f7f7f7\"],[0.6,\"#e6f5d0\"],[0.7,\"#b8e186\"],[0.8,\"#7fbc41\"],[0.9,\"#4d9221\"],[1,\"#276419\"]]},\"xaxis\":{\"gridcolor\":\"white\",\"linecolor\":\"white\",\"ticks\":\"\",\"title\":{\"standoff\":15},\"zerolinecolor\":\"white\",\"automargin\":true,\"zerolinewidth\":2},\"yaxis\":{\"gridcolor\":\"white\",\"linecolor\":\"white\",\"ticks\":\"\",\"title\":{\"standoff\":15},\"zerolinecolor\":\"white\",\"automargin\":true,\"zerolinewidth\":2},\"scene\":{\"xaxis\":{\"backgroundcolor\":\"#E5ECF6\",\"gridcolor\":\"white\",\"linecolor\":\"white\",\"showbackground\":true,\"ticks\":\"\",\"zerolinecolor\":\"white\",\"gridwidth\":2},\"yaxis\":{\"backgroundcolor\":\"#E5ECF6\",\"gridcolor\":\"white\",\"linecolor\":\"white\",\"showbackground\":true,\"ticks\":\"\",\"zerolinecolor\":\"white\",\"gridwidth\":2},\"zaxis\":{\"backgroundcolor\":\"#E5ECF6\",\"gridcolor\":\"white\",\"linecolor\":\"white\",\"showbackground\":true,\"ticks\":\"\",\"zerolinecolor\":\"white\",\"gridwidth\":2}},\"shapedefaults\":{\"line\":{\"color\":\"#2a3f5f\"}},\"annotationdefaults\":{\"arrowcolor\":\"#2a3f5f\",\"arrowhead\":0,\"arrowwidth\":1},\"geo\":{\"bgcolor\":\"white\",\"landcolor\":\"#E5ECF6\",\"subunitcolor\":\"white\",\"showland\":true,\"showlakes\":true,\"lakecolor\":\"white\"},\"title\":{\"x\":0.05},\"mapbox\":{\"style\":\"light\"}}}},                        {\"responsive\": true}                    ).then(function(){\n",
       "                            \n",
       "var gd = document.getElementById('c0ecf02c-92fb-40d8-85ad-70215886cab9');\n",
       "var x = new MutationObserver(function (mutations, observer) {{\n",
       "        var display = window.getComputedStyle(gd).display;\n",
       "        if (!display || display === 'none') {{\n",
       "            console.log([gd, 'removed!']);\n",
       "            Plotly.purge(gd);\n",
       "            observer.disconnect();\n",
       "        }}\n",
       "}});\n",
       "\n",
       "// Listen for the removal of the full notebook cells\n",
       "var notebookContainer = gd.closest('#notebook-container');\n",
       "if (notebookContainer) {{\n",
       "    x.observe(notebookContainer, {childList: true});\n",
       "}}\n",
       "\n",
       "// Listen for the clearing of the current output cell\n",
       "var outputEl = gd.closest('.output');\n",
       "if (outputEl) {{\n",
       "    x.observe(outputEl, {childList: true});\n",
       "}}\n",
       "\n",
       "                        })                };                });            </script>        </div>"
      ]
     },
     "metadata": {},
     "output_type": "display_data"
    }
   ],
   "source": [
    "#dendrogram\n",
    "fig=ff.create_dendrogram(df_iris_pca, color_threshold=0)\n",
    "fig.update_layout(width=800, height=500)\n",
    "fig.show()"
   ]
  },
  {
   "cell_type": "code",
   "execution_count": 29,
   "id": "5677cb0e",
   "metadata": {},
   "outputs": [],
   "source": [
    "agg= AgglomerativeClustering(n_clusters=3)\n",
    "model=agg.fit(df_iris_pca)"
   ]
  },
  {
   "cell_type": "code",
   "execution_count": 30,
   "id": "ec0e7920",
   "metadata": {},
   "outputs": [
    {
     "data": {},
     "metadata": {},
     "output_type": "display_data"
    },
    {
     "data": {
      "application/vnd.holoviews_exec.v0+json": "",
      "text/html": [
       "<div id='1198'>\n",
       "  <div class=\"bk-root\" id=\"6cfba5e9-af63-4421-ba7e-aaa5cf20f93e\" data-root-id=\"1198\"></div>\n",
       "</div>\n",
       "<script type=\"application/javascript\">(function(root) {\n",
       "  function embed_document(root) {\n",
       "    var docs_json = {\"2ae521af-3c44-4e5d-b97a-8f93fa561155\":{\"defs\":[{\"extends\":null,\"module\":null,\"name\":\"ReactiveHTML1\",\"overrides\":[],\"properties\":[]},{\"extends\":null,\"module\":null,\"name\":\"FlexBox1\",\"overrides\":[],\"properties\":[{\"default\":\"flex-start\",\"kind\":null,\"name\":\"align_content\"},{\"default\":\"flex-start\",\"kind\":null,\"name\":\"align_items\"},{\"default\":\"row\",\"kind\":null,\"name\":\"flex_direction\"},{\"default\":\"wrap\",\"kind\":null,\"name\":\"flex_wrap\"},{\"default\":\"flex-start\",\"kind\":null,\"name\":\"justify_content\"}]},{\"extends\":null,\"module\":null,\"name\":\"GridStack1\",\"overrides\":[],\"properties\":[{\"default\":\"warn\",\"kind\":null,\"name\":\"mode\"},{\"default\":null,\"kind\":null,\"name\":\"ncols\"},{\"default\":null,\"kind\":null,\"name\":\"nrows\"},{\"default\":true,\"kind\":null,\"name\":\"allow_resize\"},{\"default\":true,\"kind\":null,\"name\":\"allow_drag\"},{\"default\":[],\"kind\":null,\"name\":\"state\"}]},{\"extends\":null,\"module\":null,\"name\":\"click1\",\"overrides\":[],\"properties\":[{\"default\":\"\",\"kind\":null,\"name\":\"terminal_output\"},{\"default\":\"\",\"kind\":null,\"name\":\"debug_name\"},{\"default\":0,\"kind\":null,\"name\":\"clears\"}]},{\"extends\":null,\"module\":null,\"name\":\"NotificationAreaBase1\",\"overrides\":[],\"properties\":[{\"default\":\"bottom-right\",\"kind\":null,\"name\":\"position\"},{\"default\":0,\"kind\":null,\"name\":\"_clear\"}]},{\"extends\":null,\"module\":null,\"name\":\"NotificationArea1\",\"overrides\":[],\"properties\":[{\"default\":[],\"kind\":null,\"name\":\"notifications\"},{\"default\":\"bottom-right\",\"kind\":null,\"name\":\"position\"},{\"default\":0,\"kind\":null,\"name\":\"_clear\"},{\"default\":[{\"background\":\"#ffc107\",\"icon\":{\"className\":\"fas fa-exclamation-triangle\",\"color\":\"white\",\"tagName\":\"i\"},\"type\":\"warning\"},{\"background\":\"#007bff\",\"icon\":{\"className\":\"fas fa-info-circle\",\"color\":\"white\",\"tagName\":\"i\"},\"type\":\"info\"}],\"kind\":null,\"name\":\"types\"}]},{\"extends\":null,\"module\":null,\"name\":\"Notification\",\"overrides\":[],\"properties\":[{\"default\":null,\"kind\":null,\"name\":\"background\"},{\"default\":3000,\"kind\":null,\"name\":\"duration\"},{\"default\":null,\"kind\":null,\"name\":\"icon\"},{\"default\":\"\",\"kind\":null,\"name\":\"message\"},{\"default\":null,\"kind\":null,\"name\":\"notification_type\"},{\"default\":false,\"kind\":null,\"name\":\"_destroyed\"}]},{\"extends\":null,\"module\":null,\"name\":\"TemplateActions1\",\"overrides\":[],\"properties\":[{\"default\":0,\"kind\":null,\"name\":\"open_modal\"},{\"default\":0,\"kind\":null,\"name\":\"close_modal\"}]},{\"extends\":null,\"module\":null,\"name\":\"MaterialTemplateActions1\",\"overrides\":[],\"properties\":[{\"default\":0,\"kind\":null,\"name\":\"open_modal\"},{\"default\":0,\"kind\":null,\"name\":\"close_modal\"}]}],\"roots\":{\"references\":[{\"attributes\":{},\"id\":\"1212\",\"type\":\"LinearScale\"},{\"attributes\":{\"angle\":{\"value\":0.0},\"fill_alpha\":{\"value\":1.0},\"fill_color\":{\"value\":\"#30a2da\"},\"hatch_alpha\":{\"value\":1.0},\"hatch_color\":{\"value\":\"#30a2da\"},\"hatch_scale\":{\"value\":12.0},\"hatch_weight\":{\"value\":1.0},\"line_alpha\":{\"value\":1.0},\"line_cap\":{\"value\":\"butt\"},\"line_color\":{\"value\":\"#30a2da\"},\"line_dash\":{\"value\":[]},\"line_dash_offset\":{\"value\":0},\"line_join\":{\"value\":\"bevel\"},\"line_width\":{\"value\":1},\"marker\":{\"value\":\"circle\"},\"size\":{\"value\":5.477225575051661},\"x\":{\"field\":\"principal component 1\"},\"y\":{\"field\":\"principal component 2\"}},\"id\":\"1261\",\"type\":\"Scatter\"},{\"attributes\":{},\"id\":\"1239\",\"type\":\"BasicTickFormatter\"},{\"attributes\":{\"callback\":null,\"renderers\":[{\"id\":\"1247\"},{\"id\":\"1268\"},{\"id\":\"1290\"}],\"tags\":[\"hv_created\"],\"tooltips\":[[\"class\",\"@{class}\"],[\"principal component 1\",\"@{principal_component_1}\"],[\"principal component 2\",\"@{principal_component_2}\"]]},\"id\":\"1202\",\"type\":\"HoverTool\"},{\"attributes\":{},\"id\":\"1215\",\"type\":\"BasicTicker\"},{\"attributes\":{},\"id\":\"1285\",\"type\":\"Selection\"},{\"attributes\":{\"fill_alpha\":{\"value\":0.2},\"fill_color\":{\"value\":\"#fc4f30\"},\"hatch_alpha\":{\"value\":0.2},\"hatch_color\":{\"value\":\"#fc4f30\"},\"line_alpha\":{\"value\":0.2},\"line_color\":{\"value\":\"#fc4f30\"},\"size\":{\"value\":5.477225575051661},\"x\":{\"field\":\"principal component 1\"},\"y\":{\"field\":\"principal component 2\"}},\"id\":\"1267\",\"type\":\"Scatter\"},{\"attributes\":{\"axis\":{\"id\":\"1214\"},\"coordinates\":null,\"grid_line_color\":null,\"group\":null,\"ticker\":null},\"id\":\"1217\",\"type\":\"Grid\"},{\"attributes\":{},\"id\":\"1279\",\"type\":\"UnionRenderers\"},{\"attributes\":{\"margin\":[5,5,5,5],\"name\":\"HSpacer01139\",\"sizing_mode\":\"stretch_width\"},\"id\":\"1322\",\"type\":\"Spacer\"},{\"attributes\":{\"coordinates\":null,\"data_source\":{\"id\":\"1241\"},\"glyph\":{\"id\":\"1244\"},\"group\":null,\"hover_glyph\":null,\"muted_glyph\":{\"id\":\"1246\"},\"nonselection_glyph\":{\"id\":\"1245\"},\"selection_glyph\":{\"id\":\"1261\"},\"view\":{\"id\":\"1248\"}},\"id\":\"1247\",\"type\":\"GlyphRenderer\"},{\"attributes\":{\"data\":{\"class\":{\"__ndarray__\":\"AgAAAAIAAAACAAAAAgAAAAIAAAACAAAAAgAAAAIAAAACAAAAAgAAAAIAAAACAAAAAgAAAAIAAAACAAAAAgAAAAIAAAACAAAAAgAAAAIAAAACAAAAAgAAAAIAAAACAAAAAgAAAAIAAAACAAAAAgAAAAIAAAACAAAAAgAAAAIAAAACAAAAAgAAAAIAAAACAAAAAgAAAAIAAAACAAAAAgAAAAIAAAACAAAAAgAAAAIAAAACAAAAAgAAAAIAAAA=\",\"dtype\":\"int32\",\"order\":\"little\",\"shape\":[47]},\"principal component 1\":{\"__ndarray__\":\"dZicP/Wp8T/qdLjqfHDnP0tUdjeu3/M/kH2nUXn15z+Et9eWSwfsPwTqCkTLn+c/a4kX1wP06z/sYaNJSxH0PxhwyrRZu/U/YyqW1lWi2z+nboqoZcrwP2JoZCMRkP0/XqOtkJqmAUCvkwP82gT3P8Sof1zh4v0/c0K5SJgIBkDnZzhbjmwCQPUm68uNAwBAIk9oqvMjAkBui3vYw9r1P6wQOb/Elfk/PK6UReUl/j8Y0QQIDXj5P3odkBhdivc/Q/YnSsB/A0AzhisDH3kKQJbn9rPvUgBAOC4taDwvB0BEqLnnkUT7P6gJnj3aUv8/H9Lu7wVR8D+d2hYHfpP8P4EbVl0h1v0/i/hsDuZ7A0A0tjE3VocCQGotB9QUxP0/j042KVhoBkCy+a/eUEj5P+/OTXR+jfU/PwUQICao/T8PDMQGFyEAQLtqwqkqc/4/OQ5TGLJYAEC7eb2NdgMAQPHgNY2o7f0/+IJComFV+D8P9OTEsgX2Pw==\",\"dtype\":\"float64\",\"order\":\"little\",\"shape\":[47]},\"principal component 2\":{\"__ndarray__\":\"1nb2/Z2e6z8aPDfKBSjjP9bNPSGgrOM/sl+rWRnr6D9iOXqk51HgP41BqiETwtk/XZ7yIJwL0D8AiLBClya1vz8teShkC9U/DAg+Gkhd6z+/k6QJ17XgP4Asy2Xw5Os/B8TpFji+4T+dlDOr+pqpv+xEGSLnotI/nwetLdY66T9NO0mDhTXaP7CQnq/nKee/u42XATu+/j8zoQKF0jTmP2x9L85taNu/bKdDi22E2j8vfGgVRqrlPzM3rDJONNA/fzlsMT10BEA1i6QTDFhjvz50hSJpCe0/a5KR42l12T+PWt+y8znwP5yAK36oDfA/Y6j7cmzHsD/rvEvBKb3Iv4/kXX2vxeE/yV7ipF+Szz8j4TWwbAIFQJWBO1NYo8e/SCs1XS0I6z+kj2oE2yjxPxr8A+M9Bts/uaTAq3yE5T/X+zteX4jjP9x2Ilnq8+U/tyJfoH+r6z86eOdp3MbwP/RDMiongNg/eNtvjSkT0T8dLdG5BEPwPw==\",\"dtype\":\"float64\",\"order\":\"little\",\"shape\":[47]},\"principal_component_1\":{\"__ndarray__\":\"dZicP/Wp8T/qdLjqfHDnP0tUdjeu3/M/kH2nUXn15z+Et9eWSwfsPwTqCkTLn+c/a4kX1wP06z/sYaNJSxH0PxhwyrRZu/U/YyqW1lWi2z+nboqoZcrwP2JoZCMRkP0/XqOtkJqmAUCvkwP82gT3P8Sof1zh4v0/c0K5SJgIBkDnZzhbjmwCQPUm68uNAwBAIk9oqvMjAkBui3vYw9r1P6wQOb/Elfk/PK6UReUl/j8Y0QQIDXj5P3odkBhdivc/Q/YnSsB/A0AzhisDH3kKQJbn9rPvUgBAOC4taDwvB0BEqLnnkUT7P6gJnj3aUv8/H9Lu7wVR8D+d2hYHfpP8P4EbVl0h1v0/i/hsDuZ7A0A0tjE3VocCQGotB9QUxP0/j042KVhoBkCy+a/eUEj5P+/OTXR+jfU/PwUQICao/T8PDMQGFyEAQLtqwqkqc/4/OQ5TGLJYAEC7eb2NdgMAQPHgNY2o7f0/+IJComFV+D8P9OTEsgX2Pw==\",\"dtype\":\"float64\",\"order\":\"little\",\"shape\":[47]},\"principal_component_2\":{\"__ndarray__\":\"1nb2/Z2e6z8aPDfKBSjjP9bNPSGgrOM/sl+rWRnr6D9iOXqk51HgP41BqiETwtk/XZ7yIJwL0D8AiLBClya1vz8teShkC9U/DAg+Gkhd6z+/k6QJ17XgP4Asy2Xw5Os/B8TpFji+4T+dlDOr+pqpv+xEGSLnotI/nwetLdY66T9NO0mDhTXaP7CQnq/nKee/u42XATu+/j8zoQKF0jTmP2x9L85taNu/bKdDi22E2j8vfGgVRqrlPzM3rDJONNA/fzlsMT10BEA1i6QTDFhjvz50hSJpCe0/a5KR42l12T+PWt+y8znwP5yAK36oDfA/Y6j7cmzHsD/rvEvBKb3Iv4/kXX2vxeE/yV7ipF+Szz8j4TWwbAIFQJWBO1NYo8e/SCs1XS0I6z+kj2oE2yjxPxr8A+M9Bts/uaTAq3yE5T/X+zteX4jjP9x2Ilnq8+U/tyJfoH+r6z86eOdp3MbwP/RDMiongNg/eNtvjSkT0T8dLdG5BEPwPw==\",\"dtype\":\"float64\",\"order\":\"little\",\"shape\":[47]}},\"selected\":{\"id\":\"1285\"},\"selection_policy\":{\"id\":\"1303\"}},\"id\":\"1284\",\"type\":\"ColumnDataSource\"},{\"attributes\":{\"fill_color\":{\"value\":\"#e5ae38\"},\"hatch_color\":{\"value\":\"#e5ae38\"},\"line_color\":{\"value\":\"#e5ae38\"},\"size\":{\"value\":5.477225575051661},\"x\":{\"field\":\"principal component 1\"},\"y\":{\"field\":\"principal component 2\"}},\"id\":\"1287\",\"type\":\"Scatter\"},{\"attributes\":{},\"id\":\"1219\",\"type\":\"BasicTicker\"},{\"attributes\":{\"below\":[{\"id\":\"1214\"}],\"center\":[{\"id\":\"1217\"},{\"id\":\"1221\"}],\"height\":300,\"left\":[{\"id\":\"1218\"}],\"margin\":[5,5,5,5],\"min_border_bottom\":10,\"min_border_left\":10,\"min_border_right\":10,\"min_border_top\":10,\"renderers\":[{\"id\":\"1247\"},{\"id\":\"1268\"},{\"id\":\"1290\"}],\"right\":[{\"id\":\"1259\"}],\"sizing_mode\":\"fixed\",\"title\":{\"id\":\"1206\"},\"toolbar\":{\"id\":\"1228\"},\"width\":700,\"x_range\":{\"id\":\"1200\"},\"x_scale\":{\"id\":\"1210\"},\"y_range\":{\"id\":\"1201\"},\"y_scale\":{\"id\":\"1212\"}},\"id\":\"1205\",\"subtype\":\"Figure\",\"type\":\"Plot\"},{\"attributes\":{\"axis_label\":\"principal component 2\",\"coordinates\":null,\"formatter\":{\"id\":\"1239\"},\"group\":null,\"major_label_policy\":{\"id\":\"1240\"},\"ticker\":{\"id\":\"1219\"}},\"id\":\"1218\",\"type\":\"LinearAxis\"},{\"attributes\":{},\"id\":\"1256\",\"type\":\"UnionRenderers\"},{\"attributes\":{\"fill_alpha\":{\"value\":0.1},\"fill_color\":{\"value\":\"#e5ae38\"},\"hatch_alpha\":{\"value\":0.1},\"hatch_color\":{\"value\":\"#e5ae38\"},\"line_alpha\":{\"value\":0.1},\"line_color\":{\"value\":\"#e5ae38\"},\"size\":{\"value\":5.477225575051661},\"x\":{\"field\":\"principal component 1\"},\"y\":{\"field\":\"principal component 2\"}},\"id\":\"1288\",\"type\":\"Scatter\"},{\"attributes\":{\"fill_alpha\":{\"value\":0.2},\"fill_color\":{\"value\":\"#30a2da\"},\"hatch_alpha\":{\"value\":0.2},\"hatch_color\":{\"value\":\"#30a2da\"},\"line_alpha\":{\"value\":0.2},\"line_color\":{\"value\":\"#30a2da\"},\"size\":{\"value\":5.477225575051661},\"x\":{\"field\":\"principal component 1\"},\"y\":{\"field\":\"principal component 2\"}},\"id\":\"1246\",\"type\":\"Scatter\"},{\"attributes\":{\"label\":{\"value\":\"2\"},\"renderers\":[{\"id\":\"1290\"}]},\"id\":\"1306\",\"type\":\"LegendItem\"},{\"attributes\":{\"coordinates\":null,\"data_source\":{\"id\":\"1262\"},\"glyph\":{\"id\":\"1265\"},\"group\":null,\"hover_glyph\":null,\"muted_glyph\":{\"id\":\"1267\"},\"nonselection_glyph\":{\"id\":\"1266\"},\"selection_glyph\":{\"id\":\"1283\"},\"view\":{\"id\":\"1269\"}},\"id\":\"1268\",\"type\":\"GlyphRenderer\"},{\"attributes\":{\"data\":{\"class\":{\"__ndarray__\":\"AQAAAAEAAAABAAAAAQAAAAEAAAABAAAAAQAAAAEAAAABAAAAAQAAAAEAAAABAAAAAQAAAAEAAAABAAAAAQAAAAEAAAABAAAAAQAAAAEAAAABAAAAAQAAAAEAAAABAAAAAQAAAAEAAAABAAAAAQAAAAEAAAABAAAAAQAAAAEAAAABAAAAAQAAAAEAAAABAAAAAQAAAAEAAAABAAAAAQAAAAEAAAABAAAAAQAAAAEAAAABAAAAAQAAAAEAAAABAAAAAQAAAAEAAAABAAAAAQAAAAEAAAA=\",\"dtype\":\"int32\",\"order\":\"little\",\"shape\":[53]},\"principal component 1\":{\"__ndarray__\":\"dRWMhntt2T9JnJZFWCnxP2WBHlf2mtg//f4dZv7c379yGywXnaPtP4O/kDZaWXQ/M96FPizsv7+uz+h8JxTcP1NNsk78puE/OUUqJwTz5j/Oz63ghxOjv5hu06S8RdY/3rIv7V2iwz9n6iTH4XHzPyjYZACmFsQ/Wq1SDE473j8RyjX41qXzP4wxy7fjI+Q/HNCK7kVq5j8ehVUnIzDlP9kb1FJINai/Nj98rN0cvz9lj1g5BOqMPxrf6GWaNc4/Ds1ZRTXo8D+UsJMoZVfMP8+bvwf1kvA/rV4TnFcrsT9vNwN1kKDRP8F9yQ7wbdE/po3+VwPx4z+z3kvRzh7VP9fEFNWD6de/1iTllsIb0j8oX21EL8y2P/8jQhu5t8w/9ARG5kBd4j/pjFDrsj/dv9yA0gDGJNA/3V8IKHdz8j/soUp+m+/WP1n35HGkDPQ/GuKIxsts9z/7RPpdThD0P4pitwdQKu8/9IqkmmBE9T9ifP3wHsDyP9/2a9zEx/E/KTazatUo8z+XvvFQw4ztP91fCCh3c/I/SdVbMZXv+D832SvtkrLuPw==\",\"dtype\":\"float64\",\"order\":\"little\",\"shape\":[53]},\"principal component 2\":{\"__ndarray__\":\"j80hw3Uh/L+EAFcJ4hrLv/EVlNb76eK/YpSza/eU/b9BjGFUCw+fP+jLA01tePC/84KEXbZDBcDB9gYTsCWuv0bNqHx+XPy/1Xstxk+8x78uLLY26rLbvw++JkVKZsi/lInUeJ9N6b9h5T6HOSL6v71Ai9CC2fS/sgipiLWp2r9Fr8dW+Rvuv+PFU70Krdq/BDfCViNBsL9iGdg+X7fMv2gFEZBX6vC/a8J8cXkE+b9s1i92nSz5v0WekB1e1Oi/DS0SzX5h5L9/bj2aaPnRv7mLs++KR/a/j8do/yc3y78+ZwsN7Ub1vyYJ/oM76fG/18Ud1SI0nD9o68QlE6Xvv83C5Ku5JADApEs7dJBT67+sjkY+Z2PGv0/2R1TcWdi/gDq1mhitw7+1+86JpaH4v6Z6HI5KEeO/TwhbdkNx5r8+lg29Jfb4v5ExaImirfK/sa9g7els3L9OKnQyOXv7v0bNWXwPR+K/RGwdsBUn37/G2YlbzWjUv/6TgLFv8dK/S6/b9jwm6r8mAFtSILGTP08IW3ZDcea/wlrVOlT47L+LCiw2mtGWvw==\",\"dtype\":\"float64\",\"order\":\"little\",\"shape\":[53]},\"principal_component_1\":{\"__ndarray__\":\"dRWMhntt2T9JnJZFWCnxP2WBHlf2mtg//f4dZv7c379yGywXnaPtP4O/kDZaWXQ/M96FPizsv7+uz+h8JxTcP1NNsk78puE/OUUqJwTz5j/Oz63ghxOjv5hu06S8RdY/3rIv7V2iwz9n6iTH4XHzPyjYZACmFsQ/Wq1SDE473j8RyjX41qXzP4wxy7fjI+Q/HNCK7kVq5j8ehVUnIzDlP9kb1FJINai/Nj98rN0cvz9lj1g5BOqMPxrf6GWaNc4/Ds1ZRTXo8D+UsJMoZVfMP8+bvwf1kvA/rV4TnFcrsT9vNwN1kKDRP8F9yQ7wbdE/po3+VwPx4z+z3kvRzh7VP9fEFNWD6de/1iTllsIb0j8oX21EL8y2P/8jQhu5t8w/9ARG5kBd4j/pjFDrsj/dv9yA0gDGJNA/3V8IKHdz8j/soUp+m+/WP1n35HGkDPQ/GuKIxsts9z/7RPpdThD0P4pitwdQKu8/9IqkmmBE9T9ifP3wHsDyP9/2a9zEx/E/KTazatUo8z+XvvFQw4ztP91fCCh3c/I/SdVbMZXv+D832SvtkrLuPw==\",\"dtype\":\"float64\",\"order\":\"little\",\"shape\":[53]},\"principal_component_2\":{\"__ndarray__\":\"j80hw3Uh/L+EAFcJ4hrLv/EVlNb76eK/YpSza/eU/b9BjGFUCw+fP+jLA01tePC/84KEXbZDBcDB9gYTsCWuv0bNqHx+XPy/1Xstxk+8x78uLLY26rLbvw++JkVKZsi/lInUeJ9N6b9h5T6HOSL6v71Ai9CC2fS/sgipiLWp2r9Fr8dW+Rvuv+PFU70Krdq/BDfCViNBsL9iGdg+X7fMv2gFEZBX6vC/a8J8cXkE+b9s1i92nSz5v0WekB1e1Oi/DS0SzX5h5L9/bj2aaPnRv7mLs++KR/a/j8do/yc3y78+ZwsN7Ub1vyYJ/oM76fG/18Ud1SI0nD9o68QlE6Xvv83C5Ku5JADApEs7dJBT67+sjkY+Z2PGv0/2R1TcWdi/gDq1mhitw7+1+86JpaH4v6Z6HI5KEeO/TwhbdkNx5r8+lg29Jfb4v5ExaImirfK/sa9g7els3L9OKnQyOXv7v0bNWXwPR+K/RGwdsBUn37/G2YlbzWjUv/6TgLFv8dK/S6/b9jwm6r8mAFtSILGTP08IW3ZDcea/wlrVOlT47L+LCiw2mtGWvw==\",\"dtype\":\"float64\",\"order\":\"little\",\"shape\":[53]}},\"selected\":{\"id\":\"1263\"},\"selection_policy\":{\"id\":\"1279\"}},\"id\":\"1262\",\"type\":\"ColumnDataSource\"},{\"attributes\":{\"fill_alpha\":{\"value\":0.1},\"fill_color\":{\"value\":\"#30a2da\"},\"hatch_alpha\":{\"value\":0.1},\"hatch_color\":{\"value\":\"#30a2da\"},\"line_alpha\":{\"value\":0.1},\"line_color\":{\"value\":\"#30a2da\"},\"size\":{\"value\":5.477225575051661},\"x\":{\"field\":\"principal component 1\"},\"y\":{\"field\":\"principal component 2\"}},\"id\":\"1245\",\"type\":\"Scatter\"},{\"attributes\":{\"source\":{\"id\":\"1284\"}},\"id\":\"1291\",\"type\":\"CDSView\"},{\"attributes\":{},\"id\":\"1237\",\"type\":\"AllLabels\"},{\"attributes\":{\"margin\":[5,5,5,5],\"name\":\"HSpacer01138\",\"sizing_mode\":\"stretch_width\"},\"id\":\"1199\",\"type\":\"Spacer\"},{\"attributes\":{},\"id\":\"1303\",\"type\":\"UnionRenderers\"},{\"attributes\":{\"source\":{\"id\":\"1241\"}},\"id\":\"1248\",\"type\":\"CDSView\"},{\"attributes\":{},\"id\":\"1242\",\"type\":\"Selection\"},{\"attributes\":{\"fill_color\":{\"value\":\"#30a2da\"},\"hatch_color\":{\"value\":\"#30a2da\"},\"line_color\":{\"value\":\"#30a2da\"},\"size\":{\"value\":5.477225575051661},\"x\":{\"field\":\"principal component 1\"},\"y\":{\"field\":\"principal component 2\"}},\"id\":\"1244\",\"type\":\"Scatter\"},{\"attributes\":{},\"id\":\"1222\",\"type\":\"SaveTool\"},{\"attributes\":{},\"id\":\"1210\",\"type\":\"LinearScale\"},{\"attributes\":{\"angle\":{\"value\":0.0},\"fill_alpha\":{\"value\":1.0},\"fill_color\":{\"value\":\"#fc4f30\"},\"hatch_alpha\":{\"value\":1.0},\"hatch_color\":{\"value\":\"#fc4f30\"},\"hatch_scale\":{\"value\":12.0},\"hatch_weight\":{\"value\":1.0},\"line_alpha\":{\"value\":1.0},\"line_cap\":{\"value\":\"butt\"},\"line_color\":{\"value\":\"#fc4f30\"},\"line_dash\":{\"value\":[]},\"line_dash_offset\":{\"value\":0},\"line_join\":{\"value\":\"bevel\"},\"line_width\":{\"value\":1},\"marker\":{\"value\":\"circle\"},\"size\":{\"value\":5.477225575051661},\"x\":{\"field\":\"principal component 1\"},\"y\":{\"field\":\"principal component 2\"}},\"id\":\"1283\",\"type\":\"Scatter\"},{\"attributes\":{\"end\":3.569854510235276,\"reset_end\":3.569854510235276,\"reset_start\":-3.034883121264353,\"start\":-3.034883121264353,\"tags\":[[[\"principal component 1\",\"principal component 1\",null]]]},\"id\":\"1200\",\"type\":\"Range1d\"},{\"attributes\":{\"coordinates\":null,\"data_source\":{\"id\":\"1284\"},\"glyph\":{\"id\":\"1287\"},\"group\":null,\"hover_glyph\":null,\"muted_glyph\":{\"id\":\"1289\"},\"nonselection_glyph\":{\"id\":\"1288\"},\"selection_glyph\":{\"id\":\"1307\"},\"view\":{\"id\":\"1291\"}},\"id\":\"1290\",\"type\":\"GlyphRenderer\"},{\"attributes\":{},\"id\":\"1223\",\"type\":\"PanTool\"},{\"attributes\":{\"label\":{\"value\":\"0\"},\"renderers\":[{\"id\":\"1247\"}]},\"id\":\"1260\",\"type\":\"LegendItem\"},{\"attributes\":{\"children\":[{\"id\":\"1199\"},{\"id\":\"1205\"},{\"id\":\"1322\"}],\"margin\":[0,0,0,0],\"name\":\"Row01134\",\"tags\":[\"embedded\"]},\"id\":\"1198\",\"type\":\"Row\"},{\"attributes\":{},\"id\":\"1236\",\"type\":\"BasicTickFormatter\"},{\"attributes\":{\"fill_alpha\":{\"value\":0.1},\"fill_color\":{\"value\":\"#fc4f30\"},\"hatch_alpha\":{\"value\":0.1},\"hatch_color\":{\"value\":\"#fc4f30\"},\"line_alpha\":{\"value\":0.1},\"line_color\":{\"value\":\"#fc4f30\"},\"size\":{\"value\":5.477225575051661},\"x\":{\"field\":\"principal component 1\"},\"y\":{\"field\":\"principal component 2\"}},\"id\":\"1266\",\"type\":\"Scatter\"},{\"attributes\":{},\"id\":\"1224\",\"type\":\"WheelZoomTool\"},{\"attributes\":{\"coordinates\":null,\"group\":null,\"text_color\":\"black\",\"text_font_size\":\"12pt\"},\"id\":\"1206\",\"type\":\"Title\"},{\"attributes\":{\"label\":{\"value\":\"1\"},\"renderers\":[{\"id\":\"1268\"}]},\"id\":\"1282\",\"type\":\"LegendItem\"},{\"attributes\":{\"overlay\":{\"id\":\"1227\"}},\"id\":\"1225\",\"type\":\"BoxZoomTool\"},{\"attributes\":{\"source\":{\"id\":\"1262\"}},\"id\":\"1269\",\"type\":\"CDSView\"},{\"attributes\":{\"axis\":{\"id\":\"1218\"},\"coordinates\":null,\"dimension\":1,\"grid_line_color\":null,\"group\":null,\"ticker\":null},\"id\":\"1221\",\"type\":\"Grid\"},{\"attributes\":{\"fill_color\":{\"value\":\"#fc4f30\"},\"hatch_color\":{\"value\":\"#fc4f30\"},\"line_color\":{\"value\":\"#fc4f30\"},\"size\":{\"value\":5.477225575051661},\"x\":{\"field\":\"principal component 1\"},\"y\":{\"field\":\"principal component 2\"}},\"id\":\"1265\",\"type\":\"Scatter\"},{\"attributes\":{\"fill_alpha\":{\"value\":0.2},\"fill_color\":{\"value\":\"#e5ae38\"},\"hatch_alpha\":{\"value\":0.2},\"hatch_color\":{\"value\":\"#e5ae38\"},\"line_alpha\":{\"value\":0.2},\"line_color\":{\"value\":\"#e5ae38\"},\"size\":{\"value\":5.477225575051661},\"x\":{\"field\":\"principal component 1\"},\"y\":{\"field\":\"principal component 2\"}},\"id\":\"1289\",\"type\":\"Scatter\"},{\"attributes\":{},\"id\":\"1240\",\"type\":\"AllLabels\"},{\"attributes\":{\"axis_label\":\"principal component 1\",\"coordinates\":null,\"formatter\":{\"id\":\"1236\"},\"group\":null,\"major_label_policy\":{\"id\":\"1237\"},\"ticker\":{\"id\":\"1215\"}},\"id\":\"1214\",\"type\":\"LinearAxis\"},{\"attributes\":{\"data\":{\"class\":{\"__ndarray__\":\"AAAAAAAAAAAAAAAAAAAAAAAAAAAAAAAAAAAAAAAAAAAAAAAAAAAAAAAAAAAAAAAAAAAAAAAAAAAAAAAAAAAAAAAAAAAAAAAAAAAAAAAAAAAAAAAAAAAAAAAAAAAAAAAAAAAAAAAAAAAAAAAAAAAAAAAAAAAAAAAAAAAAAAAAAAAAAAAAAAAAAAAAAAAAAAAAAAAAAAAAAAAAAAAAAAAAAAAAAAAAAAAAAAAAAAAAAAAAAAAAAAAAAAAAAAAAAAAAAAAAAAAAAAA=\",\"dtype\":\"int32\",\"order\":\"little\",\"shape\":[50]},\"principal component 1\":{\"__ndarray__\":\"QBG/DcgdAsCiflXa/7AAwC8tSgGQ8QLArnjV6/5uAsB/OOBfNxwDwLMJAJp1kADA7VhZG9GQA8C7vPx66N4BwLvvZ05UvALA5NUzb2iCAcDGACQK0k4BwH+PWzp4ngLAbUHW4evKAcBzYBiPIx4FwOBkYiHQiQHA7cLFMQADAsDEicmkO58BwNTnRqd8hQHAErKL2CBO/r9wMd43N7gCwDou6+IFov6/KnpNIB2jAcAkHszufzEGwHWyHOBnIP2/dG9EsmPTAcBoStBn+E//v+kJWiugagDA0BcE6nVYAcD06Z27WB8BwCQNM3l7JgLA3+URJwwoAcCxCNRTnk/9v3aUD3eZ3QTAxoxIYeyAA8Dk1TNvaIIBwAbB4qBfsAHAqQtPDPdaAMDk1TNvaIIBwJ/dMoLUfAPAVSP02UddAcA84QHLzkoCwGRzDEaD8v2/YPlj5HF2BMD6iQQfsG3/v/qHnMYlEQHAoe7lFFWaAMDR+qMb0QwDwJNmoB9/LwPAK5osq3LQAcDejpZMy6UBwA==\",\"dtype\":\"float64\",\"order\":\"little\",\"shape\":[50]},\"principal component 2\":{\"__ndarray__\":\"Ze9787ku4D/dF8lWE/nkv2fYpqjuYdS/DCSQjGlp4r/T0afLsZflP7i+IZP5S/g/RCSoGooWsz92eXQ10LHPP80IOjG4hfG/g06pnFa23L9nMKXTKCHxPza/qP2XTMQ/o6o3kBix5r+EiXLvZwbuv9eryBtaPf4/krWrfGrHBUBdjF03Ujj4PzT+/04udeA/8kk0V9Tl9j8mpZIPTofyP2zAlsG9jNs/2PKSxId67j9Du+o4P1TfPx/WDBwFVLs/VO1BJITCxD+zYRod23Pjv2yqjuRgBtE/boxIfx6q4T/eGaA2hIvVP1pBWpX4JtS/QQayRej43r8Olx54QH/cP7VxJTRvQf0/w7Jwma57AUCDTqmcVrbcvxTn16FhmMe/seVDvSnr5T+DTqmcVrbcv3PEP1q7Ouy/d0SP1gm80j9VwmaGk/PdP31/28YcnwLAoO8l3FML3b9lssu+Q9XfP+zeGJkvvvI/+Iwv2S8k5r9SqsG4/WjyP8+ttwhpMde/du6vZGBo8D/v7UmWeoGgPw==\",\"dtype\":\"float64\",\"order\":\"little\",\"shape\":[50]},\"principal_component_1\":{\"__ndarray__\":\"QBG/DcgdAsCiflXa/7AAwC8tSgGQ8QLArnjV6/5uAsB/OOBfNxwDwLMJAJp1kADA7VhZG9GQA8C7vPx66N4BwLvvZ05UvALA5NUzb2iCAcDGACQK0k4BwH+PWzp4ngLAbUHW4evKAcBzYBiPIx4FwOBkYiHQiQHA7cLFMQADAsDEicmkO58BwNTnRqd8hQHAErKL2CBO/r9wMd43N7gCwDou6+IFov6/KnpNIB2jAcAkHszufzEGwHWyHOBnIP2/dG9EsmPTAcBoStBn+E//v+kJWiugagDA0BcE6nVYAcD06Z27WB8BwCQNM3l7JgLA3+URJwwoAcCxCNRTnk/9v3aUD3eZ3QTAxoxIYeyAA8Dk1TNvaIIBwAbB4qBfsAHAqQtPDPdaAMDk1TNvaIIBwJ/dMoLUfAPAVSP02UddAcA84QHLzkoCwGRzDEaD8v2/YPlj5HF2BMD6iQQfsG3/v/qHnMYlEQHAoe7lFFWaAMDR+qMb0QwDwJNmoB9/LwPAK5osq3LQAcDejpZMy6UBwA==\",\"dtype\":\"float64\",\"order\":\"little\",\"shape\":[50]},\"principal_component_2\":{\"__ndarray__\":\"Ze9787ku4D/dF8lWE/nkv2fYpqjuYdS/DCSQjGlp4r/T0afLsZflP7i+IZP5S/g/RCSoGooWsz92eXQ10LHPP80IOjG4hfG/g06pnFa23L9nMKXTKCHxPza/qP2XTMQ/o6o3kBix5r+EiXLvZwbuv9eryBtaPf4/krWrfGrHBUBdjF03Ujj4PzT+/04udeA/8kk0V9Tl9j8mpZIPTofyP2zAlsG9jNs/2PKSxId67j9Du+o4P1TfPx/WDBwFVLs/VO1BJITCxD+zYRod23Pjv2yqjuRgBtE/boxIfx6q4T/eGaA2hIvVP1pBWpX4JtS/QQayRej43r8Olx54QH/cP7VxJTRvQf0/w7Jwma57AUCDTqmcVrbcvxTn16FhmMe/seVDvSnr5T+DTqmcVrbcv3PEP1q7Ouy/d0SP1gm80j9VwmaGk/PdP31/28YcnwLAoO8l3FML3b9lssu+Q9XfP+zeGJkvvvI/+Iwv2S8k5r9SqsG4/WjyP8+ttwhpMde/du6vZGBo8D/v7UmWeoGgPw==\",\"dtype\":\"float64\",\"order\":\"little\",\"shape\":[50]}},\"selected\":{\"id\":\"1242\"},\"selection_policy\":{\"id\":\"1256\"}},\"id\":\"1241\",\"type\":\"ColumnDataSource\"},{\"attributes\":{\"angle\":{\"value\":0.0},\"fill_alpha\":{\"value\":1.0},\"fill_color\":{\"value\":\"#e5ae38\"},\"hatch_alpha\":{\"value\":1.0},\"hatch_color\":{\"value\":\"#e5ae38\"},\"hatch_scale\":{\"value\":12.0},\"hatch_weight\":{\"value\":1.0},\"line_alpha\":{\"value\":1.0},\"line_cap\":{\"value\":\"butt\"},\"line_color\":{\"value\":\"#e5ae38\"},\"line_dash\":{\"value\":[]},\"line_dash_offset\":{\"value\":0},\"line_join\":{\"value\":\"bevel\"},\"line_width\":{\"value\":1},\"marker\":{\"value\":\"circle\"},\"size\":{\"value\":5.477225575051661},\"x\":{\"field\":\"principal component 1\"},\"y\":{\"field\":\"principal component 2\"}},\"id\":\"1307\",\"type\":\"Scatter\"},{\"attributes\":{},\"id\":\"1226\",\"type\":\"ResetTool\"},{\"attributes\":{\"end\":3.260414452028092,\"reset_end\":3.260414452028092,\"reset_start\":-3.196106053415383,\"start\":-3.196106053415383,\"tags\":[[[\"principal component 2\",\"principal component 2\",null]]]},\"id\":\"1201\",\"type\":\"Range1d\"},{\"attributes\":{\"click_policy\":\"mute\",\"coordinates\":null,\"group\":null,\"items\":[{\"id\":\"1260\"},{\"id\":\"1282\"},{\"id\":\"1306\"}],\"location\":[0,0],\"title\":\"class\"},\"id\":\"1259\",\"type\":\"Legend\"},{\"attributes\":{\"bottom_units\":\"screen\",\"coordinates\":null,\"fill_alpha\":0.5,\"fill_color\":\"lightgrey\",\"group\":null,\"left_units\":\"screen\",\"level\":\"overlay\",\"line_alpha\":1.0,\"line_color\":\"black\",\"line_dash\":[4,4],\"line_width\":2,\"right_units\":\"screen\",\"syncable\":false,\"top_units\":\"screen\"},\"id\":\"1227\",\"type\":\"BoxAnnotation\"},{\"attributes\":{},\"id\":\"1263\",\"type\":\"Selection\"},{\"attributes\":{\"tools\":[{\"id\":\"1202\"},{\"id\":\"1222\"},{\"id\":\"1223\"},{\"id\":\"1224\"},{\"id\":\"1225\"},{\"id\":\"1226\"}]},\"id\":\"1228\",\"type\":\"Toolbar\"}],\"root_ids\":[\"1198\"]},\"title\":\"Bokeh Application\",\"version\":\"2.4.3\"}};\n",
       "    var render_items = [{\"docid\":\"2ae521af-3c44-4e5d-b97a-8f93fa561155\",\"root_ids\":[\"1198\"],\"roots\":{\"1198\":\"6cfba5e9-af63-4421-ba7e-aaa5cf20f93e\"}}];\n",
       "    root.Bokeh.embed.embed_items_notebook(docs_json, render_items);\n",
       "  }\n",
       "  if (root.Bokeh !== undefined && root.Bokeh.Panel !== undefined) {\n",
       "    embed_document(root);\n",
       "  } else {\n",
       "    var attempts = 0;\n",
       "    var timer = setInterval(function(root) {\n",
       "      if (root.Bokeh !== undefined && root.Bokeh.Panel !== undefined) {\n",
       "        clearInterval(timer);\n",
       "        embed_document(root);\n",
       "      } else if (document.readyState == \"complete\") {\n",
       "        attempts++;\n",
       "        if (attempts > 200) {\n",
       "          clearInterval(timer);\n",
       "          console.log(\"Bokeh: ERROR: Unable to run BokehJS code because BokehJS library is missing\");\n",
       "        }\n",
       "      }\n",
       "    }, 25, root)\n",
       "  }\n",
       "})(window);</script>"
      ],
      "text/plain": [
       ":NdOverlay   [class]\n",
       "   :Scatter   [principal component 1]   (principal component 2,class)"
      ]
     },
     "execution_count": 30,
     "metadata": {
      "application/vnd.holoviews_exec.v0+json": {
       "id": "1198"
      }
     },
     "output_type": "execute_result"
    }
   ],
   "source": [
    "df_iris_pca.hvplot.scatter(\n",
    "    x=\"principal component 1\",\n",
    "    y=\"principal component 2\",\n",
    "    hover_cols=[\"class\"],\n",
    "    by=\"class\",\n",
    ")"
   ]
  },
  {
   "cell_type": "code",
   "execution_count": null,
   "id": "26d76300",
   "metadata": {},
   "outputs": [],
   "source": []
  }
 ],
 "metadata": {
  "kernelspec": {
   "display_name": "mlenv",
   "language": "python",
   "name": "mlenv"
  },
  "language_info": {
   "codemirror_mode": {
    "name": "ipython",
    "version": 3
   },
   "file_extension": ".py",
   "mimetype": "text/x-python",
   "name": "python",
   "nbconvert_exporter": "python",
   "pygments_lexer": "ipython3",
   "version": "3.7.13"
  }
 },
 "nbformat": 4,
 "nbformat_minor": 5
}
